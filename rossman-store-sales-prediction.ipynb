{
 "cells": [
  {
   "cell_type": "code",
   "execution_count": 1,
   "id": "70cf212e",
   "metadata": {
    "_cell_guid": "b1076dfc-b9ad-4769-8c92-a6c4dae69d19",
    "_uuid": "8f2839f25d086af736a60e9eeb907d3b93b6e0e5",
    "execution": {
     "iopub.execute_input": "2022-03-03T11:55:28.550751Z",
     "iopub.status.busy": "2022-03-03T11:55:28.549662Z",
     "iopub.status.idle": "2022-03-03T11:55:28.560869Z",
     "shell.execute_reply": "2022-03-03T11:55:28.561362Z",
     "shell.execute_reply.started": "2022-03-03T10:16:45.108149Z"
    },
    "papermill": {
     "duration": 0.050738,
     "end_time": "2022-03-03T11:55:28.561642",
     "exception": false,
     "start_time": "2022-03-03T11:55:28.510904",
     "status": "completed"
    },
    "tags": []
   },
   "outputs": [
    {
     "name": "stdout",
     "output_type": "stream",
     "text": [
      "/kaggle/input/rossmann-store-sales/sample_submission.csv\n",
      "/kaggle/input/rossmann-store-sales/store.csv\n",
      "/kaggle/input/rossmann-store-sales/train.csv\n",
      "/kaggle/input/rossmann-store-sales/test.csv\n"
     ]
    }
   ],
   "source": [
    "# This Python 3 environment comes with many helpful analytics libraries installed\n",
    "# It is defined by the kaggle/python Docker image: https://github.com/kaggle/docker-python\n",
    "# For example, here's several helpful packages to load\n",
    "\n",
    "import numpy as np # linear algebra\n",
    "import pandas as pd # data processing, CSV file I/O (e.g. pd.read_csv)\n",
    "\n",
    "# Input data files are available in the read-only \"../input/\" directory\n",
    "# For example, running this (by clicking run or pressing Shift+Enter) will list all files under the input directory\n",
    "\n",
    "import os\n",
    "for dirname, _, filenames in os.walk('/kaggle/input'):\n",
    "    for filename in filenames:\n",
    "        print(os.path.join(dirname, filename))\n",
    "\n",
    "# You can write up to 20GB to the current directory (/kaggle/working/) that gets preserved as output when you create a version using \"Save & Run All\" \n",
    "# You can also write temporary files to /kaggle/temp/, but they won't be saved outside of the current session"
   ]
  },
  {
   "cell_type": "code",
   "execution_count": 2,
   "id": "67c21dfa",
   "metadata": {
    "execution": {
     "iopub.execute_input": "2022-03-03T11:55:28.634537Z",
     "iopub.status.busy": "2022-03-03T11:55:28.633591Z",
     "iopub.status.idle": "2022-03-03T11:55:29.873426Z",
     "shell.execute_reply": "2022-03-03T11:55:29.873909Z",
     "shell.execute_reply.started": "2022-03-03T10:16:45.128014Z"
    },
    "papermill": {
     "duration": 1.277659,
     "end_time": "2022-03-03T11:55:29.874090",
     "exception": false,
     "start_time": "2022-03-03T11:55:28.596431",
     "status": "completed"
    },
    "tags": []
   },
   "outputs": [
    {
     "name": "stderr",
     "output_type": "stream",
     "text": [
      "/opt/conda/lib/python3.7/site-packages/IPython/core/interactiveshell.py:3457: DtypeWarning: Columns (7) have mixed types.Specify dtype option on import or set low_memory=False.\n",
      "  exec(code_obj, self.user_global_ns, self.user_ns)\n"
     ]
    }
   ],
   "source": [
    "#Loading the Datasets\n",
    "stores = pd.read_csv(\"../input/rossmann-store-sales/store.csv\")\n",
    "\n",
    "train = pd.read_csv(\"../input/rossmann-store-sales/train.csv\", parse_dates = ['Date'])"
   ]
  },
  {
   "cell_type": "markdown",
   "id": "51a7a056",
   "metadata": {
    "papermill": {
     "duration": 0.034865,
     "end_time": "2022-03-03T11:55:29.945320",
     "exception": false,
     "start_time": "2022-03-03T11:55:29.910455",
     "status": "completed"
    },
    "tags": []
   },
   "source": [
    "# Exploratory Data Analysis"
   ]
  },
  {
   "cell_type": "code",
   "execution_count": 3,
   "id": "c0daaee1",
   "metadata": {
    "execution": {
     "iopub.execute_input": "2022-03-03T11:55:30.022086Z",
     "iopub.status.busy": "2022-03-03T11:55:30.021131Z",
     "iopub.status.idle": "2022-03-03T11:55:30.039142Z",
     "shell.execute_reply": "2022-03-03T11:55:30.039645Z",
     "shell.execute_reply.started": "2022-03-03T10:16:45.834527Z"
    },
    "papermill": {
     "duration": 0.060086,
     "end_time": "2022-03-03T11:55:30.039848",
     "exception": false,
     "start_time": "2022-03-03T11:55:29.979762",
     "status": "completed"
    },
    "tags": []
   },
   "outputs": [
    {
     "data": {
      "text/html": [
       "<div>\n",
       "<style scoped>\n",
       "    .dataframe tbody tr th:only-of-type {\n",
       "        vertical-align: middle;\n",
       "    }\n",
       "\n",
       "    .dataframe tbody tr th {\n",
       "        vertical-align: top;\n",
       "    }\n",
       "\n",
       "    .dataframe thead th {\n",
       "        text-align: right;\n",
       "    }\n",
       "</style>\n",
       "<table border=\"1\" class=\"dataframe\">\n",
       "  <thead>\n",
       "    <tr style=\"text-align: right;\">\n",
       "      <th></th>\n",
       "      <th>Store</th>\n",
       "      <th>StoreType</th>\n",
       "      <th>Assortment</th>\n",
       "      <th>CompetitionDistance</th>\n",
       "      <th>CompetitionOpenSinceMonth</th>\n",
       "      <th>CompetitionOpenSinceYear</th>\n",
       "      <th>Promo2</th>\n",
       "      <th>Promo2SinceWeek</th>\n",
       "      <th>Promo2SinceYear</th>\n",
       "      <th>PromoInterval</th>\n",
       "    </tr>\n",
       "  </thead>\n",
       "  <tbody>\n",
       "    <tr>\n",
       "      <th>0</th>\n",
       "      <td>1</td>\n",
       "      <td>c</td>\n",
       "      <td>a</td>\n",
       "      <td>1270.0</td>\n",
       "      <td>9.0</td>\n",
       "      <td>2008.0</td>\n",
       "      <td>0</td>\n",
       "      <td>NaN</td>\n",
       "      <td>NaN</td>\n",
       "      <td>NaN</td>\n",
       "    </tr>\n",
       "    <tr>\n",
       "      <th>1</th>\n",
       "      <td>2</td>\n",
       "      <td>a</td>\n",
       "      <td>a</td>\n",
       "      <td>570.0</td>\n",
       "      <td>11.0</td>\n",
       "      <td>2007.0</td>\n",
       "      <td>1</td>\n",
       "      <td>13.0</td>\n",
       "      <td>2010.0</td>\n",
       "      <td>Jan,Apr,Jul,Oct</td>\n",
       "    </tr>\n",
       "    <tr>\n",
       "      <th>2</th>\n",
       "      <td>3</td>\n",
       "      <td>a</td>\n",
       "      <td>a</td>\n",
       "      <td>14130.0</td>\n",
       "      <td>12.0</td>\n",
       "      <td>2006.0</td>\n",
       "      <td>1</td>\n",
       "      <td>14.0</td>\n",
       "      <td>2011.0</td>\n",
       "      <td>Jan,Apr,Jul,Oct</td>\n",
       "    </tr>\n",
       "    <tr>\n",
       "      <th>3</th>\n",
       "      <td>4</td>\n",
       "      <td>c</td>\n",
       "      <td>c</td>\n",
       "      <td>620.0</td>\n",
       "      <td>9.0</td>\n",
       "      <td>2009.0</td>\n",
       "      <td>0</td>\n",
       "      <td>NaN</td>\n",
       "      <td>NaN</td>\n",
       "      <td>NaN</td>\n",
       "    </tr>\n",
       "    <tr>\n",
       "      <th>4</th>\n",
       "      <td>5</td>\n",
       "      <td>a</td>\n",
       "      <td>a</td>\n",
       "      <td>29910.0</td>\n",
       "      <td>4.0</td>\n",
       "      <td>2015.0</td>\n",
       "      <td>0</td>\n",
       "      <td>NaN</td>\n",
       "      <td>NaN</td>\n",
       "      <td>NaN</td>\n",
       "    </tr>\n",
       "  </tbody>\n",
       "</table>\n",
       "</div>"
      ],
      "text/plain": [
       "   Store StoreType Assortment  CompetitionDistance  CompetitionOpenSinceMonth  \\\n",
       "0      1         c          a               1270.0                        9.0   \n",
       "1      2         a          a                570.0                       11.0   \n",
       "2      3         a          a              14130.0                       12.0   \n",
       "3      4         c          c                620.0                        9.0   \n",
       "4      5         a          a              29910.0                        4.0   \n",
       "\n",
       "   CompetitionOpenSinceYear  Promo2  Promo2SinceWeek  Promo2SinceYear  \\\n",
       "0                    2008.0       0              NaN              NaN   \n",
       "1                    2007.0       1             13.0           2010.0   \n",
       "2                    2006.0       1             14.0           2011.0   \n",
       "3                    2009.0       0              NaN              NaN   \n",
       "4                    2015.0       0              NaN              NaN   \n",
       "\n",
       "     PromoInterval  \n",
       "0              NaN  \n",
       "1  Jan,Apr,Jul,Oct  \n",
       "2  Jan,Apr,Jul,Oct  \n",
       "3              NaN  \n",
       "4              NaN  "
      ]
     },
     "execution_count": 3,
     "metadata": {},
     "output_type": "execute_result"
    }
   ],
   "source": [
    "#Reading the stores dataset\n",
    "stores.head()"
   ]
  },
  {
   "cell_type": "code",
   "execution_count": 4,
   "id": "dff2c9d5",
   "metadata": {
    "execution": {
     "iopub.execute_input": "2022-03-03T11:55:30.117414Z",
     "iopub.status.busy": "2022-03-03T11:55:30.116628Z",
     "iopub.status.idle": "2022-03-03T11:55:31.263401Z",
     "shell.execute_reply": "2022-03-03T11:55:31.262901Z",
     "shell.execute_reply.started": "2022-03-03T10:16:45.857721Z"
    },
    "papermill": {
     "duration": 1.188424,
     "end_time": "2022-03-03T11:55:31.263540",
     "exception": false,
     "start_time": "2022-03-03T11:55:30.075116",
     "status": "completed"
    },
    "tags": []
   },
   "outputs": [
    {
     "data": {
      "text/html": [
       "        <script type=\"text/javascript\">\n",
       "        window.PlotlyConfig = {MathJaxConfig: 'local'};\n",
       "        if (window.MathJax) {MathJax.Hub.Config({SVG: {font: \"STIX-Web\"}});}\n",
       "        if (typeof require !== 'undefined') {\n",
       "        require.undef(\"plotly\");\n",
       "        requirejs.config({\n",
       "            paths: {\n",
       "                'plotly': ['https://cdn.plot.ly/plotly-2.8.3.min']\n",
       "            }\n",
       "        });\n",
       "        require(['plotly'], function(Plotly) {\n",
       "            window._Plotly = Plotly;\n",
       "        });\n",
       "        }\n",
       "        </script>\n",
       "        "
      ]
     },
     "metadata": {},
     "output_type": "display_data"
    }
   ],
   "source": [
    "import matplotlib.pyplot as plt\n",
    "%matplotlib inline\n",
    "\n",
    "import seaborn as sns\n",
    "\n",
    "import plotly.offline as py\n",
    "py.init_notebook_mode(connected=True)\n",
    "import plotly.graph_objs as go\n",
    "import plotly.tools as tls"
   ]
  },
  {
   "cell_type": "code",
   "execution_count": 5,
   "id": "18c087b7",
   "metadata": {
    "execution": {
     "iopub.execute_input": "2022-03-03T11:55:31.348554Z",
     "iopub.status.busy": "2022-03-03T11:55:31.343880Z",
     "iopub.status.idle": "2022-03-03T11:55:31.564433Z",
     "shell.execute_reply": "2022-03-03T11:55:31.563930Z",
     "shell.execute_reply.started": "2022-03-03T10:16:46.364453Z"
    },
    "papermill": {
     "duration": 0.264296,
     "end_time": "2022-03-03T11:55:31.564564",
     "exception": false,
     "start_time": "2022-03-03T11:55:31.300268",
     "status": "completed"
    },
    "tags": []
   },
   "outputs": [
    {
     "data": {
      "image/png": "[encoded data removed]",
      "text/plain": [
       "<Figure size 720x432 with 1 Axes>"
      ]
     },
     "metadata": {
      "needs_background": "light"
     },
     "output_type": "display_data"
    }
   ],
   "source": [
    "#Let's first do some EDA before cleaning our dataset\n",
    "stores.groupby(['StoreType', 'Assortment']).size().unstack().plot(kind = 'bar', stacked = True,\n",
    "                                                                 figsize = (10, 6))\n",
    "plt.title(\"Distribution of Assortment type per Store type\")\n",
    "plt.xlabel(\"Store Type\")\n",
    "plt.show()"
   ]
  },
  {
   "cell_type": "code",
   "execution_count": 6,
   "id": "524bfacf",
   "metadata": {
    "execution": {
     "iopub.execute_input": "2022-03-03T11:55:31.641675Z",
     "iopub.status.busy": "2022-03-03T11:55:31.641087Z",
     "iopub.status.idle": "2022-03-03T11:55:31.652082Z",
     "shell.execute_reply": "2022-03-03T11:55:31.652569Z",
     "shell.execute_reply.started": "2022-03-03T10:16:46.603412Z"
    },
    "papermill": {
     "duration": 0.050856,
     "end_time": "2022-03-03T11:55:31.652764",
     "exception": false,
     "start_time": "2022-03-03T11:55:31.601908",
     "status": "completed"
    },
    "tags": []
   },
   "outputs": [
    {
     "data": {
      "text/html": [
       "<div>\n",
       "<style scoped>\n",
       "    .dataframe tbody tr th:only-of-type {\n",
       "        vertical-align: middle;\n",
       "    }\n",
       "\n",
       "    .dataframe tbody tr th {\n",
       "        vertical-align: top;\n",
       "    }\n",
       "\n",
       "    .dataframe thead th {\n",
       "        text-align: right;\n",
       "    }\n",
       "</style>\n",
       "<table border=\"1\" class=\"dataframe\">\n",
       "  <thead>\n",
       "    <tr style=\"text-align: right;\">\n",
       "      <th></th>\n",
       "      <th>Store</th>\n",
       "      <th>DayOfWeek</th>\n",
       "      <th>Date</th>\n",
       "      <th>Sales</th>\n",
       "      <th>Customers</th>\n",
       "      <th>Open</th>\n",
       "      <th>Promo</th>\n",
       "      <th>StateHoliday</th>\n",
       "      <th>SchoolHoliday</th>\n",
       "    </tr>\n",
       "  </thead>\n",
       "  <tbody>\n",
       "    <tr>\n",
       "      <th>0</th>\n",
       "      <td>1</td>\n",
       "      <td>5</td>\n",
       "      <td>2015-07-31</td>\n",
       "      <td>5263</td>\n",
       "      <td>555</td>\n",
       "      <td>1</td>\n",
       "      <td>1</td>\n",
       "      <td>0</td>\n",
       "      <td>1</td>\n",
       "    </tr>\n",
       "    <tr>\n",
       "      <th>1</th>\n",
       "      <td>2</td>\n",
       "      <td>5</td>\n",
       "      <td>2015-07-31</td>\n",
       "      <td>6064</td>\n",
       "      <td>625</td>\n",
       "      <td>1</td>\n",
       "      <td>1</td>\n",
       "      <td>0</td>\n",
       "      <td>1</td>\n",
       "    </tr>\n",
       "    <tr>\n",
       "      <th>2</th>\n",
       "      <td>3</td>\n",
       "      <td>5</td>\n",
       "      <td>2015-07-31</td>\n",
       "      <td>8314</td>\n",
       "      <td>821</td>\n",
       "      <td>1</td>\n",
       "      <td>1</td>\n",
       "      <td>0</td>\n",
       "      <td>1</td>\n",
       "    </tr>\n",
       "    <tr>\n",
       "      <th>3</th>\n",
       "      <td>4</td>\n",
       "      <td>5</td>\n",
       "      <td>2015-07-31</td>\n",
       "      <td>13995</td>\n",
       "      <td>1498</td>\n",
       "      <td>1</td>\n",
       "      <td>1</td>\n",
       "      <td>0</td>\n",
       "      <td>1</td>\n",
       "    </tr>\n",
       "    <tr>\n",
       "      <th>4</th>\n",
       "      <td>5</td>\n",
       "      <td>5</td>\n",
       "      <td>2015-07-31</td>\n",
       "      <td>4822</td>\n",
       "      <td>559</td>\n",
       "      <td>1</td>\n",
       "      <td>1</td>\n",
       "      <td>0</td>\n",
       "      <td>1</td>\n",
       "    </tr>\n",
       "  </tbody>\n",
       "</table>\n",
       "</div>"
      ],
      "text/plain": [
       "   Store  DayOfWeek       Date  Sales  Customers  Open  Promo StateHoliday  \\\n",
       "0      1          5 2015-07-31   5263        555     1      1            0   \n",
       "1      2          5 2015-07-31   6064        625     1      1            0   \n",
       "2      3          5 2015-07-31   8314        821     1      1            0   \n",
       "3      4          5 2015-07-31  13995       1498     1      1            0   \n",
       "4      5          5 2015-07-31   4822        559     1      1            0   \n",
       "\n",
       "   SchoolHoliday  \n",
       "0              1  \n",
       "1              1  \n",
       "2              1  \n",
       "3              1  \n",
       "4              1  "
      ]
     },
     "execution_count": 6,
     "metadata": {},
     "output_type": "execute_result"
    }
   ],
   "source": [
    "#Load train dataset\n",
    "train.head()"
   ]
  },
  {
   "cell_type": "markdown",
   "id": "f7f2e0f0",
   "metadata": {
    "papermill": {
     "duration": 0.036327,
     "end_time": "2022-03-03T11:55:31.726681",
     "exception": false,
     "start_time": "2022-03-03T11:55:31.690354",
     "status": "completed"
    },
    "tags": []
   },
   "source": [
    "Merging both the datasets."
   ]
  },
  {
   "cell_type": "code",
   "execution_count": 7,
   "id": "c02ba752",
   "metadata": {
    "execution": {
     "iopub.execute_input": "2022-03-03T11:55:31.804905Z",
     "iopub.status.busy": "2022-03-03T11:55:31.804228Z",
     "iopub.status.idle": "2022-03-03T11:55:32.233893Z",
     "shell.execute_reply": "2022-03-03T11:55:32.233337Z",
     "shell.execute_reply.started": "2022-03-03T10:16:46.620158Z"
    },
    "papermill": {
     "duration": 0.468646,
     "end_time": "2022-03-03T11:55:32.234064",
     "exception": false,
     "start_time": "2022-03-03T11:55:31.765418",
     "status": "completed"
    },
    "tags": []
   },
   "outputs": [],
   "source": [
    "train = pd.merge(train, stores, on = 'Store', how = 'left')"
   ]
  },
  {
   "cell_type": "markdown",
   "id": "542ac43a",
   "metadata": {
    "papermill": {
     "duration": 0.036279,
     "end_time": "2022-03-03T11:55:32.307766",
     "exception": false,
     "start_time": "2022-03-03T11:55:32.271487",
     "status": "completed"
    },
    "tags": []
   },
   "source": [
    "As the sales during the day the store is closed will be zero, we do not require the days where stores are closed."
   ]
  },
  {
   "cell_type": "code",
   "execution_count": 8,
   "id": "7a81f5f8",
   "metadata": {
    "execution": {
     "iopub.execute_input": "2022-03-03T11:55:32.386501Z",
     "iopub.status.busy": "2022-03-03T11:55:32.385878Z",
     "iopub.status.idle": "2022-03-03T11:55:32.927999Z",
     "shell.execute_reply": "2022-03-03T11:55:32.928431Z",
     "shell.execute_reply.started": "2022-03-03T10:16:47.054047Z"
    },
    "papermill": {
     "duration": 0.584344,
     "end_time": "2022-03-03T11:55:32.928601",
     "exception": false,
     "start_time": "2022-03-03T11:55:32.344257",
     "status": "completed"
    },
    "tags": []
   },
   "outputs": [
    {
     "name": "stdout",
     "output_type": "stream",
     "text": [
      "<class 'pandas.core.frame.DataFrame'>\n",
      "Int64Index: 844392 entries, 0 to 1017190\n",
      "Data columns (total 18 columns):\n",
      " #   Column                     Non-Null Count   Dtype         \n",
      "---  ------                     --------------   -----         \n",
      " 0   Store                      844392 non-null  int64         \n",
      " 1   DayOfWeek                  844392 non-null  int64         \n",
      " 2   Date                       844392 non-null  datetime64[ns]\n",
      " 3   Sales                      844392 non-null  int64         \n",
      " 4   Customers                  844392 non-null  int64         \n",
      " 5   Open                       844392 non-null  int64         \n",
      " 6   Promo                      844392 non-null  int64         \n",
      " 7   StateHoliday               844392 non-null  object        \n",
      " 8   SchoolHoliday              844392 non-null  int64         \n",
      " 9   StoreType                  844392 non-null  object        \n",
      " 10  Assortment                 844392 non-null  object        \n",
      " 11  CompetitionDistance        842206 non-null  float64       \n",
      " 12  CompetitionOpenSinceMonth  575773 non-null  float64       \n",
      " 13  CompetitionOpenSinceYear   575773 non-null  float64       \n",
      " 14  Promo2                     844392 non-null  int64         \n",
      " 15  Promo2SinceWeek            421085 non-null  float64       \n",
      " 16  Promo2SinceYear            421085 non-null  float64       \n",
      " 17  PromoInterval              421085 non-null  object        \n",
      "dtypes: datetime64[ns](1), float64(5), int64(8), object(4)\n",
      "memory usage: 122.4+ MB\n",
      "None\n"
     ]
    },
    {
     "data": {
      "text/html": [
       "<div>\n",
       "<style scoped>\n",
       "    .dataframe tbody tr th:only-of-type {\n",
       "        vertical-align: middle;\n",
       "    }\n",
       "\n",
       "    .dataframe tbody tr th {\n",
       "        vertical-align: top;\n",
       "    }\n",
       "\n",
       "    .dataframe thead th {\n",
       "        text-align: right;\n",
       "    }\n",
       "</style>\n",
       "<table border=\"1\" class=\"dataframe\">\n",
       "  <thead>\n",
       "    <tr style=\"text-align: right;\">\n",
       "      <th></th>\n",
       "      <th>Store</th>\n",
       "      <th>DayOfWeek</th>\n",
       "      <th>Date</th>\n",
       "      <th>Sales</th>\n",
       "      <th>Customers</th>\n",
       "      <th>Open</th>\n",
       "      <th>Promo</th>\n",
       "      <th>StateHoliday</th>\n",
       "      <th>SchoolHoliday</th>\n",
       "      <th>StoreType</th>\n",
       "      <th>Assortment</th>\n",
       "      <th>CompetitionDistance</th>\n",
       "      <th>CompetitionOpenSinceMonth</th>\n",
       "      <th>CompetitionOpenSinceYear</th>\n",
       "      <th>Promo2</th>\n",
       "      <th>Promo2SinceWeek</th>\n",
       "      <th>Promo2SinceYear</th>\n",
       "      <th>PromoInterval</th>\n",
       "    </tr>\n",
       "  </thead>\n",
       "  <tbody>\n",
       "    <tr>\n",
       "      <th>0</th>\n",
       "      <td>1</td>\n",
       "      <td>5</td>\n",
       "      <td>2015-07-31</td>\n",
       "      <td>5263</td>\n",
       "      <td>555</td>\n",
       "      <td>1</td>\n",
       "      <td>1</td>\n",
       "      <td>0</td>\n",
       "      <td>1</td>\n",
       "      <td>c</td>\n",
       "      <td>a</td>\n",
       "      <td>1270.0</td>\n",
       "      <td>9.0</td>\n",
       "      <td>2008.0</td>\n",
       "      <td>0</td>\n",
       "      <td>NaN</td>\n",
       "      <td>NaN</td>\n",
       "      <td>NaN</td>\n",
       "    </tr>\n",
       "    <tr>\n",
       "      <th>1</th>\n",
       "      <td>2</td>\n",
       "      <td>5</td>\n",
       "      <td>2015-07-31</td>\n",
       "      <td>6064</td>\n",
       "      <td>625</td>\n",
       "      <td>1</td>\n",
       "      <td>1</td>\n",
       "      <td>0</td>\n",
       "      <td>1</td>\n",
       "      <td>a</td>\n",
       "      <td>a</td>\n",
       "      <td>570.0</td>\n",
       "      <td>11.0</td>\n",
       "      <td>2007.0</td>\n",
       "      <td>1</td>\n",
       "      <td>13.0</td>\n",
       "      <td>2010.0</td>\n",
       "      <td>Jan,Apr,Jul,Oct</td>\n",
       "    </tr>\n",
       "    <tr>\n",
       "      <th>2</th>\n",
       "      <td>3</td>\n",
       "      <td>5</td>\n",
       "      <td>2015-07-31</td>\n",
       "      <td>8314</td>\n",
       "      <td>821</td>\n",
       "      <td>1</td>\n",
       "      <td>1</td>\n",
       "      <td>0</td>\n",
       "      <td>1</td>\n",
       "      <td>a</td>\n",
       "      <td>a</td>\n",
       "      <td>14130.0</td>\n",
       "      <td>12.0</td>\n",
       "      <td>2006.0</td>\n",
       "      <td>1</td>\n",
       "      <td>14.0</td>\n",
       "      <td>2011.0</td>\n",
       "      <td>Jan,Apr,Jul,Oct</td>\n",
       "    </tr>\n",
       "    <tr>\n",
       "      <th>3</th>\n",
       "      <td>4</td>\n",
       "      <td>5</td>\n",
       "      <td>2015-07-31</td>\n",
       "      <td>13995</td>\n",
       "      <td>1498</td>\n",
       "      <td>1</td>\n",
       "      <td>1</td>\n",
       "      <td>0</td>\n",
       "      <td>1</td>\n",
       "      <td>c</td>\n",
       "      <td>c</td>\n",
       "      <td>620.0</td>\n",
       "      <td>9.0</td>\n",
       "      <td>2009.0</td>\n",
       "      <td>0</td>\n",
       "      <td>NaN</td>\n",
       "      <td>NaN</td>\n",
       "      <td>NaN</td>\n",
       "    </tr>\n",
       "    <tr>\n",
       "      <th>4</th>\n",
       "      <td>5</td>\n",
       "      <td>5</td>\n",
       "      <td>2015-07-31</td>\n",
       "      <td>4822</td>\n",
       "      <td>559</td>\n",
       "      <td>1</td>\n",
       "      <td>1</td>\n",
       "      <td>0</td>\n",
       "      <td>1</td>\n",
       "      <td>a</td>\n",
       "      <td>a</td>\n",
       "      <td>29910.0</td>\n",
       "      <td>4.0</td>\n",
       "      <td>2015.0</td>\n",
       "      <td>0</td>\n",
       "      <td>NaN</td>\n",
       "      <td>NaN</td>\n",
       "      <td>NaN</td>\n",
       "    </tr>\n",
       "  </tbody>\n",
       "</table>\n",
       "</div>"
      ],
      "text/plain": [
       "   Store  DayOfWeek       Date  Sales  Customers  Open  Promo StateHoliday  \\\n",
       "0      1          5 2015-07-31   5263        555     1      1            0   \n",
       "1      2          5 2015-07-31   6064        625     1      1            0   \n",
       "2      3          5 2015-07-31   8314        821     1      1            0   \n",
       "3      4          5 2015-07-31  13995       1498     1      1            0   \n",
       "4      5          5 2015-07-31   4822        559     1      1            0   \n",
       "\n",
       "   SchoolHoliday StoreType Assortment  CompetitionDistance  \\\n",
       "0              1         c          a               1270.0   \n",
       "1              1         a          a                570.0   \n",
       "2              1         a          a              14130.0   \n",
       "3              1         c          c                620.0   \n",
       "4              1         a          a              29910.0   \n",
       "\n",
       "   CompetitionOpenSinceMonth  CompetitionOpenSinceYear  Promo2  \\\n",
       "0                        9.0                    2008.0       0   \n",
       "1                       11.0                    2007.0       1   \n",
       "2                       12.0                    2006.0       1   \n",
       "3                        9.0                    2009.0       0   \n",
       "4                        4.0                    2015.0       0   \n",
       "\n",
       "   Promo2SinceWeek  Promo2SinceYear    PromoInterval  \n",
       "0              NaN              NaN              NaN  \n",
       "1             13.0           2010.0  Jan,Apr,Jul,Oct  \n",
       "2             14.0           2011.0  Jan,Apr,Jul,Oct  \n",
       "3              NaN              NaN              NaN  \n",
       "4              NaN              NaN              NaN  "
      ]
     },
     "execution_count": 8,
     "metadata": {},
     "output_type": "execute_result"
    }
   ],
   "source": [
    "train_open = train[train.Open == 1].copy()\n",
    "print (train_open.info())\n",
    "train.head()"
   ]
  },
  {
   "cell_type": "code",
   "execution_count": 9,
   "id": "d2f35fa8",
   "metadata": {
    "execution": {
     "iopub.execute_input": "2022-03-03T11:55:33.010306Z",
     "iopub.status.busy": "2022-03-03T11:55:33.009636Z",
     "iopub.status.idle": "2022-03-03T11:55:34.629580Z",
     "shell.execute_reply": "2022-03-03T11:55:34.630036Z",
     "shell.execute_reply.started": "2022-03-03T10:16:47.579353Z"
    },
    "papermill": {
     "duration": 1.663873,
     "end_time": "2022-03-03T11:55:34.630202",
     "exception": false,
     "start_time": "2022-03-03T11:55:32.966329",
     "status": "completed"
    },
    "tags": []
   },
   "outputs": [
    {
     "data": {
      "image/png": "[encoded data removed]",
      "text/plain": [
       "<Figure size 720x432 with 1 Axes>"
      ]
     },
     "metadata": {
      "needs_background": "light"
     },
     "output_type": "display_data"
    }
   ],
   "source": [
    "#Let's see the distribution of sales\n",
    "plt.figure(figsize = (10, 6))\n",
    "sns.histplot(train_open.Sales)\n",
    "plt.title(\"Distribution of Sales\")\n",
    "plt.show()"
   ]
  },
  {
   "cell_type": "markdown",
   "id": "2acd8bb8",
   "metadata": {
    "papermill": {
     "duration": 0.038033,
     "end_time": "2022-03-03T11:55:34.705337",
     "exception": false,
     "start_time": "2022-03-03T11:55:34.667304",
     "status": "completed"
    },
    "tags": []
   },
   "source": [
    "From above we can see that the sales follow Normal Distrionbution with Right-skewed (Positively Skewed). "
   ]
  },
  {
   "cell_type": "code",
   "execution_count": 10,
   "id": "9eb7268a",
   "metadata": {
    "execution": {
     "iopub.execute_input": "2022-03-03T11:55:34.785449Z",
     "iopub.status.busy": "2022-03-03T11:55:34.783244Z",
     "iopub.status.idle": "2022-03-03T11:55:50.288302Z",
     "shell.execute_reply": "2022-03-03T11:55:50.287797Z",
     "shell.execute_reply.started": "2022-03-03T10:16:49.242629Z"
    },
    "papermill": {
     "duration": 15.545259,
     "end_time": "2022-03-03T11:55:50.288446",
     "exception": false,
     "start_time": "2022-03-03T11:55:34.743187",
     "status": "completed"
    },
    "tags": []
   },
   "outputs": [
    {
     "data": {
      "image/png": "[encoded data removed]",
      "text/plain": [
       "<Figure size 432x288 with 1 Axes>"
      ]
     },
     "metadata": {
      "needs_background": "light"
     },
     "output_type": "display_data"
    }
   ],
   "source": [
    "plt.figure(figsize = (6,4))\n",
    "sns.barplot(x = 'Promo', y = 'Sales', data = train_open)\n",
    "plt.title('Sales distribution on Promo day')\n",
    "plt.show()"
   ]
  },
  {
   "cell_type": "markdown",
   "id": "6bfd6ebb",
   "metadata": {
    "papermill": {
     "duration": 0.038286,
     "end_time": "2022-03-03T11:55:50.366716",
     "exception": false,
     "start_time": "2022-03-03T11:55:50.328430",
     "status": "completed"
    },
    "tags": []
   },
   "source": [
    "Sales is evenly distributed on both Promotional and Non-Promotional Day"
   ]
  },
  {
   "cell_type": "code",
   "execution_count": 11,
   "id": "00b716ad",
   "metadata": {
    "execution": {
     "iopub.execute_input": "2022-03-03T11:55:50.449016Z",
     "iopub.status.busy": "2022-03-03T11:55:50.447816Z",
     "iopub.status.idle": "2022-03-03T11:55:50.543792Z",
     "shell.execute_reply": "2022-03-03T11:55:50.544401Z",
     "shell.execute_reply.started": "2022-03-03T10:17:04.514577Z"
    },
    "papermill": {
     "duration": 0.139045,
     "end_time": "2022-03-03T11:55:50.544573",
     "exception": false,
     "start_time": "2022-03-03T11:55:50.405528",
     "status": "completed"
    },
    "tags": []
   },
   "outputs": [
    {
     "data": {
      "text/plain": [
       "array(['0', 'a', 'b', 'c'], dtype=object)"
      ]
     },
     "execution_count": 11,
     "metadata": {},
     "output_type": "execute_result"
    }
   ],
   "source": [
    "train_open['StateHoliday'] = train_open['StateHoliday'].astype(str)\n",
    "train_open.StateHoliday.unique()"
   ]
  },
  {
   "cell_type": "code",
   "execution_count": 12,
   "id": "a8e35981",
   "metadata": {
    "execution": {
     "iopub.execute_input": "2022-03-03T11:55:50.662723Z",
     "iopub.status.busy": "2022-03-03T11:55:50.661807Z",
     "iopub.status.idle": "2022-03-03T11:56:11.421021Z",
     "shell.execute_reply": "2022-03-03T11:56:11.420514Z",
     "shell.execute_reply.started": "2022-03-03T10:17:04.611743Z"
    },
    "papermill": {
     "duration": 20.83738,
     "end_time": "2022-03-03T11:56:11.421162",
     "exception": false,
     "start_time": "2022-03-03T11:55:50.583782",
     "status": "completed"
    },
    "tags": []
   },
   "outputs": [
    {
     "data": {
      "image/png": "[encoded data removed]",
      "text/plain": [
       "<Figure size 432x288 with 1 Axes>"
      ]
     },
     "metadata": {
      "needs_background": "light"
     },
     "output_type": "display_data"
    }
   ],
   "source": [
    "plt.figure(figsize = (6,4))\n",
    "sns.barplot(x = 'StateHoliday', y = 'Sales', data = train_open)\n",
    "plt.title('Sales distribution on State Holiday')\n",
    "plt.show()"
   ]
  },
  {
   "cell_type": "markdown",
   "id": "c6058893",
   "metadata": {
    "papermill": {
     "duration": 0.039542,
     "end_time": "2022-03-03T11:56:11.500414",
     "exception": false,
     "start_time": "2022-03-03T11:56:11.460872",
     "status": "completed"
    },
    "tags": []
   },
   "source": [
    "Sales is higher on holidays compared to non-holidays as expected."
   ]
  },
  {
   "cell_type": "code",
   "execution_count": 13,
   "id": "cf35bc90",
   "metadata": {
    "execution": {
     "iopub.execute_input": "2022-03-03T11:56:11.584112Z",
     "iopub.status.busy": "2022-03-03T11:56:11.583499Z",
     "iopub.status.idle": "2022-03-03T11:56:29.845026Z",
     "shell.execute_reply": "2022-03-03T11:56:29.845519Z",
     "shell.execute_reply.started": "2022-03-03T10:17:23.838877Z"
    },
    "papermill": {
     "duration": 18.304788,
     "end_time": "2022-03-03T11:56:29.845709",
     "exception": false,
     "start_time": "2022-03-03T11:56:11.540921",
     "status": "completed"
    },
    "tags": []
   },
   "outputs": [
    {
     "data": {
      "image/png": "[encoded data removed]",
      "text/plain": [
       "<Figure size 432x288 with 1 Axes>"
      ]
     },
     "metadata": {
      "needs_background": "light"
     },
     "output_type": "display_data"
    }
   ],
   "source": [
    "#Let's see the sales distribution in School Holiday\n",
    "plt.figure(figsize = (6,4))\n",
    "sns.barplot(x = 'SchoolHoliday', y = 'Sales', data = train_open)\n",
    "plt.title('Sales distribution on School Holiday')\n",
    "plt.show()"
   ]
  },
  {
   "cell_type": "markdown",
   "id": "f27ab365",
   "metadata": {
    "papermill": {
     "duration": 0.041059,
     "end_time": "2022-03-03T11:56:29.928597",
     "exception": false,
     "start_time": "2022-03-03T11:56:29.887538",
     "status": "completed"
    },
    "tags": []
   },
   "source": [
    "Sales doesn't seem to depend much on School Holidays"
   ]
  },
  {
   "cell_type": "code",
   "execution_count": 14,
   "id": "f6c92c2c",
   "metadata": {
    "execution": {
     "iopub.execute_input": "2022-03-03T11:56:30.015431Z",
     "iopub.status.busy": "2022-03-03T11:56:30.014774Z",
     "iopub.status.idle": "2022-03-03T11:56:44.049832Z",
     "shell.execute_reply": "2022-03-03T11:56:44.049287Z",
     "shell.execute_reply.started": "2022-03-03T10:17:38.341122Z"
    },
    "papermill": {
     "duration": 14.080613,
     "end_time": "2022-03-03T11:56:44.049967",
     "exception": false,
     "start_time": "2022-03-03T11:56:29.969354",
     "status": "completed"
    },
    "tags": []
   },
   "outputs": [
    {
     "data": {
      "image/png": "[encoded data removed]",
      "text/plain": [
       "<Figure size 432x288 with 1 Axes>"
      ]
     },
     "metadata": {
      "needs_background": "light"
     },
     "output_type": "display_data"
    }
   ],
   "source": [
    "#Let's see which store type has more sales\n",
    "sns.barplot(x = 'StoreType', y = 'Sales', data = train_open)\n",
    "plt.title(\"Sales as per the Store Type\")\n",
    "plt.xlabel('Store Type')\n",
    "plt.ylabel('Sales')\n",
    "plt.show()"
   ]
  },
  {
   "cell_type": "markdown",
   "id": "2e1de787",
   "metadata": {
    "papermill": {
     "duration": 0.04189,
     "end_time": "2022-03-03T11:56:44.132543",
     "exception": false,
     "start_time": "2022-03-03T11:56:44.090653",
     "status": "completed"
    },
    "tags": []
   },
   "source": [
    "Except for the sales in type b, sales in all other types of stores are nearly identical"
   ]
  },
  {
   "cell_type": "markdown",
   "id": "0001dbaf",
   "metadata": {
    "papermill": {
     "duration": 0.040108,
     "end_time": "2022-03-03T11:56:44.213265",
     "exception": false,
     "start_time": "2022-03-03T11:56:44.173157",
     "status": "completed"
    },
    "tags": []
   },
   "source": [
    "# Feature Engineering"
   ]
  },
  {
   "cell_type": "markdown",
   "id": "b6a3b8be",
   "metadata": {
    "papermill": {
     "duration": 0.040399,
     "end_time": "2022-03-03T11:56:44.294379",
     "exception": false,
     "start_time": "2022-03-03T11:56:44.253980",
     "status": "completed"
    },
    "tags": []
   },
   "source": [
    "Now we will prepare our file which will be suitable to be used in different Machine Learning Models"
   ]
  },
  {
   "cell_type": "code",
   "execution_count": 15,
   "id": "9baa391c",
   "metadata": {
    "execution": {
     "iopub.execute_input": "2022-03-03T11:56:44.379724Z",
     "iopub.status.busy": "2022-03-03T11:56:44.379102Z",
     "iopub.status.idle": "2022-03-03T11:56:44.387687Z",
     "shell.execute_reply": "2022-03-03T11:56:44.388278Z",
     "shell.execute_reply.started": "2022-03-03T10:17:51.464464Z"
    },
    "papermill": {
     "duration": 0.053671,
     "end_time": "2022-03-03T11:56:44.388444",
     "exception": false,
     "start_time": "2022-03-03T11:56:44.334773",
     "status": "completed"
    },
    "tags": []
   },
   "outputs": [],
   "source": [
    "def feature_ext(df):\n",
    "    '''Creating the dataset with the features in the required format'''\n",
    "    \n",
    "    #Creating Extra Columns out of Date \n",
    "    df['Year'] = df.Date.dt.year\n",
    "    df['Month'] = df.Date.dt.month\n",
    "    df['Day'] = df.Date.dt.day\n",
    "    df['DayOfWeek'] = df.Date.dt.dayofweek\n",
    "    df['WeekOfYear'] = df.Date.dt.weekofyear\n",
    "    \n",
    "    #fixing Promo and CompetitionSince columns by extending the features \n",
    "    \n",
    "    df['CompetitionOpen'] = 12 * (df.Year - df.CompetitionOpenSinceYear) + (df.Month - df.CompetitionOpenSinceMonth)\n",
    "    df['CompetitionOpen'] = df['CompetitionOpen'].apply(lambda x: 0 if x < 0 else x)\n",
    "    \n",
    "    df['PromoOpen'] = 12 * (df.Year - df.Promo2SinceYear) + (df.WeekOfYear - df.Promo2SinceWeek) / 4\n",
    "    df['PromoOpen'] = df['PromoOpen'].apply(lambda x: 0 if x < 0 else x)\n",
    "    \n",
    "    #Mapping month name to the Months Column\n",
    "    monthname = {1:'Jan', 2:'Feb', 3:'Mar', 4:'Apr', 5:'May', 6:'Jun',              \n",
    "                 7:'Jul', 8:'Aug', 9:'Sept', 10:'Oct', 11:'Nov', 12:'Dec'}\n",
    "    df['Month'] = df['Month'].map(monthname)\n",
    "    \n",
    "    #changing the dtype of Promo Interval Column\n",
    "    df['PromoInterval'] = df['PromoInterval'].astype(str)\n",
    "    \n",
    "    #Fixing PromoInterval column with creating a binary column for the value in PromoInterval\n",
    "    df['IsPromoMonth'] = 0 #empty column\n",
    "    for values in df.PromoInterval.unique():\n",
    "        for month in values.split(','):\n",
    "            df.loc[(df.Month == month) & (df.PromoInterval == values), 'IsPromoMonth'] = 1\n",
    "    \n",
    "    return df\n",
    "    \n",
    "    "
   ]
  },
  {
   "cell_type": "code",
   "execution_count": 16,
   "id": "4daf11ce",
   "metadata": {
    "execution": {
     "iopub.execute_input": "2022-03-03T11:56:44.472536Z",
     "iopub.status.busy": "2022-03-03T11:56:44.471956Z",
     "iopub.status.idle": "2022-03-03T11:56:47.608170Z",
     "shell.execute_reply": "2022-03-03T11:56:47.608764Z",
     "shell.execute_reply.started": "2022-03-03T10:17:51.477720Z"
    },
    "papermill": {
     "duration": 3.179904,
     "end_time": "2022-03-03T11:56:47.608964",
     "exception": false,
     "start_time": "2022-03-03T11:56:44.429060",
     "status": "completed"
    },
    "tags": []
   },
   "outputs": [
    {
     "name": "stderr",
     "output_type": "stream",
     "text": [
      "/opt/conda/lib/python3.7/site-packages/ipykernel_launcher.py:9: FutureWarning:\n",
      "\n",
      "Series.dt.weekofyear and Series.dt.week have been deprecated.  Please use Series.dt.isocalendar().week instead.\n",
      "\n"
     ]
    },
    {
     "data": {
      "text/html": [
       "<div>\n",
       "<style scoped>\n",
       "    .dataframe tbody tr th:only-of-type {\n",
       "        vertical-align: middle;\n",
       "    }\n",
       "\n",
       "    .dataframe tbody tr th {\n",
       "        vertical-align: top;\n",
       "    }\n",
       "\n",
       "    .dataframe thead th {\n",
       "        text-align: right;\n",
       "    }\n",
       "</style>\n",
       "<table border=\"1\" class=\"dataframe\">\n",
       "  <thead>\n",
       "    <tr style=\"text-align: right;\">\n",
       "      <th></th>\n",
       "      <th>Store</th>\n",
       "      <th>DayOfWeek</th>\n",
       "      <th>Date</th>\n",
       "      <th>Sales</th>\n",
       "      <th>Customers</th>\n",
       "      <th>Open</th>\n",
       "      <th>Promo</th>\n",
       "      <th>StateHoliday</th>\n",
       "      <th>SchoolHoliday</th>\n",
       "      <th>StoreType</th>\n",
       "      <th>...</th>\n",
       "      <th>Promo2SinceWeek</th>\n",
       "      <th>Promo2SinceYear</th>\n",
       "      <th>PromoInterval</th>\n",
       "      <th>Year</th>\n",
       "      <th>Month</th>\n",
       "      <th>Day</th>\n",
       "      <th>WeekOfYear</th>\n",
       "      <th>CompetitionOpen</th>\n",
       "      <th>PromoOpen</th>\n",
       "      <th>IsPromoMonth</th>\n",
       "    </tr>\n",
       "  </thead>\n",
       "  <tbody>\n",
       "    <tr>\n",
       "      <th>0</th>\n",
       "      <td>1</td>\n",
       "      <td>4</td>\n",
       "      <td>2015-07-31</td>\n",
       "      <td>5263</td>\n",
       "      <td>555</td>\n",
       "      <td>1</td>\n",
       "      <td>1</td>\n",
       "      <td>0</td>\n",
       "      <td>1</td>\n",
       "      <td>c</td>\n",
       "      <td>...</td>\n",
       "      <td>NaN</td>\n",
       "      <td>NaN</td>\n",
       "      <td>nan</td>\n",
       "      <td>2015</td>\n",
       "      <td>Jul</td>\n",
       "      <td>31</td>\n",
       "      <td>31</td>\n",
       "      <td>82.0</td>\n",
       "      <td>NaN</td>\n",
       "      <td>0</td>\n",
       "    </tr>\n",
       "    <tr>\n",
       "      <th>1</th>\n",
       "      <td>2</td>\n",
       "      <td>4</td>\n",
       "      <td>2015-07-31</td>\n",
       "      <td>6064</td>\n",
       "      <td>625</td>\n",
       "      <td>1</td>\n",
       "      <td>1</td>\n",
       "      <td>0</td>\n",
       "      <td>1</td>\n",
       "      <td>a</td>\n",
       "      <td>...</td>\n",
       "      <td>13.0</td>\n",
       "      <td>2010.0</td>\n",
       "      <td>Jan,Apr,Jul,Oct</td>\n",
       "      <td>2015</td>\n",
       "      <td>Jul</td>\n",
       "      <td>31</td>\n",
       "      <td>31</td>\n",
       "      <td>92.0</td>\n",
       "      <td>64.50</td>\n",
       "      <td>1</td>\n",
       "    </tr>\n",
       "    <tr>\n",
       "      <th>2</th>\n",
       "      <td>3</td>\n",
       "      <td>4</td>\n",
       "      <td>2015-07-31</td>\n",
       "      <td>8314</td>\n",
       "      <td>821</td>\n",
       "      <td>1</td>\n",
       "      <td>1</td>\n",
       "      <td>0</td>\n",
       "      <td>1</td>\n",
       "      <td>a</td>\n",
       "      <td>...</td>\n",
       "      <td>14.0</td>\n",
       "      <td>2011.0</td>\n",
       "      <td>Jan,Apr,Jul,Oct</td>\n",
       "      <td>2015</td>\n",
       "      <td>Jul</td>\n",
       "      <td>31</td>\n",
       "      <td>31</td>\n",
       "      <td>103.0</td>\n",
       "      <td>52.25</td>\n",
       "      <td>1</td>\n",
       "    </tr>\n",
       "    <tr>\n",
       "      <th>3</th>\n",
       "      <td>4</td>\n",
       "      <td>4</td>\n",
       "      <td>2015-07-31</td>\n",
       "      <td>13995</td>\n",
       "      <td>1498</td>\n",
       "      <td>1</td>\n",
       "      <td>1</td>\n",
       "      <td>0</td>\n",
       "      <td>1</td>\n",
       "      <td>c</td>\n",
       "      <td>...</td>\n",
       "      <td>NaN</td>\n",
       "      <td>NaN</td>\n",
       "      <td>nan</td>\n",
       "      <td>2015</td>\n",
       "      <td>Jul</td>\n",
       "      <td>31</td>\n",
       "      <td>31</td>\n",
       "      <td>70.0</td>\n",
       "      <td>NaN</td>\n",
       "      <td>0</td>\n",
       "    </tr>\n",
       "    <tr>\n",
       "      <th>4</th>\n",
       "      <td>5</td>\n",
       "      <td>4</td>\n",
       "      <td>2015-07-31</td>\n",
       "      <td>4822</td>\n",
       "      <td>559</td>\n",
       "      <td>1</td>\n",
       "      <td>1</td>\n",
       "      <td>0</td>\n",
       "      <td>1</td>\n",
       "      <td>a</td>\n",
       "      <td>...</td>\n",
       "      <td>NaN</td>\n",
       "      <td>NaN</td>\n",
       "      <td>nan</td>\n",
       "      <td>2015</td>\n",
       "      <td>Jul</td>\n",
       "      <td>31</td>\n",
       "      <td>31</td>\n",
       "      <td>3.0</td>\n",
       "      <td>NaN</td>\n",
       "      <td>0</td>\n",
       "    </tr>\n",
       "    <tr>\n",
       "      <th>...</th>\n",
       "      <td>...</td>\n",
       "      <td>...</td>\n",
       "      <td>...</td>\n",
       "      <td>...</td>\n",
       "      <td>...</td>\n",
       "      <td>...</td>\n",
       "      <td>...</td>\n",
       "      <td>...</td>\n",
       "      <td>...</td>\n",
       "      <td>...</td>\n",
       "      <td>...</td>\n",
       "      <td>...</td>\n",
       "      <td>...</td>\n",
       "      <td>...</td>\n",
       "      <td>...</td>\n",
       "      <td>...</td>\n",
       "      <td>...</td>\n",
       "      <td>...</td>\n",
       "      <td>...</td>\n",
       "      <td>...</td>\n",
       "      <td>...</td>\n",
       "    </tr>\n",
       "    <tr>\n",
       "      <th>1016776</th>\n",
       "      <td>682</td>\n",
       "      <td>1</td>\n",
       "      <td>2013-01-01</td>\n",
       "      <td>3375</td>\n",
       "      <td>566</td>\n",
       "      <td>1</td>\n",
       "      <td>0</td>\n",
       "      <td>a</td>\n",
       "      <td>1</td>\n",
       "      <td>b</td>\n",
       "      <td>...</td>\n",
       "      <td>NaN</td>\n",
       "      <td>NaN</td>\n",
       "      <td>nan</td>\n",
       "      <td>2013</td>\n",
       "      <td>Jan</td>\n",
       "      <td>1</td>\n",
       "      <td>1</td>\n",
       "      <td>76.0</td>\n",
       "      <td>NaN</td>\n",
       "      <td>0</td>\n",
       "    </tr>\n",
       "    <tr>\n",
       "      <th>1016827</th>\n",
       "      <td>733</td>\n",
       "      <td>1</td>\n",
       "      <td>2013-01-01</td>\n",
       "      <td>10765</td>\n",
       "      <td>2377</td>\n",
       "      <td>1</td>\n",
       "      <td>0</td>\n",
       "      <td>a</td>\n",
       "      <td>1</td>\n",
       "      <td>b</td>\n",
       "      <td>...</td>\n",
       "      <td>NaN</td>\n",
       "      <td>NaN</td>\n",
       "      <td>nan</td>\n",
       "      <td>2013</td>\n",
       "      <td>Jan</td>\n",
       "      <td>1</td>\n",
       "      <td>1</td>\n",
       "      <td>159.0</td>\n",
       "      <td>NaN</td>\n",
       "      <td>0</td>\n",
       "    </tr>\n",
       "    <tr>\n",
       "      <th>1016863</th>\n",
       "      <td>769</td>\n",
       "      <td>1</td>\n",
       "      <td>2013-01-01</td>\n",
       "      <td>5035</td>\n",
       "      <td>1248</td>\n",
       "      <td>1</td>\n",
       "      <td>0</td>\n",
       "      <td>a</td>\n",
       "      <td>1</td>\n",
       "      <td>b</td>\n",
       "      <td>...</td>\n",
       "      <td>48.0</td>\n",
       "      <td>2012.0</td>\n",
       "      <td>Jan,Apr,Jul,Oct</td>\n",
       "      <td>2013</td>\n",
       "      <td>Jan</td>\n",
       "      <td>1</td>\n",
       "      <td>1</td>\n",
       "      <td>NaN</td>\n",
       "      <td>0.25</td>\n",
       "      <td>1</td>\n",
       "    </tr>\n",
       "    <tr>\n",
       "      <th>1017042</th>\n",
       "      <td>948</td>\n",
       "      <td>1</td>\n",
       "      <td>2013-01-01</td>\n",
       "      <td>4491</td>\n",
       "      <td>1039</td>\n",
       "      <td>1</td>\n",
       "      <td>0</td>\n",
       "      <td>a</td>\n",
       "      <td>1</td>\n",
       "      <td>b</td>\n",
       "      <td>...</td>\n",
       "      <td>NaN</td>\n",
       "      <td>NaN</td>\n",
       "      <td>nan</td>\n",
       "      <td>2013</td>\n",
       "      <td>Jan</td>\n",
       "      <td>1</td>\n",
       "      <td>1</td>\n",
       "      <td>NaN</td>\n",
       "      <td>NaN</td>\n",
       "      <td>0</td>\n",
       "    </tr>\n",
       "    <tr>\n",
       "      <th>1017190</th>\n",
       "      <td>1097</td>\n",
       "      <td>1</td>\n",
       "      <td>2013-01-01</td>\n",
       "      <td>5961</td>\n",
       "      <td>1405</td>\n",
       "      <td>1</td>\n",
       "      <td>0</td>\n",
       "      <td>a</td>\n",
       "      <td>1</td>\n",
       "      <td>b</td>\n",
       "      <td>...</td>\n",
       "      <td>NaN</td>\n",
       "      <td>NaN</td>\n",
       "      <td>nan</td>\n",
       "      <td>2013</td>\n",
       "      <td>Jan</td>\n",
       "      <td>1</td>\n",
       "      <td>1</td>\n",
       "      <td>130.0</td>\n",
       "      <td>NaN</td>\n",
       "      <td>0</td>\n",
       "    </tr>\n",
       "  </tbody>\n",
       "</table>\n",
       "<p>844392 rows × 25 columns</p>\n",
       "</div>"
      ],
      "text/plain": [
       "         Store  DayOfWeek       Date  Sales  Customers  Open  Promo  \\\n",
       "0            1          4 2015-07-31   5263        555     1      1   \n",
       "1            2          4 2015-07-31   6064        625     1      1   \n",
       "2            3          4 2015-07-31   8314        821     1      1   \n",
       "3            4          4 2015-07-31  13995       1498     1      1   \n",
       "4            5          4 2015-07-31   4822        559     1      1   \n",
       "...        ...        ...        ...    ...        ...   ...    ...   \n",
       "1016776    682          1 2013-01-01   3375        566     1      0   \n",
       "1016827    733          1 2013-01-01  10765       2377     1      0   \n",
       "1016863    769          1 2013-01-01   5035       1248     1      0   \n",
       "1017042    948          1 2013-01-01   4491       1039     1      0   \n",
       "1017190   1097          1 2013-01-01   5961       1405     1      0   \n",
       "\n",
       "        StateHoliday  SchoolHoliday StoreType  ... Promo2SinceWeek  \\\n",
       "0                  0              1         c  ...             NaN   \n",
       "1                  0              1         a  ...            13.0   \n",
       "2                  0              1         a  ...            14.0   \n",
       "3                  0              1         c  ...             NaN   \n",
       "4                  0              1         a  ...             NaN   \n",
       "...              ...            ...       ...  ...             ...   \n",
       "1016776            a              1         b  ...             NaN   \n",
       "1016827            a              1         b  ...             NaN   \n",
       "1016863            a              1         b  ...            48.0   \n",
       "1017042            a              1         b  ...             NaN   \n",
       "1017190            a              1         b  ...             NaN   \n",
       "\n",
       "         Promo2SinceYear    PromoInterval  Year  Month  Day  WeekOfYear  \\\n",
       "0                    NaN              nan  2015    Jul   31          31   \n",
       "1                 2010.0  Jan,Apr,Jul,Oct  2015    Jul   31          31   \n",
       "2                 2011.0  Jan,Apr,Jul,Oct  2015    Jul   31          31   \n",
       "3                    NaN              nan  2015    Jul   31          31   \n",
       "4                    NaN              nan  2015    Jul   31          31   \n",
       "...                  ...              ...   ...    ...  ...         ...   \n",
       "1016776              NaN              nan  2013    Jan    1           1   \n",
       "1016827              NaN              nan  2013    Jan    1           1   \n",
       "1016863           2012.0  Jan,Apr,Jul,Oct  2013    Jan    1           1   \n",
       "1017042              NaN              nan  2013    Jan    1           1   \n",
       "1017190              NaN              nan  2013    Jan    1           1   \n",
       "\n",
       "        CompetitionOpen  PromoOpen IsPromoMonth  \n",
       "0                  82.0        NaN            0  \n",
       "1                  92.0      64.50            1  \n",
       "2                 103.0      52.25            1  \n",
       "3                  70.0        NaN            0  \n",
       "4                   3.0        NaN            0  \n",
       "...                 ...        ...          ...  \n",
       "1016776            76.0        NaN            0  \n",
       "1016827           159.0        NaN            0  \n",
       "1016863             NaN       0.25            1  \n",
       "1017042             NaN        NaN            0  \n",
       "1017190           130.0        NaN            0  \n",
       "\n",
       "[844392 rows x 25 columns]"
      ]
     },
     "execution_count": 16,
     "metadata": {},
     "output_type": "execute_result"
    }
   ],
   "source": [
    "feature_ext(train_open)"
   ]
  },
  {
   "cell_type": "code",
   "execution_count": 17,
   "id": "0cdd58c7",
   "metadata": {
    "execution": {
     "iopub.execute_input": "2022-03-03T11:56:47.696249Z",
     "iopub.status.busy": "2022-03-03T11:56:47.695680Z",
     "iopub.status.idle": "2022-03-03T11:56:47.699723Z",
     "shell.execute_reply": "2022-03-03T11:56:47.700211Z",
     "shell.execute_reply.started": "2022-03-03T10:17:54.552750Z"
    },
    "papermill": {
     "duration": 0.049699,
     "end_time": "2022-03-03T11:56:47.700381",
     "exception": false,
     "start_time": "2022-03-03T11:56:47.650682",
     "status": "completed"
    },
    "tags": []
   },
   "outputs": [],
   "source": [
    "def split_data(df):\n",
    "    df_ = df.drop('Date', axis = 1)\n",
    "    cols = df_.columns\n",
    "    num_cols = df_._get_numeric_data().columns #getting columns with numeric data\n",
    "    cat_cols = list(set(cols) - set(num_cols)) #getting the columns with categorical data\n",
    "    num_df = df[num_cols]\n",
    "    cat_df = df[cat_cols]\n",
    "    \n",
    "    return num_df, cat_df"
   ]
  },
  {
   "cell_type": "code",
   "execution_count": 18,
   "id": "e2ee8b4e",
   "metadata": {
    "execution": {
     "iopub.execute_input": "2022-03-03T11:56:47.788154Z",
     "iopub.status.busy": "2022-03-03T11:56:47.787555Z",
     "iopub.status.idle": "2022-03-03T11:56:48.165123Z",
     "shell.execute_reply": "2022-03-03T11:56:48.164444Z",
     "shell.execute_reply.started": "2022-03-03T10:17:54.559152Z"
    },
    "papermill": {
     "duration": 0.422174,
     "end_time": "2022-03-03T11:56:48.165284",
     "exception": false,
     "start_time": "2022-03-03T11:56:47.743110",
     "status": "completed"
    },
    "tags": []
   },
   "outputs": [],
   "source": [
    "num_df, cat_df = split_data(train_open)"
   ]
  },
  {
   "cell_type": "code",
   "execution_count": 19,
   "id": "0d691398",
   "metadata": {
    "execution": {
     "iopub.execute_input": "2022-03-03T11:56:48.253195Z",
     "iopub.status.busy": "2022-03-03T11:56:48.252500Z",
     "iopub.status.idle": "2022-03-03T11:56:48.284571Z",
     "shell.execute_reply": "2022-03-03T11:56:48.284101Z",
     "shell.execute_reply.started": "2022-03-03T10:17:54.949125Z"
    },
    "papermill": {
     "duration": 0.077267,
     "end_time": "2022-03-03T11:56:48.284734",
     "exception": false,
     "start_time": "2022-03-03T11:56:48.207467",
     "status": "completed"
    },
    "tags": []
   },
   "outputs": [
    {
     "data": {
      "text/plain": [
       "Store                             0\n",
       "DayOfWeek                         0\n",
       "Sales                             0\n",
       "Customers                         0\n",
       "Open                              0\n",
       "Promo                             0\n",
       "SchoolHoliday                     0\n",
       "CompetitionDistance            2186\n",
       "CompetitionOpenSinceMonth    268619\n",
       "CompetitionOpenSinceYear     268619\n",
       "Promo2                            0\n",
       "Promo2SinceWeek              423307\n",
       "Promo2SinceYear              423307\n",
       "Year                              0\n",
       "Day                               0\n",
       "WeekOfYear                        0\n",
       "CompetitionOpen              268619\n",
       "PromoOpen                    423307\n",
       "IsPromoMonth                      0\n",
       "dtype: int64"
      ]
     },
     "execution_count": 19,
     "metadata": {},
     "output_type": "execute_result"
    }
   ],
   "source": [
    "#Looking at the null values in the num_df\n",
    "num_df.isnull().sum()"
   ]
  },
  {
   "cell_type": "code",
   "execution_count": 20,
   "id": "d9e98a74",
   "metadata": {
    "execution": {
     "iopub.execute_input": "2022-03-03T11:56:48.371605Z",
     "iopub.status.busy": "2022-03-03T11:56:48.371005Z",
     "iopub.status.idle": "2022-03-03T11:56:48.511009Z",
     "shell.execute_reply": "2022-03-03T11:56:48.511449Z",
     "shell.execute_reply.started": "2022-03-03T10:17:54.983803Z"
    },
    "papermill": {
     "duration": 0.184954,
     "end_time": "2022-03-03T11:56:48.511628",
     "exception": false,
     "start_time": "2022-03-03T11:56:48.326674",
     "status": "completed"
    },
    "tags": []
   },
   "outputs": [],
   "source": [
    "#we can fill the null values with 0 in all the columns except the CompetitionDistance column\n",
    "#We will fill the CompetitionDistance column with median value of the distance\n",
    "#Then we will scale the numerical data using MinMax Scaler \n",
    "from sklearn.preprocessing import MinMaxScaler\n",
    "\n",
    "def fix_num(df):\n",
    "    \n",
    "    median_dist = df['CompetitionDistance'].median()\n",
    "    df['CompetitionDistance'] = df['CompetitionDistance'].fillna(value = median_dist)\n",
    "    \n",
    "    df = df.fillna(value = 0)\n",
    "        \n",
    "    scaler = MinMaxScaler().fit(df)\n",
    "    scaled_cols = list(df.columns)\n",
    "    df[scaled_cols] = scaler.transform(df)\n",
    "    \n",
    "    df = df[scaled_cols]\n",
    "        \n",
    "    return df"
   ]
  },
  {
   "cell_type": "code",
   "execution_count": 21,
   "id": "712a9b90",
   "metadata": {
    "execution": {
     "iopub.execute_input": "2022-03-03T11:56:48.602506Z",
     "iopub.status.busy": "2022-03-03T11:56:48.601760Z",
     "iopub.status.idle": "2022-03-03T11:56:49.239545Z",
     "shell.execute_reply": "2022-03-03T11:56:49.239042Z",
     "shell.execute_reply.started": "2022-03-03T10:17:55.029393Z"
    },
    "papermill": {
     "duration": 0.68531,
     "end_time": "2022-03-03T11:56:49.239713",
     "exception": false,
     "start_time": "2022-03-03T11:56:48.554403",
     "status": "completed"
    },
    "tags": []
   },
   "outputs": [
    {
     "name": "stderr",
     "output_type": "stream",
     "text": [
      "/opt/conda/lib/python3.7/site-packages/ipykernel_launcher.py:9: SettingWithCopyWarning:\n",
      "\n",
      "\n",
      "A value is trying to be set on a copy of a slice from a DataFrame.\n",
      "Try using .loc[row_indexer,col_indexer] = value instead\n",
      "\n",
      "See the caveats in the documentation: https://pandas.pydata.org/pandas-docs/stable/user_guide/indexing.html#returning-a-view-versus-a-copy\n",
      "\n"
     ]
    }
   ],
   "source": [
    "num_df = fix_num(num_df)"
   ]
  },
  {
   "cell_type": "code",
   "execution_count": 22,
   "id": "861178f5",
   "metadata": {
    "execution": {
     "iopub.execute_input": "2022-03-03T11:56:49.331546Z",
     "iopub.status.busy": "2022-03-03T11:56:49.330917Z",
     "iopub.status.idle": "2022-03-03T11:56:49.336208Z",
     "shell.execute_reply": "2022-03-03T11:56:49.336683Z",
     "shell.execute_reply.started": "2022-03-03T10:17:55.639399Z"
    },
    "papermill": {
     "duration": 0.05239,
     "end_time": "2022-03-03T11:56:49.336878",
     "exception": false,
     "start_time": "2022-03-03T11:56:49.284488",
     "status": "completed"
    },
    "tags": []
   },
   "outputs": [],
   "source": [
    "#we will encode the values in categorical columns using OneHotEncoder\n",
    "from sklearn.preprocessing import OneHotEncoder\n",
    "\n",
    "#fixing categorical df\n",
    "def fix_cat(df):\n",
    "    \n",
    "    df = df.drop('PromoInterval', axis = 1)\n",
    "    \n",
    "    df = df.fillna(method = 'ffill') #filling the null values with forward fill method\n",
    "    \n",
    "    encoder = OneHotEncoder(sparse = False).fit(df)\n",
    "    encoded_cols = list(encoder.get_feature_names(df.columns))\n",
    "    \n",
    "    df[encoded_cols] = encoder.transform(df)\n",
    "    \n",
    "    df = df[encoded_cols]\n",
    "    \n",
    "    return df    "
   ]
  },
  {
   "cell_type": "code",
   "execution_count": 23,
   "id": "4a2c48a0",
   "metadata": {
    "execution": {
     "iopub.execute_input": "2022-03-03T11:56:49.425030Z",
     "iopub.status.busy": "2022-03-03T11:56:49.424445Z",
     "iopub.status.idle": "2022-03-03T11:56:51.035033Z",
     "shell.execute_reply": "2022-03-03T11:56:51.035559Z",
     "shell.execute_reply.started": "2022-03-03T10:17:55.649005Z"
    },
    "papermill": {
     "duration": 1.656084,
     "end_time": "2022-03-03T11:56:51.035761",
     "exception": false,
     "start_time": "2022-03-03T11:56:49.379677",
     "status": "completed"
    },
    "tags": []
   },
   "outputs": [],
   "source": [
    "cat_df = fix_cat(cat_df)"
   ]
  },
  {
   "cell_type": "code",
   "execution_count": 24,
   "id": "b22d6335",
   "metadata": {
    "execution": {
     "iopub.execute_input": "2022-03-03T11:56:51.123764Z",
     "iopub.status.busy": "2022-03-03T11:56:51.123067Z",
     "iopub.status.idle": "2022-03-03T11:56:51.126786Z",
     "shell.execute_reply": "2022-03-03T11:56:51.127271Z",
     "shell.execute_reply.started": "2022-03-03T10:17:57.379380Z"
    },
    "papermill": {
     "duration": 0.049512,
     "end_time": "2022-03-03T11:56:51.127436",
     "exception": false,
     "start_time": "2022-03-03T11:56:51.077924",
     "status": "completed"
    },
    "tags": []
   },
   "outputs": [],
   "source": [
    "#Now we will join the three dataset again to finally get our dataset apt for Machine Learning Model\n",
    "\n",
    "def join_all(df1, df2):\n",
    "    \n",
    "    df = df1.join(df2)\n",
    "            \n",
    "    return df"
   ]
  },
  {
   "cell_type": "code",
   "execution_count": 25,
   "id": "5423daab",
   "metadata": {
    "execution": {
     "iopub.execute_input": "2022-03-03T11:56:51.215481Z",
     "iopub.status.busy": "2022-03-03T11:56:51.214889Z",
     "iopub.status.idle": "2022-03-03T11:56:51.331797Z",
     "shell.execute_reply": "2022-03-03T11:56:51.331216Z",
     "shell.execute_reply.started": "2022-03-03T10:17:57.385022Z"
    },
    "papermill": {
     "duration": 0.162045,
     "end_time": "2022-03-03T11:56:51.331939",
     "exception": false,
     "start_time": "2022-03-03T11:56:51.169894",
     "status": "completed"
    },
    "tags": []
   },
   "outputs": [],
   "source": [
    "train_df = join_all(num_df, cat_df)"
   ]
  },
  {
   "cell_type": "code",
   "execution_count": 26,
   "id": "738c872f",
   "metadata": {
    "execution": {
     "iopub.execute_input": "2022-03-03T11:56:51.421636Z",
     "iopub.status.busy": "2022-03-03T11:56:51.420607Z",
     "iopub.status.idle": "2022-03-03T11:56:51.446769Z",
     "shell.execute_reply": "2022-03-03T11:56:51.446263Z",
     "shell.execute_reply.started": "2022-03-03T10:17:57.511567Z"
    },
    "papermill": {
     "duration": 0.071042,
     "end_time": "2022-03-03T11:56:51.446909",
     "exception": false,
     "start_time": "2022-03-03T11:56:51.375867",
     "status": "completed"
    },
    "tags": []
   },
   "outputs": [
    {
     "data": {
      "text/html": [
       "<div>\n",
       "<style scoped>\n",
       "    .dataframe tbody tr th:only-of-type {\n",
       "        vertical-align: middle;\n",
       "    }\n",
       "\n",
       "    .dataframe tbody tr th {\n",
       "        vertical-align: top;\n",
       "    }\n",
       "\n",
       "    .dataframe thead th {\n",
       "        text-align: right;\n",
       "    }\n",
       "</style>\n",
       "<table border=\"1\" class=\"dataframe\">\n",
       "  <thead>\n",
       "    <tr style=\"text-align: right;\">\n",
       "      <th></th>\n",
       "      <th>Store</th>\n",
       "      <th>DayOfWeek</th>\n",
       "      <th>Sales</th>\n",
       "      <th>Customers</th>\n",
       "      <th>Open</th>\n",
       "      <th>Promo</th>\n",
       "      <th>SchoolHoliday</th>\n",
       "      <th>CompetitionDistance</th>\n",
       "      <th>CompetitionOpenSinceMonth</th>\n",
       "      <th>CompetitionOpenSinceYear</th>\n",
       "      <th>...</th>\n",
       "      <th>Month_Dec</th>\n",
       "      <th>Month_Feb</th>\n",
       "      <th>Month_Jan</th>\n",
       "      <th>Month_Jul</th>\n",
       "      <th>Month_Jun</th>\n",
       "      <th>Month_Mar</th>\n",
       "      <th>Month_May</th>\n",
       "      <th>Month_Nov</th>\n",
       "      <th>Month_Oct</th>\n",
       "      <th>Month_Sept</th>\n",
       "    </tr>\n",
       "  </thead>\n",
       "  <tbody>\n",
       "    <tr>\n",
       "      <th>0</th>\n",
       "      <td>0.000000</td>\n",
       "      <td>0.666667</td>\n",
       "      <td>0.126664</td>\n",
       "      <td>0.075122</td>\n",
       "      <td>0.0</td>\n",
       "      <td>1.0</td>\n",
       "      <td>1.0</td>\n",
       "      <td>0.016482</td>\n",
       "      <td>0.750000</td>\n",
       "      <td>0.996526</td>\n",
       "      <td>...</td>\n",
       "      <td>0.0</td>\n",
       "      <td>0.0</td>\n",
       "      <td>0.0</td>\n",
       "      <td>1.0</td>\n",
       "      <td>0.0</td>\n",
       "      <td>0.0</td>\n",
       "      <td>0.0</td>\n",
       "      <td>0.0</td>\n",
       "      <td>0.0</td>\n",
       "      <td>0.0</td>\n",
       "    </tr>\n",
       "    <tr>\n",
       "      <th>1</th>\n",
       "      <td>0.000898</td>\n",
       "      <td>0.666667</td>\n",
       "      <td>0.145941</td>\n",
       "      <td>0.084597</td>\n",
       "      <td>0.0</td>\n",
       "      <td>1.0</td>\n",
       "      <td>1.0</td>\n",
       "      <td>0.007252</td>\n",
       "      <td>0.916667</td>\n",
       "      <td>0.996030</td>\n",
       "      <td>...</td>\n",
       "      <td>0.0</td>\n",
       "      <td>0.0</td>\n",
       "      <td>0.0</td>\n",
       "      <td>1.0</td>\n",
       "      <td>0.0</td>\n",
       "      <td>0.0</td>\n",
       "      <td>0.0</td>\n",
       "      <td>0.0</td>\n",
       "      <td>0.0</td>\n",
       "      <td>0.0</td>\n",
       "    </tr>\n",
       "    <tr>\n",
       "      <th>2</th>\n",
       "      <td>0.001795</td>\n",
       "      <td>0.666667</td>\n",
       "      <td>0.200091</td>\n",
       "      <td>0.111126</td>\n",
       "      <td>0.0</td>\n",
       "      <td>1.0</td>\n",
       "      <td>1.0</td>\n",
       "      <td>0.186050</td>\n",
       "      <td>1.000000</td>\n",
       "      <td>0.995533</td>\n",
       "      <td>...</td>\n",
       "      <td>0.0</td>\n",
       "      <td>0.0</td>\n",
       "      <td>0.0</td>\n",
       "      <td>1.0</td>\n",
       "      <td>0.0</td>\n",
       "      <td>0.0</td>\n",
       "      <td>0.0</td>\n",
       "      <td>0.0</td>\n",
       "      <td>0.0</td>\n",
       "      <td>0.0</td>\n",
       "    </tr>\n",
       "    <tr>\n",
       "      <th>3</th>\n",
       "      <td>0.002693</td>\n",
       "      <td>0.666667</td>\n",
       "      <td>0.336815</td>\n",
       "      <td>0.202761</td>\n",
       "      <td>0.0</td>\n",
       "      <td>1.0</td>\n",
       "      <td>1.0</td>\n",
       "      <td>0.007911</td>\n",
       "      <td>0.750000</td>\n",
       "      <td>0.997022</td>\n",
       "      <td>...</td>\n",
       "      <td>0.0</td>\n",
       "      <td>0.0</td>\n",
       "      <td>0.0</td>\n",
       "      <td>1.0</td>\n",
       "      <td>0.0</td>\n",
       "      <td>0.0</td>\n",
       "      <td>0.0</td>\n",
       "      <td>0.0</td>\n",
       "      <td>0.0</td>\n",
       "      <td>0.0</td>\n",
       "    </tr>\n",
       "    <tr>\n",
       "      <th>4</th>\n",
       "      <td>0.003591</td>\n",
       "      <td>0.666667</td>\n",
       "      <td>0.116050</td>\n",
       "      <td>0.075663</td>\n",
       "      <td>0.0</td>\n",
       "      <td>1.0</td>\n",
       "      <td>1.0</td>\n",
       "      <td>0.394119</td>\n",
       "      <td>0.333333</td>\n",
       "      <td>1.000000</td>\n",
       "      <td>...</td>\n",
       "      <td>0.0</td>\n",
       "      <td>0.0</td>\n",
       "      <td>0.0</td>\n",
       "      <td>1.0</td>\n",
       "      <td>0.0</td>\n",
       "      <td>0.0</td>\n",
       "      <td>0.0</td>\n",
       "      <td>0.0</td>\n",
       "      <td>0.0</td>\n",
       "      <td>0.0</td>\n",
       "    </tr>\n",
       "  </tbody>\n",
       "</table>\n",
       "<p>5 rows × 42 columns</p>\n",
       "</div>"
      ],
      "text/plain": [
       "      Store  DayOfWeek     Sales  Customers  Open  Promo  SchoolHoliday  \\\n",
       "0  0.000000   0.666667  0.126664   0.075122   0.0    1.0            1.0   \n",
       "1  0.000898   0.666667  0.145941   0.084597   0.0    1.0            1.0   \n",
       "2  0.001795   0.666667  0.200091   0.111126   0.0    1.0            1.0   \n",
       "3  0.002693   0.666667  0.336815   0.202761   0.0    1.0            1.0   \n",
       "4  0.003591   0.666667  0.116050   0.075663   0.0    1.0            1.0   \n",
       "\n",
       "   CompetitionDistance  CompetitionOpenSinceMonth  CompetitionOpenSinceYear  \\\n",
       "0             0.016482                   0.750000                  0.996526   \n",
       "1             0.007252                   0.916667                  0.996030   \n",
       "2             0.186050                   1.000000                  0.995533   \n",
       "3             0.007911                   0.750000                  0.997022   \n",
       "4             0.394119                   0.333333                  1.000000   \n",
       "\n",
       "   ...  Month_Dec  Month_Feb  Month_Jan  Month_Jul  Month_Jun  Month_Mar  \\\n",
       "0  ...        0.0        0.0        0.0        1.0        0.0        0.0   \n",
       "1  ...        0.0        0.0        0.0        1.0        0.0        0.0   \n",
       "2  ...        0.0        0.0        0.0        1.0        0.0        0.0   \n",
       "3  ...        0.0        0.0        0.0        1.0        0.0        0.0   \n",
       "4  ...        0.0        0.0        0.0        1.0        0.0        0.0   \n",
       "\n",
       "   Month_May  Month_Nov  Month_Oct  Month_Sept  \n",
       "0        0.0        0.0        0.0         0.0  \n",
       "1        0.0        0.0        0.0         0.0  \n",
       "2        0.0        0.0        0.0         0.0  \n",
       "3        0.0        0.0        0.0         0.0  \n",
       "4        0.0        0.0        0.0         0.0  \n",
       "\n",
       "[5 rows x 42 columns]"
      ]
     },
     "execution_count": 26,
     "metadata": {},
     "output_type": "execute_result"
    }
   ],
   "source": [
    "train_df.head()"
   ]
  },
  {
   "cell_type": "markdown",
   "id": "f88c1891",
   "metadata": {
    "papermill": {
     "duration": 0.046738,
     "end_time": "2022-03-03T11:56:51.537563",
     "exception": false,
     "start_time": "2022-03-03T11:56:51.490825",
     "status": "completed"
    },
    "tags": []
   },
   "source": [
    "# Modelling and Testing"
   ]
  },
  {
   "cell_type": "markdown",
   "id": "8144e205",
   "metadata": {
    "papermill": {
     "duration": 0.042237,
     "end_time": "2022-03-03T11:56:51.623445",
     "exception": false,
     "start_time": "2022-03-03T11:56:51.581208",
     "status": "completed"
    },
    "tags": []
   },
   "source": [
    "To start with modelling and testing process we will split the train_df dataset into training and testing part.\n",
    "\n",
    "Here Sale column is our target variable and rest of the columns are our feature variable."
   ]
  },
  {
   "cell_type": "code",
   "execution_count": 27,
   "id": "9b878964",
   "metadata": {
    "execution": {
     "iopub.execute_input": "2022-03-03T11:56:51.712876Z",
     "iopub.status.busy": "2022-03-03T11:56:51.711958Z",
     "iopub.status.idle": "2022-03-03T11:56:52.598464Z",
     "shell.execute_reply": "2022-03-03T11:56:52.597887Z",
     "shell.execute_reply.started": "2022-03-03T10:44:11.354856Z"
    },
    "papermill": {
     "duration": 0.932044,
     "end_time": "2022-03-03T11:56:52.598619",
     "exception": false,
     "start_time": "2022-03-03T11:56:51.666575",
     "status": "completed"
    },
    "tags": []
   },
   "outputs": [],
   "source": [
    "from sklearn.model_selection import train_test_split\n",
    "\n",
    "X = train_df.drop('Sales', axis = 1)\n",
    "\n",
    "y = train_df['Sales']\n",
    "\n",
    "X_train, X_test, y_train, y_test = train_test_split(X, y, test_size = 0.30, random_state = 101)"
   ]
  },
  {
   "cell_type": "markdown",
   "id": "997b9fd0",
   "metadata": {
    "papermill": {
     "duration": 0.043187,
     "end_time": "2022-03-03T11:56:52.684630",
     "exception": false,
     "start_time": "2022-03-03T11:56:52.641443",
     "status": "completed"
    },
    "tags": []
   },
   "source": [
    "First we will run a plain linear regression and record our baseline model performance score and then we will run other models and compare it with our baseline score."
   ]
  },
  {
   "cell_type": "code",
   "execution_count": 28,
   "id": "8c7f826a",
   "metadata": {
    "execution": {
     "iopub.execute_input": "2022-03-03T11:56:52.776179Z",
     "iopub.status.busy": "2022-03-03T11:56:52.775549Z",
     "iopub.status.idle": "2022-03-03T11:56:53.070039Z",
     "shell.execute_reply": "2022-03-03T11:56:53.069478Z",
     "shell.execute_reply.started": "2022-03-03T11:22:22.754340Z"
    },
    "papermill": {
     "duration": 0.340242,
     "end_time": "2022-03-03T11:56:53.070195",
     "exception": false,
     "start_time": "2022-03-03T11:56:52.729953",
     "status": "completed"
    },
    "tags": []
   },
   "outputs": [],
   "source": [
    "import time\n",
    "from sklearn.linear_model import LinearRegression,SGDRegressor\n",
    "from sklearn.ensemble import RandomForestRegressor\n",
    "from sklearn.pipeline import Pipeline\n",
    "from sklearn.metrics import mean_squared_error\n",
    "from xgboost import XGBRegressor"
   ]
  },
  {
   "cell_type": "code",
   "execution_count": 29,
   "id": "b51f95c4",
   "metadata": {
    "execution": {
     "iopub.execute_input": "2022-03-03T11:56:53.161471Z",
     "iopub.status.busy": "2022-03-03T11:56:53.160888Z",
     "iopub.status.idle": "2022-03-03T11:56:53.164131Z",
     "shell.execute_reply": "2022-03-03T11:56:53.164684Z",
     "shell.execute_reply.started": "2022-03-03T11:19:21.819308Z"
    },
    "papermill": {
     "duration": 0.051339,
     "end_time": "2022-03-03T11:56:53.164877",
     "exception": false,
     "start_time": "2022-03-03T11:56:53.113538",
     "status": "completed"
    },
    "tags": []
   },
   "outputs": [],
   "source": [
    "#Initialize Linear Regression\n",
    "lr = LinearRegression()"
   ]
  },
  {
   "cell_type": "code",
   "execution_count": 30,
   "id": "2ef3655d",
   "metadata": {
    "execution": {
     "iopub.execute_input": "2022-03-03T11:56:53.255066Z",
     "iopub.status.busy": "2022-03-03T11:56:53.254468Z",
     "iopub.status.idle": "2022-03-03T11:56:54.212860Z",
     "shell.execute_reply": "2022-03-03T11:56:54.214016Z",
     "shell.execute_reply.started": "2022-03-03T11:19:22.709569Z"
    },
    "papermill": {
     "duration": 1.006044,
     "end_time": "2022-03-03T11:56:54.214357",
     "exception": false,
     "start_time": "2022-03-03T11:56:53.208313",
     "status": "completed"
    },
    "tags": []
   },
   "outputs": [
    {
     "name": "stdout",
     "output_type": "stream",
     "text": [
      "Mean Squared Error:  0.030544489521602578\n"
     ]
    }
   ],
   "source": [
    "lr.fit(X_train, y_train)\n",
    "pred = lr.predict(X_test)\n",
    "\n",
    "print(\"Mean Squared Error: \", np.sqrt(mean_squared_error(y_test, pred)))"
   ]
  },
  {
   "cell_type": "code",
   "execution_count": 31,
   "id": "f371a21a",
   "metadata": {
    "execution": {
     "iopub.execute_input": "2022-03-03T11:56:54.378407Z",
     "iopub.status.busy": "2022-03-03T11:56:54.377637Z",
     "iopub.status.idle": "2022-03-03T12:11:00.267929Z",
     "shell.execute_reply": "2022-03-03T12:11:00.268542Z",
     "shell.execute_reply.started": "2022-03-03T11:22:28.280967Z"
    },
    "papermill": {
     "duration": 845.95181,
     "end_time": "2022-03-03T12:11:00.268737",
     "exception": false,
     "start_time": "2022-03-03T11:56:54.316927",
     "status": "completed"
    },
    "tags": []
   },
   "outputs": [],
   "source": [
    "#let's prepare the model pipelines\n",
    "\n",
    "def model_perform(model, X_train, X_test, y_train, y_test):\n",
    "    \n",
    "    start = time.time()\n",
    "    model = model.fit(X_train, y_train)\n",
    "    pred = model.predict(X_test)\n",
    "    score = np.sqrt(mean_squared_error(y_test, pred))\n",
    "    \n",
    "    end = time.time()\n",
    "    time_taken  = end - start\n",
    "    \n",
    "    return score, time_taken\n",
    "\n",
    "pipelines = [('RandomForesstRegressor', RandomForestRegressor()),\n",
    "             ('Linear Regression', LinearRegression()),\n",
    "             ('SGD Regressor', SGDRegressor()),\n",
    "              ('XGBoostRegressor', XGBRegressor())]\n",
    "\n",
    "Scores = {'Model_name': [],\n",
    "          'Score': [],\n",
    "          'Time_taken_in_secs': []}\n",
    "\n",
    "for model_name, model in pipelines:\n",
    "  score, time_taken = model_perform(model, X_train, X_test, y_train, y_test)\n",
    "  Scores['Model_name'].append(model_name)\n",
    "  Scores['Score'].append(score)\n",
    "  Scores['Time_taken_in_secs'].append(time_taken)"
   ]
  },
  {
   "cell_type": "code",
   "execution_count": 32,
   "id": "47d64fcc",
   "metadata": {
    "execution": {
     "iopub.execute_input": "2022-03-03T12:11:00.360458Z",
     "iopub.status.busy": "2022-03-03T12:11:00.359503Z",
     "iopub.status.idle": "2022-03-03T12:11:00.364246Z",
     "shell.execute_reply": "2022-03-03T12:11:00.364820Z",
     "shell.execute_reply.started": "2022-03-03T11:36:34.343656Z"
    },
    "papermill": {
     "duration": 0.051737,
     "end_time": "2022-03-03T12:11:00.365000",
     "exception": false,
     "start_time": "2022-03-03T12:11:00.313263",
     "status": "completed"
    },
    "tags": []
   },
   "outputs": [],
   "source": [
    "Scores = pd.DataFrame.from_dict(Scores)"
   ]
  },
  {
   "cell_type": "code",
   "execution_count": 33,
   "id": "9ed8cbf2",
   "metadata": {
    "execution": {
     "iopub.execute_input": "2022-03-03T12:11:00.455087Z",
     "iopub.status.busy": "2022-03-03T12:11:00.454139Z",
     "iopub.status.idle": "2022-03-03T12:11:00.463636Z",
     "shell.execute_reply": "2022-03-03T12:11:00.464170Z",
     "shell.execute_reply.started": "2022-03-03T11:36:34.353668Z"
    },
    "papermill": {
     "duration": 0.056101,
     "end_time": "2022-03-03T12:11:00.464336",
     "exception": false,
     "start_time": "2022-03-03T12:11:00.408235",
     "status": "completed"
    },
    "tags": []
   },
   "outputs": [
    {
     "data": {
      "text/html": [
       "<div>\n",
       "<style scoped>\n",
       "    .dataframe tbody tr th:only-of-type {\n",
       "        vertical-align: middle;\n",
       "    }\n",
       "\n",
       "    .dataframe tbody tr th {\n",
       "        vertical-align: top;\n",
       "    }\n",
       "\n",
       "    .dataframe thead th {\n",
       "        text-align: right;\n",
       "    }\n",
       "</style>\n",
       "<table border=\"1\" class=\"dataframe\">\n",
       "  <thead>\n",
       "    <tr style=\"text-align: right;\">\n",
       "      <th></th>\n",
       "      <th>Model_name</th>\n",
       "      <th>Score</th>\n",
       "      <th>Time_taken_in_secs</th>\n",
       "    </tr>\n",
       "  </thead>\n",
       "  <tbody>\n",
       "    <tr>\n",
       "      <th>0</th>\n",
       "      <td>RandomForesstRegressor</td>\n",
       "      <td>0.011518</td>\n",
       "      <td>777.531653</td>\n",
       "    </tr>\n",
       "    <tr>\n",
       "      <th>1</th>\n",
       "      <td>Linear Regression</td>\n",
       "      <td>0.030544</td>\n",
       "      <td>0.929346</td>\n",
       "    </tr>\n",
       "    <tr>\n",
       "      <th>2</th>\n",
       "      <td>SGD Regressor</td>\n",
       "      <td>0.031784</td>\n",
       "      <td>1.486170</td>\n",
       "    </tr>\n",
       "    <tr>\n",
       "      <th>3</th>\n",
       "      <td>XGBoostRegressor</td>\n",
       "      <td>0.012911</td>\n",
       "      <td>65.942479</td>\n",
       "    </tr>\n",
       "  </tbody>\n",
       "</table>\n",
       "</div>"
      ],
      "text/plain": [
       "               Model_name     Score  Time_taken_in_secs\n",
       "0  RandomForesstRegressor  0.011518          777.531653\n",
       "1       Linear Regression  0.030544            0.929346\n",
       "2           SGD Regressor  0.031784            1.486170\n",
       "3        XGBoostRegressor  0.012911           65.942479"
      ]
     },
     "execution_count": 33,
     "metadata": {},
     "output_type": "execute_result"
    }
   ],
   "source": [
    "Scores"
   ]
  },
  {
   "cell_type": "markdown",
   "id": "59841755",
   "metadata": {
    "papermill": {
     "duration": 0.045071,
     "end_time": "2022-03-03T12:11:00.552917",
     "exception": false,
     "start_time": "2022-03-03T12:11:00.507846",
     "status": "completed"
    },
    "tags": []
   },
   "source": [
    "Our Best models from the above are Random Forrest and XGBoost. However, XGBoost took a lot less time, so we will do the Hyper Parameter tuning using K-Fold cross-validation with the help of Grid-Search CV"
   ]
  },
  {
   "cell_type": "markdown",
   "id": "9d35c241",
   "metadata": {
    "papermill": {
     "duration": 0.044079,
     "end_time": "2022-03-03T12:11:00.641552",
     "exception": false,
     "start_time": "2022-03-03T12:11:00.597473",
     "status": "completed"
    },
    "tags": []
   },
   "source": [
    "# Hyper Parameter Tuning"
   ]
  },
  {
   "cell_type": "code",
   "execution_count": 34,
   "id": "32afc099",
   "metadata": {
    "execution": {
     "iopub.execute_input": "2022-03-03T12:11:00.735935Z",
     "iopub.status.busy": "2022-03-03T12:11:00.735030Z",
     "iopub.status.idle": "2022-03-03T12:11:00.737594Z",
     "shell.execute_reply": "2022-03-03T12:11:00.737160Z",
     "shell.execute_reply.started": "2022-03-03T11:47:19.053305Z"
    },
    "papermill": {
     "duration": 0.051257,
     "end_time": "2022-03-03T12:11:00.737762",
     "exception": false,
     "start_time": "2022-03-03T12:11:00.686505",
     "status": "completed"
    },
    "tags": []
   },
   "outputs": [],
   "source": [
    "from sklearn.model_selection import GridSearchCV"
   ]
  },
  {
   "cell_type": "code",
   "execution_count": 35,
   "id": "3b35f80d",
   "metadata": {
    "execution": {
     "iopub.execute_input": "2022-03-03T12:11:00.832879Z",
     "iopub.status.busy": "2022-03-03T12:11:00.831912Z",
     "iopub.status.idle": "2022-03-03T12:11:00.834867Z",
     "shell.execute_reply": "2022-03-03T12:11:00.834263Z",
     "shell.execute_reply.started": "2022-03-03T11:52:28.707489Z"
    },
    "papermill": {
     "duration": 0.052889,
     "end_time": "2022-03-03T12:11:00.835011",
     "exception": false,
     "start_time": "2022-03-03T12:11:00.782122",
     "status": "completed"
    },
    "tags": []
   },
   "outputs": [],
   "source": [
    "param_grid = {'min_child_weight': [1, 5, 10],\n",
    "              'gamma': [0.5, 1, 1.5],\n",
    "              'max_depth': [3, 4, 5]\n",
    "              }\n",
    "\n",
    "xgb_grid = GridSearchCV(estimator = XGBRegressor(), param_grid = param_grid, \n",
    "                        scoring='neg_mean_squared_error',\n",
    "                        cv = 3, n_jobs = -1, verbose=2)"
   ]
  },
  {
   "cell_type": "code",
   "execution_count": 36,
   "id": "004b4d28",
   "metadata": {
    "execution": {
     "iopub.execute_input": "2022-03-03T12:11:00.929950Z",
     "iopub.status.busy": "2022-03-03T12:11:00.929273Z",
     "iopub.status.idle": "2022-03-03T13:07:01.833077Z",
     "shell.execute_reply": "2022-03-03T13:07:01.833804Z",
     "shell.execute_reply.started": "2022-03-03T11:53:28.142934Z"
    },
    "papermill": {
     "duration": 3360.955018,
     "end_time": "2022-03-03T13:07:01.834187",
     "exception": false,
     "start_time": "2022-03-03T12:11:00.879169",
     "status": "completed"
    },
    "tags": []
   },
   "outputs": [
    {
     "name": "stdout",
     "output_type": "stream",
     "text": [
      "Fitting 3 folds for each of 27 candidates, totalling 81 fits\n"
     ]
    },
    {
     "name": "stderr",
     "output_type": "stream",
     "text": [
      "[Parallel(n_jobs=-1)]: Using backend LokyBackend with 4 concurrent workers.\n",
      "[Parallel(n_jobs=-1)]: Done  33 tasks      | elapsed: 22.4min\n",
      "[Parallel(n_jobs=-1)]: Done  81 out of  81 | elapsed: 55.1min finished\n"
     ]
    },
    {
     "name": "stdout",
     "output_type": "stream",
     "text": [
      "Best Score:  -0.0005542995209402243\n",
      "Best Params:  {'gamma': 0.5, 'max_depth': 5, 'min_child_weight': 1}\n",
      "CPU times: user 3min 34s, sys: 1.62 s, total: 3min 35s\n",
      "Wall time: 56min\n"
     ]
    }
   ],
   "source": [
    "%%time\n",
    "xgb_grid.fit(X_train, y_train)\n",
    "\n",
    "xgb_best = xgb_grid.best_estimator_\n",
    "\n",
    "print(\"Best Score: \", xgb_grid.best_score_)\n",
    "print(\"Best Params: \", xgb_grid.best_params_)"
   ]
  },
  {
   "cell_type": "code",
   "execution_count": null,
   "id": "61cb8a0f",
   "metadata": {
    "papermill": {
     "duration": 0.045751,
     "end_time": "2022-03-03T13:07:01.927178",
     "exception": false,
     "start_time": "2022-03-03T13:07:01.881427",
     "status": "completed"
    },
    "tags": []
   },
   "outputs": [],
   "source": []
  }
 ],
 "metadata": {
  "kernelspec": {
   "display_name": "Python 3",
   "language": "python",
   "name": "python3"
  },
  "language_info": {
   "codemirror_mode": {
    "name": "ipython",
    "version": 3
   },
   "file_extension": ".py",
   "mimetype": "text/x-python",
   "name": "python",
   "nbconvert_exporter": "python",
   "pygments_lexer": "ipython3",
   "version": "3.7.12"
  },
  "papermill": {
   "default_parameters": {},
   "duration": 4304.279986,
   "end_time": "2022-03-03T13:07:03.696036",
   "environment_variables": {},
   "exception": null,
   "input_path": "__notebook__.ipynb",
   "output_path": "__notebook__.ipynb",
   "parameters": {},
   "start_time": "2022-03-03T11:55:19.416050",
   "version": "2.3.3"
  }
 },
 "nbformat": 4,
 "nbformat_minor": 5
}
