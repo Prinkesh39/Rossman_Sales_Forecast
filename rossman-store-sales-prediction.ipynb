{
 "cells": [
  {
   "cell_type": "code",
   "execution_count": 1,
   "id": "a85ea63a",
   "metadata": {
    "_cell_guid": "b1076dfc-b9ad-4769-8c92-a6c4dae69d19",
    "_uuid": "8f2839f25d086af736a60e9eeb907d3b93b6e0e5",
    "execution": {
     "iopub.execute_input": "2022-03-04T08:14:40.666429Z",
     "iopub.status.busy": "2022-03-04T08:14:40.665219Z",
     "iopub.status.idle": "2022-03-04T08:14:40.678215Z",
     "shell.execute_reply": "2022-03-04T08:14:40.678702Z",
     "shell.execute_reply.started": "2022-03-04T05:02:29.713502Z"
    },
    "papermill": {
     "duration": 0.083074,
     "end_time": "2022-03-04T08:14:40.679026",
     "exception": false,
     "start_time": "2022-03-04T08:14:40.595952",
     "status": "completed"
    },
    "tags": []
   },
   "outputs": [
    {
     "name": "stdout",
     "output_type": "stream",
     "text": [
      "/kaggle/input/rossmann-store-sales/sample_submission.csv\n",
      "/kaggle/input/rossmann-store-sales/store.csv\n",
      "/kaggle/input/rossmann-store-sales/train.csv\n",
      "/kaggle/input/rossmann-store-sales/test.csv\n"
     ]
    }
   ],
   "source": [
    "# This Python 3 environment comes with many helpful analytics libraries installed\n",
    "# It is defined by the kaggle/python Docker image: https://github.com/kaggle/docker-python\n",
    "# For example, here's several helpful packages to load\n",
    "\n",
    "import numpy as np # linear algebra\n",
    "import pandas as pd # data processing, CSV file I/O (e.g. pd.read_csv)\n",
    "\n",
    "# Input data files are available in the read-only \"../input/\" directory\n",
    "# For example, running this (by clicking run or pressing Shift+Enter) will list all files under the input directory\n",
    "\n",
    "import os\n",
    "for dirname, _, filenames in os.walk('/kaggle/input'):\n",
    "    for filename in filenames:\n",
    "        print(os.path.join(dirname, filename))\n",
    "\n",
    "# You can write up to 20GB to the current directory (/kaggle/working/) that gets preserved as output when you create a version using \"Save & Run All\" \n",
    "# You can also write temporary files to /kaggle/temp/, but they won't be saved outside of the current session"
   ]
  },
  {
   "cell_type": "code",
   "execution_count": 2,
   "id": "9de94a3d",
   "metadata": {
    "execution": {
     "iopub.execute_input": "2022-03-04T08:14:40.812233Z",
     "iopub.status.busy": "2022-03-04T08:14:40.811599Z",
     "iopub.status.idle": "2022-03-04T08:14:42.219827Z",
     "shell.execute_reply": "2022-03-04T08:14:42.220395Z",
     "shell.execute_reply.started": "2022-03-04T07:43:33.297610Z"
    },
    "papermill": {
     "duration": 1.474937,
     "end_time": "2022-03-04T08:14:42.220569",
     "exception": false,
     "start_time": "2022-03-04T08:14:40.745632",
     "status": "completed"
    },
    "tags": []
   },
   "outputs": [
    {
     "name": "stderr",
     "output_type": "stream",
     "text": [
      "/opt/conda/lib/python3.7/site-packages/IPython/core/interactiveshell.py:3457: DtypeWarning: Columns (7) have mixed types.Specify dtype option on import or set low_memory=False.\n",
      "  exec(code_obj, self.user_global_ns, self.user_ns)\n"
     ]
    }
   ],
   "source": [
    "#Loading the Datasets\n",
    "stores = pd.read_csv(\"../input/rossmann-store-sales/store.csv\")\n",
    "\n",
    "train = pd.read_csv(\"../input/rossmann-store-sales/train.csv\", parse_dates = ['Date'])\n"
   ]
  },
  {
   "cell_type": "markdown",
   "id": "3e6037e7",
   "metadata": {
    "papermill": {
     "duration": 0.064785,
     "end_time": "2022-03-04T08:14:42.350792",
     "exception": false,
     "start_time": "2022-03-04T08:14:42.286007",
     "status": "completed"
    },
    "tags": []
   },
   "source": [
    "# Exploratory Data Analysis"
   ]
  },
  {
   "cell_type": "code",
   "execution_count": 3,
   "id": "73067919",
   "metadata": {
    "execution": {
     "iopub.execute_input": "2022-03-04T08:14:42.482385Z",
     "iopub.status.busy": "2022-03-04T08:14:42.481651Z",
     "iopub.status.idle": "2022-03-04T08:14:42.504681Z",
     "shell.execute_reply": "2022-03-04T08:14:42.505381Z",
     "shell.execute_reply.started": "2022-03-04T05:02:31.390368Z"
    },
    "papermill": {
     "duration": 0.090529,
     "end_time": "2022-03-04T08:14:42.505582",
     "exception": false,
     "start_time": "2022-03-04T08:14:42.415053",
     "status": "completed"
    },
    "tags": []
   },
   "outputs": [
    {
     "data": {
      "text/html": [
       "<div>\n",
       "<style scoped>\n",
       "    .dataframe tbody tr th:only-of-type {\n",
       "        vertical-align: middle;\n",
       "    }\n",
       "\n",
       "    .dataframe tbody tr th {\n",
       "        vertical-align: top;\n",
       "    }\n",
       "\n",
       "    .dataframe thead th {\n",
       "        text-align: right;\n",
       "    }\n",
       "</style>\n",
       "<table border=\"1\" class=\"dataframe\">\n",
       "  <thead>\n",
       "    <tr style=\"text-align: right;\">\n",
       "      <th></th>\n",
       "      <th>Store</th>\n",
       "      <th>StoreType</th>\n",
       "      <th>Assortment</th>\n",
       "      <th>CompetitionDistance</th>\n",
       "      <th>CompetitionOpenSinceMonth</th>\n",
       "      <th>CompetitionOpenSinceYear</th>\n",
       "      <th>Promo2</th>\n",
       "      <th>Promo2SinceWeek</th>\n",
       "      <th>Promo2SinceYear</th>\n",
       "      <th>PromoInterval</th>\n",
       "    </tr>\n",
       "  </thead>\n",
       "  <tbody>\n",
       "    <tr>\n",
       "      <th>0</th>\n",
       "      <td>1</td>\n",
       "      <td>c</td>\n",
       "      <td>a</td>\n",
       "      <td>1270.0</td>\n",
       "      <td>9.0</td>\n",
       "      <td>2008.0</td>\n",
       "      <td>0</td>\n",
       "      <td>NaN</td>\n",
       "      <td>NaN</td>\n",
       "      <td>NaN</td>\n",
       "    </tr>\n",
       "    <tr>\n",
       "      <th>1</th>\n",
       "      <td>2</td>\n",
       "      <td>a</td>\n",
       "      <td>a</td>\n",
       "      <td>570.0</td>\n",
       "      <td>11.0</td>\n",
       "      <td>2007.0</td>\n",
       "      <td>1</td>\n",
       "      <td>13.0</td>\n",
       "      <td>2010.0</td>\n",
       "      <td>Jan,Apr,Jul,Oct</td>\n",
       "    </tr>\n",
       "    <tr>\n",
       "      <th>2</th>\n",
       "      <td>3</td>\n",
       "      <td>a</td>\n",
       "      <td>a</td>\n",
       "      <td>14130.0</td>\n",
       "      <td>12.0</td>\n",
       "      <td>2006.0</td>\n",
       "      <td>1</td>\n",
       "      <td>14.0</td>\n",
       "      <td>2011.0</td>\n",
       "      <td>Jan,Apr,Jul,Oct</td>\n",
       "    </tr>\n",
       "    <tr>\n",
       "      <th>3</th>\n",
       "      <td>4</td>\n",
       "      <td>c</td>\n",
       "      <td>c</td>\n",
       "      <td>620.0</td>\n",
       "      <td>9.0</td>\n",
       "      <td>2009.0</td>\n",
       "      <td>0</td>\n",
       "      <td>NaN</td>\n",
       "      <td>NaN</td>\n",
       "      <td>NaN</td>\n",
       "    </tr>\n",
       "    <tr>\n",
       "      <th>4</th>\n",
       "      <td>5</td>\n",
       "      <td>a</td>\n",
       "      <td>a</td>\n",
       "      <td>29910.0</td>\n",
       "      <td>4.0</td>\n",
       "      <td>2015.0</td>\n",
       "      <td>0</td>\n",
       "      <td>NaN</td>\n",
       "      <td>NaN</td>\n",
       "      <td>NaN</td>\n",
       "    </tr>\n",
       "  </tbody>\n",
       "</table>\n",
       "</div>"
      ],
      "text/plain": [
       "   Store StoreType Assortment  CompetitionDistance  CompetitionOpenSinceMonth  \\\n",
       "0      1         c          a               1270.0                        9.0   \n",
       "1      2         a          a                570.0                       11.0   \n",
       "2      3         a          a              14130.0                       12.0   \n",
       "3      4         c          c                620.0                        9.0   \n",
       "4      5         a          a              29910.0                        4.0   \n",
       "\n",
       "   CompetitionOpenSinceYear  Promo2  Promo2SinceWeek  Promo2SinceYear  \\\n",
       "0                    2008.0       0              NaN              NaN   \n",
       "1                    2007.0       1             13.0           2010.0   \n",
       "2                    2006.0       1             14.0           2011.0   \n",
       "3                    2009.0       0              NaN              NaN   \n",
       "4                    2015.0       0              NaN              NaN   \n",
       "\n",
       "     PromoInterval  \n",
       "0              NaN  \n",
       "1  Jan,Apr,Jul,Oct  \n",
       "2  Jan,Apr,Jul,Oct  \n",
       "3              NaN  \n",
       "4              NaN  "
      ]
     },
     "execution_count": 3,
     "metadata": {},
     "output_type": "execute_result"
    }
   ],
   "source": [
    "#Reading the stores dataset\n",
    "stores.head()"
   ]
  },
  {
   "cell_type": "code",
   "execution_count": 4,
   "id": "00334075",
   "metadata": {
    "execution": {
     "iopub.execute_input": "2022-03-04T08:14:42.672400Z",
     "iopub.status.busy": "2022-03-04T08:14:42.671720Z",
     "iopub.status.idle": "2022-03-04T08:14:43.820788Z",
     "shell.execute_reply": "2022-03-04T08:14:43.820259Z",
     "shell.execute_reply.started": "2022-03-04T05:02:31.421489Z"
    },
    "papermill": {
     "duration": 1.233955,
     "end_time": "2022-03-04T08:14:43.820949",
     "exception": false,
     "start_time": "2022-03-04T08:14:42.586994",
     "status": "completed"
    },
    "tags": []
   },
   "outputs": [
    {
     "data": {
      "text/html": [
       "        <script type=\"text/javascript\">\n",
       "        window.PlotlyConfig = {MathJaxConfig: 'local'};\n",
       "        if (window.MathJax) {MathJax.Hub.Config({SVG: {font: \"STIX-Web\"}});}\n",
       "        if (typeof require !== 'undefined') {\n",
       "        require.undef(\"plotly\");\n",
       "        requirejs.config({\n",
       "            paths: {\n",
       "                'plotly': ['https://cdn.plot.ly/plotly-2.8.3.min']\n",
       "            }\n",
       "        });\n",
       "        require(['plotly'], function(Plotly) {\n",
       "            window._Plotly = Plotly;\n",
       "        });\n",
       "        }\n",
       "        </script>\n",
       "        "
      ]
     },
     "metadata": {},
     "output_type": "display_data"
    }
   ],
   "source": [
    "import matplotlib.pyplot as plt\n",
    "%matplotlib inline\n",
    "\n",
    "import seaborn as sns\n",
    "\n",
    "import plotly.offline as py\n",
    "py.init_notebook_mode(connected=True)\n",
    "import plotly.graph_objs as go\n",
    "import plotly.tools as tls"
   ]
  },
  {
   "cell_type": "code",
   "execution_count": 5,
   "id": "45faadc3",
   "metadata": {
    "execution": {
     "iopub.execute_input": "2022-03-04T08:14:43.963234Z",
     "iopub.status.busy": "2022-03-04T08:14:43.962485Z",
     "iopub.status.idle": "2022-03-04T08:14:44.247687Z",
     "shell.execute_reply": "2022-03-04T08:14:44.247112Z",
     "shell.execute_reply.started": "2022-03-04T05:02:32.625924Z"
    },
    "papermill": {
     "duration": 0.358936,
     "end_time": "2022-03-04T08:14:44.247836",
     "exception": false,
     "start_time": "2022-03-04T08:14:43.888900",
     "status": "completed"
    },
    "tags": []
   },
   "outputs": [
    {
     "data": {
      "image/png": "[encoded data removed]",
      "text/plain": [
       "<Figure size 720x432 with 1 Axes>"
      ]
     },
     "metadata": {
      "needs_background": "light"
     },
     "output_type": "display_data"
    }
   ],
   "source": [
    "#Let's first do some EDA before cleaning our dataset\n",
    "stores.groupby(['StoreType', 'Assortment']).size().unstack().plot(kind = 'bar', stacked = True,\n",
    "                                                                 figsize = (10, 6))\n",
    "plt.title(\"Distribution of Assortment type per Store type\")\n",
    "plt.xlabel(\"Store Type\")\n",
    "plt.show()"
   ]
  },
  {
   "cell_type": "code",
   "execution_count": 6,
   "id": "19e9a8bb",
   "metadata": {
    "execution": {
     "iopub.execute_input": "2022-03-04T08:14:44.386454Z",
     "iopub.status.busy": "2022-03-04T08:14:44.385457Z",
     "iopub.status.idle": "2022-03-04T08:14:44.398030Z",
     "shell.execute_reply": "2022-03-04T08:14:44.398594Z",
     "shell.execute_reply.started": "2022-03-04T05:02:32.935788Z"
    },
    "papermill": {
     "duration": 0.08368,
     "end_time": "2022-03-04T08:14:44.398767",
     "exception": false,
     "start_time": "2022-03-04T08:14:44.315087",
     "status": "completed"
    },
    "tags": []
   },
   "outputs": [
    {
     "data": {
      "text/html": [
       "<div>\n",
       "<style scoped>\n",
       "    .dataframe tbody tr th:only-of-type {\n",
       "        vertical-align: middle;\n",
       "    }\n",
       "\n",
       "    .dataframe tbody tr th {\n",
       "        vertical-align: top;\n",
       "    }\n",
       "\n",
       "    .dataframe thead th {\n",
       "        text-align: right;\n",
       "    }\n",
       "</style>\n",
       "<table border=\"1\" class=\"dataframe\">\n",
       "  <thead>\n",
       "    <tr style=\"text-align: right;\">\n",
       "      <th></th>\n",
       "      <th>Store</th>\n",
       "      <th>DayOfWeek</th>\n",
       "      <th>Date</th>\n",
       "      <th>Sales</th>\n",
       "      <th>Customers</th>\n",
       "      <th>Open</th>\n",
       "      <th>Promo</th>\n",
       "      <th>StateHoliday</th>\n",
       "      <th>SchoolHoliday</th>\n",
       "    </tr>\n",
       "  </thead>\n",
       "  <tbody>\n",
       "    <tr>\n",
       "      <th>0</th>\n",
       "      <td>1</td>\n",
       "      <td>5</td>\n",
       "      <td>2015-07-31</td>\n",
       "      <td>5263</td>\n",
       "      <td>555</td>\n",
       "      <td>1</td>\n",
       "      <td>1</td>\n",
       "      <td>0</td>\n",
       "      <td>1</td>\n",
       "    </tr>\n",
       "    <tr>\n",
       "      <th>1</th>\n",
       "      <td>2</td>\n",
       "      <td>5</td>\n",
       "      <td>2015-07-31</td>\n",
       "      <td>6064</td>\n",
       "      <td>625</td>\n",
       "      <td>1</td>\n",
       "      <td>1</td>\n",
       "      <td>0</td>\n",
       "      <td>1</td>\n",
       "    </tr>\n",
       "    <tr>\n",
       "      <th>2</th>\n",
       "      <td>3</td>\n",
       "      <td>5</td>\n",
       "      <td>2015-07-31</td>\n",
       "      <td>8314</td>\n",
       "      <td>821</td>\n",
       "      <td>1</td>\n",
       "      <td>1</td>\n",
       "      <td>0</td>\n",
       "      <td>1</td>\n",
       "    </tr>\n",
       "    <tr>\n",
       "      <th>3</th>\n",
       "      <td>4</td>\n",
       "      <td>5</td>\n",
       "      <td>2015-07-31</td>\n",
       "      <td>13995</td>\n",
       "      <td>1498</td>\n",
       "      <td>1</td>\n",
       "      <td>1</td>\n",
       "      <td>0</td>\n",
       "      <td>1</td>\n",
       "    </tr>\n",
       "    <tr>\n",
       "      <th>4</th>\n",
       "      <td>5</td>\n",
       "      <td>5</td>\n",
       "      <td>2015-07-31</td>\n",
       "      <td>4822</td>\n",
       "      <td>559</td>\n",
       "      <td>1</td>\n",
       "      <td>1</td>\n",
       "      <td>0</td>\n",
       "      <td>1</td>\n",
       "    </tr>\n",
       "  </tbody>\n",
       "</table>\n",
       "</div>"
      ],
      "text/plain": [
       "   Store  DayOfWeek       Date  Sales  Customers  Open  Promo StateHoliday  \\\n",
       "0      1          5 2015-07-31   5263        555     1      1            0   \n",
       "1      2          5 2015-07-31   6064        625     1      1            0   \n",
       "2      3          5 2015-07-31   8314        821     1      1            0   \n",
       "3      4          5 2015-07-31  13995       1498     1      1            0   \n",
       "4      5          5 2015-07-31   4822        559     1      1            0   \n",
       "\n",
       "   SchoolHoliday  \n",
       "0              1  \n",
       "1              1  \n",
       "2              1  \n",
       "3              1  \n",
       "4              1  "
      ]
     },
     "execution_count": 6,
     "metadata": {},
     "output_type": "execute_result"
    }
   ],
   "source": [
    "#Load train dataset\n",
    "train.head()"
   ]
  },
  {
   "cell_type": "markdown",
   "id": "65c11bbc",
   "metadata": {
    "papermill": {
     "duration": 0.066274,
     "end_time": "2022-03-04T08:14:44.532378",
     "exception": false,
     "start_time": "2022-03-04T08:14:44.466104",
     "status": "completed"
    },
    "tags": []
   },
   "source": [
    "Merging both the datasets."
   ]
  },
  {
   "cell_type": "code",
   "execution_count": 7,
   "id": "0e6960d9",
   "metadata": {
    "execution": {
     "iopub.execute_input": "2022-03-04T08:14:44.669491Z",
     "iopub.status.busy": "2022-03-04T08:14:44.668531Z",
     "iopub.status.idle": "2022-03-04T08:14:45.101693Z",
     "shell.execute_reply": "2022-03-04T08:14:45.101044Z",
     "shell.execute_reply.started": "2022-03-04T05:02:32.952576Z"
    },
    "papermill": {
     "duration": 0.502658,
     "end_time": "2022-03-04T08:14:45.101849",
     "exception": false,
     "start_time": "2022-03-04T08:14:44.599191",
     "status": "completed"
    },
    "tags": []
   },
   "outputs": [],
   "source": [
    "#merge both the dataset\n",
    "train = pd.merge(train, stores, on = 'Store', how = 'left')"
   ]
  },
  {
   "cell_type": "markdown",
   "id": "c27e0295",
   "metadata": {
    "papermill": {
     "duration": 0.067118,
     "end_time": "2022-03-04T08:14:45.235926",
     "exception": false,
     "start_time": "2022-03-04T08:14:45.168808",
     "status": "completed"
    },
    "tags": []
   },
   "source": [
    "As the sales during the day the store is closed will be zero, we do not require the days where stores are closed."
   ]
  },
  {
   "cell_type": "code",
   "execution_count": 8,
   "id": "a0074bda",
   "metadata": {
    "execution": {
     "iopub.execute_input": "2022-03-04T08:14:45.372382Z",
     "iopub.status.busy": "2022-03-04T08:14:45.371757Z",
     "iopub.status.idle": "2022-03-04T08:14:46.114659Z",
     "shell.execute_reply": "2022-03-04T08:14:46.114105Z",
     "shell.execute_reply.started": "2022-03-04T05:02:33.400323Z"
    },
    "papermill": {
     "duration": 0.812125,
     "end_time": "2022-03-04T08:14:46.114806",
     "exception": false,
     "start_time": "2022-03-04T08:14:45.302681",
     "status": "completed"
    },
    "tags": []
   },
   "outputs": [
    {
     "name": "stdout",
     "output_type": "stream",
     "text": [
      "<class 'pandas.core.frame.DataFrame'>\n",
      "Int64Index: 844392 entries, 0 to 1017190\n",
      "Data columns (total 18 columns):\n",
      " #   Column                     Non-Null Count   Dtype         \n",
      "---  ------                     --------------   -----         \n",
      " 0   Store                      844392 non-null  int64         \n",
      " 1   DayOfWeek                  844392 non-null  int64         \n",
      " 2   Date                       844392 non-null  datetime64[ns]\n",
      " 3   Sales                      844392 non-null  int64         \n",
      " 4   Customers                  844392 non-null  int64         \n",
      " 5   Open                       844392 non-null  int64         \n",
      " 6   Promo                      844392 non-null  int64         \n",
      " 7   StateHoliday               844392 non-null  object        \n",
      " 8   SchoolHoliday              844392 non-null  int64         \n",
      " 9   StoreType                  844392 non-null  object        \n",
      " 10  Assortment                 844392 non-null  object        \n",
      " 11  CompetitionDistance        842206 non-null  float64       \n",
      " 12  CompetitionOpenSinceMonth  575773 non-null  float64       \n",
      " 13  CompetitionOpenSinceYear   575773 non-null  float64       \n",
      " 14  Promo2                     844392 non-null  int64         \n",
      " 15  Promo2SinceWeek            421085 non-null  float64       \n",
      " 16  Promo2SinceYear            421085 non-null  float64       \n",
      " 17  PromoInterval              421085 non-null  object        \n",
      "dtypes: datetime64[ns](1), float64(5), int64(8), object(4)\n",
      "memory usage: 122.4+ MB\n",
      "None\n"
     ]
    },
    {
     "data": {
      "text/html": [
       "<div>\n",
       "<style scoped>\n",
       "    .dataframe tbody tr th:only-of-type {\n",
       "        vertical-align: middle;\n",
       "    }\n",
       "\n",
       "    .dataframe tbody tr th {\n",
       "        vertical-align: top;\n",
       "    }\n",
       "\n",
       "    .dataframe thead th {\n",
       "        text-align: right;\n",
       "    }\n",
       "</style>\n",
       "<table border=\"1\" class=\"dataframe\">\n",
       "  <thead>\n",
       "    <tr style=\"text-align: right;\">\n",
       "      <th></th>\n",
       "      <th>Store</th>\n",
       "      <th>DayOfWeek</th>\n",
       "      <th>Date</th>\n",
       "      <th>Sales</th>\n",
       "      <th>Customers</th>\n",
       "      <th>Open</th>\n",
       "      <th>Promo</th>\n",
       "      <th>StateHoliday</th>\n",
       "      <th>SchoolHoliday</th>\n",
       "      <th>StoreType</th>\n",
       "      <th>Assortment</th>\n",
       "      <th>CompetitionDistance</th>\n",
       "      <th>CompetitionOpenSinceMonth</th>\n",
       "      <th>CompetitionOpenSinceYear</th>\n",
       "      <th>Promo2</th>\n",
       "      <th>Promo2SinceWeek</th>\n",
       "      <th>Promo2SinceYear</th>\n",
       "      <th>PromoInterval</th>\n",
       "    </tr>\n",
       "  </thead>\n",
       "  <tbody>\n",
       "    <tr>\n",
       "      <th>0</th>\n",
       "      <td>1</td>\n",
       "      <td>5</td>\n",
       "      <td>2015-07-31</td>\n",
       "      <td>5263</td>\n",
       "      <td>555</td>\n",
       "      <td>1</td>\n",
       "      <td>1</td>\n",
       "      <td>0</td>\n",
       "      <td>1</td>\n",
       "      <td>c</td>\n",
       "      <td>a</td>\n",
       "      <td>1270.0</td>\n",
       "      <td>9.0</td>\n",
       "      <td>2008.0</td>\n",
       "      <td>0</td>\n",
       "      <td>NaN</td>\n",
       "      <td>NaN</td>\n",
       "      <td>NaN</td>\n",
       "    </tr>\n",
       "    <tr>\n",
       "      <th>1</th>\n",
       "      <td>2</td>\n",
       "      <td>5</td>\n",
       "      <td>2015-07-31</td>\n",
       "      <td>6064</td>\n",
       "      <td>625</td>\n",
       "      <td>1</td>\n",
       "      <td>1</td>\n",
       "      <td>0</td>\n",
       "      <td>1</td>\n",
       "      <td>a</td>\n",
       "      <td>a</td>\n",
       "      <td>570.0</td>\n",
       "      <td>11.0</td>\n",
       "      <td>2007.0</td>\n",
       "      <td>1</td>\n",
       "      <td>13.0</td>\n",
       "      <td>2010.0</td>\n",
       "      <td>Jan,Apr,Jul,Oct</td>\n",
       "    </tr>\n",
       "    <tr>\n",
       "      <th>2</th>\n",
       "      <td>3</td>\n",
       "      <td>5</td>\n",
       "      <td>2015-07-31</td>\n",
       "      <td>8314</td>\n",
       "      <td>821</td>\n",
       "      <td>1</td>\n",
       "      <td>1</td>\n",
       "      <td>0</td>\n",
       "      <td>1</td>\n",
       "      <td>a</td>\n",
       "      <td>a</td>\n",
       "      <td>14130.0</td>\n",
       "      <td>12.0</td>\n",
       "      <td>2006.0</td>\n",
       "      <td>1</td>\n",
       "      <td>14.0</td>\n",
       "      <td>2011.0</td>\n",
       "      <td>Jan,Apr,Jul,Oct</td>\n",
       "    </tr>\n",
       "    <tr>\n",
       "      <th>3</th>\n",
       "      <td>4</td>\n",
       "      <td>5</td>\n",
       "      <td>2015-07-31</td>\n",
       "      <td>13995</td>\n",
       "      <td>1498</td>\n",
       "      <td>1</td>\n",
       "      <td>1</td>\n",
       "      <td>0</td>\n",
       "      <td>1</td>\n",
       "      <td>c</td>\n",
       "      <td>c</td>\n",
       "      <td>620.0</td>\n",
       "      <td>9.0</td>\n",
       "      <td>2009.0</td>\n",
       "      <td>0</td>\n",
       "      <td>NaN</td>\n",
       "      <td>NaN</td>\n",
       "      <td>NaN</td>\n",
       "    </tr>\n",
       "    <tr>\n",
       "      <th>4</th>\n",
       "      <td>5</td>\n",
       "      <td>5</td>\n",
       "      <td>2015-07-31</td>\n",
       "      <td>4822</td>\n",
       "      <td>559</td>\n",
       "      <td>1</td>\n",
       "      <td>1</td>\n",
       "      <td>0</td>\n",
       "      <td>1</td>\n",
       "      <td>a</td>\n",
       "      <td>a</td>\n",
       "      <td>29910.0</td>\n",
       "      <td>4.0</td>\n",
       "      <td>2015.0</td>\n",
       "      <td>0</td>\n",
       "      <td>NaN</td>\n",
       "      <td>NaN</td>\n",
       "      <td>NaN</td>\n",
       "    </tr>\n",
       "  </tbody>\n",
       "</table>\n",
       "</div>"
      ],
      "text/plain": [
       "   Store  DayOfWeek       Date  Sales  Customers  Open  Promo StateHoliday  \\\n",
       "0      1          5 2015-07-31   5263        555     1      1            0   \n",
       "1      2          5 2015-07-31   6064        625     1      1            0   \n",
       "2      3          5 2015-07-31   8314        821     1      1            0   \n",
       "3      4          5 2015-07-31  13995       1498     1      1            0   \n",
       "4      5          5 2015-07-31   4822        559     1      1            0   \n",
       "\n",
       "   SchoolHoliday StoreType Assortment  CompetitionDistance  \\\n",
       "0              1         c          a               1270.0   \n",
       "1              1         a          a                570.0   \n",
       "2              1         a          a              14130.0   \n",
       "3              1         c          c                620.0   \n",
       "4              1         a          a              29910.0   \n",
       "\n",
       "   CompetitionOpenSinceMonth  CompetitionOpenSinceYear  Promo2  \\\n",
       "0                        9.0                    2008.0       0   \n",
       "1                       11.0                    2007.0       1   \n",
       "2                       12.0                    2006.0       1   \n",
       "3                        9.0                    2009.0       0   \n",
       "4                        4.0                    2015.0       0   \n",
       "\n",
       "   Promo2SinceWeek  Promo2SinceYear    PromoInterval  \n",
       "0              NaN              NaN              NaN  \n",
       "1             13.0           2010.0  Jan,Apr,Jul,Oct  \n",
       "2             14.0           2011.0  Jan,Apr,Jul,Oct  \n",
       "3              NaN              NaN              NaN  \n",
       "4              NaN              NaN              NaN  "
      ]
     },
     "execution_count": 8,
     "metadata": {},
     "output_type": "execute_result"
    }
   ],
   "source": [
    "#creting the dataset with the days when stores were open\n",
    "train_open = train[train.Open == 1].copy()\n",
    "print (train_open.info())\n",
    "train.head()"
   ]
  },
  {
   "cell_type": "code",
   "execution_count": 9,
   "id": "245edc03",
   "metadata": {
    "execution": {
     "iopub.execute_input": "2022-03-04T08:14:46.255562Z",
     "iopub.status.busy": "2022-03-04T08:14:46.254907Z",
     "iopub.status.idle": "2022-03-04T08:14:48.232995Z",
     "shell.execute_reply": "2022-03-04T08:14:48.232438Z",
     "shell.execute_reply.started": "2022-03-04T05:02:34.143904Z"
    },
    "papermill": {
     "duration": 2.048951,
     "end_time": "2022-03-04T08:14:48.233163",
     "exception": false,
     "start_time": "2022-03-04T08:14:46.184212",
     "status": "completed"
    },
    "tags": []
   },
   "outputs": [
    {
     "data": {
      "image/png": "[encoded data removed]",
      "text/plain": [
       "<Figure size 720x432 with 1 Axes>"
      ]
     },
     "metadata": {
      "needs_background": "light"
     },
     "output_type": "display_data"
    }
   ],
   "source": [
    "#Let's see the distribution of sales\n",
    "plt.figure(figsize = (10, 6))\n",
    "sns.histplot(train_open.Sales)\n",
    "plt.title(\"Distribution of Sales\")\n",
    "plt.show()"
   ]
  },
  {
   "cell_type": "markdown",
   "id": "883a26cb",
   "metadata": {
    "papermill": {
     "duration": 0.06968,
     "end_time": "2022-03-04T08:14:48.372456",
     "exception": false,
     "start_time": "2022-03-04T08:14:48.302776",
     "status": "completed"
    },
    "tags": []
   },
   "source": [
    "From above we can see that the sales follow Normal Distribution with Right-skewed (Positively Skewed). "
   ]
  },
  {
   "cell_type": "code",
   "execution_count": 10,
   "id": "494becb9",
   "metadata": {
    "execution": {
     "iopub.execute_input": "2022-03-04T08:14:48.514268Z",
     "iopub.status.busy": "2022-03-04T08:14:48.513547Z",
     "iopub.status.idle": "2022-03-04T08:15:05.550509Z",
     "shell.execute_reply": "2022-03-04T08:15:05.551258Z",
     "shell.execute_reply.started": "2022-03-04T05:02:36.105096Z"
    },
    "papermill": {
     "duration": 17.110096,
     "end_time": "2022-03-04T08:15:05.551440",
     "exception": false,
     "start_time": "2022-03-04T08:14:48.441344",
     "status": "completed"
    },
    "tags": []
   },
   "outputs": [
    {
     "data": {
      "image/png": "[encoded data removed]",
      "text/plain": [
       "<Figure size 432x288 with 1 Axes>"
      ]
     },
     "metadata": {
      "needs_background": "light"
     },
     "output_type": "display_data"
    }
   ],
   "source": [
    "#effect on sales of Promotional Day\n",
    "plt.figure(figsize = (6,4))\n",
    "sns.barplot(x = 'Promo', y = 'Sales', data = train_open)\n",
    "plt.title('Sales distribution on Promo day')\n",
    "plt.show()"
   ]
  },
  {
   "cell_type": "markdown",
   "id": "551376d3",
   "metadata": {
    "papermill": {
     "duration": 0.06926,
     "end_time": "2022-03-04T08:15:05.691462",
     "exception": false,
     "start_time": "2022-03-04T08:15:05.622202",
     "status": "completed"
    },
    "tags": []
   },
   "source": [
    "Sales is evenly distributed on both Promotional and Non-Promotional Day"
   ]
  },
  {
   "cell_type": "code",
   "execution_count": 11,
   "id": "2c72ccc2",
   "metadata": {
    "execution": {
     "iopub.execute_input": "2022-03-04T08:15:05.833836Z",
     "iopub.status.busy": "2022-03-04T08:15:05.833147Z",
     "iopub.status.idle": "2022-03-04T08:15:05.963130Z",
     "shell.execute_reply": "2022-03-04T08:15:05.962558Z",
     "shell.execute_reply.started": "2022-03-04T05:02:54.740115Z"
    },
    "papermill": {
     "duration": 0.202261,
     "end_time": "2022-03-04T08:15:05.963316",
     "exception": false,
     "start_time": "2022-03-04T08:15:05.761055",
     "status": "completed"
    },
    "tags": []
   },
   "outputs": [
    {
     "data": {
      "text/plain": [
       "array(['0', 'a', 'b', 'c'], dtype=object)"
      ]
     },
     "execution_count": 11,
     "metadata": {},
     "output_type": "execute_result"
    }
   ],
   "source": [
    "train_open['StateHoliday'] = train_open['StateHoliday'].astype(str)\n",
    "train_open.StateHoliday.unique()"
   ]
  },
  {
   "cell_type": "code",
   "execution_count": 12,
   "id": "26d8cf51",
   "metadata": {
    "execution": {
     "iopub.execute_input": "2022-03-04T08:15:06.109708Z",
     "iopub.status.busy": "2022-03-04T08:15:06.109055Z",
     "iopub.status.idle": "2022-03-04T08:15:28.659967Z",
     "shell.execute_reply": "2022-03-04T08:15:28.660457Z",
     "shell.execute_reply.started": "2022-03-04T05:02:54.872572Z"
    },
    "papermill": {
     "duration": 22.624491,
     "end_time": "2022-03-04T08:15:28.660624",
     "exception": false,
     "start_time": "2022-03-04T08:15:06.036133",
     "status": "completed"
    },
    "tags": []
   },
   "outputs": [
    {
     "data": {
      "image/png": "[encoded data removed]",
      "text/plain": [
       "<Figure size 432x288 with 1 Axes>"
      ]
     },
     "metadata": {
      "needs_background": "light"
     },
     "output_type": "display_data"
    }
   ],
   "source": [
    "#effect of holidays on sales\n",
    "plt.figure(figsize = (6,4))\n",
    "sns.barplot(x = 'StateHoliday', y = 'Sales', data = train_open)\n",
    "plt.title('Sales distribution on State Holiday')\n",
    "plt.show()"
   ]
  },
  {
   "cell_type": "markdown",
   "id": "4bd45db2",
   "metadata": {
    "papermill": {
     "duration": 0.070319,
     "end_time": "2022-03-04T08:15:28.801265",
     "exception": false,
     "start_time": "2022-03-04T08:15:28.730946",
     "status": "completed"
    },
    "tags": []
   },
   "source": [
    "Sales is higher on holidays compared to non-holidays as expected."
   ]
  },
  {
   "cell_type": "code",
   "execution_count": 13,
   "id": "ef75d83e",
   "metadata": {
    "execution": {
     "iopub.execute_input": "2022-03-04T08:15:28.948170Z",
     "iopub.status.busy": "2022-03-04T08:15:28.947509Z",
     "iopub.status.idle": "2022-03-04T08:15:45.820782Z",
     "shell.execute_reply": "2022-03-04T08:15:45.821364Z",
     "shell.execute_reply.started": "2022-03-04T05:03:21.032919Z"
    },
    "papermill": {
     "duration": 16.947434,
     "end_time": "2022-03-04T08:15:45.821544",
     "exception": false,
     "start_time": "2022-03-04T08:15:28.874110",
     "status": "completed"
    },
    "tags": []
   },
   "outputs": [
    {
     "data": {
      "image/png": "[encoded data removed]",
      "text/plain": [
       "<Figure size 432x288 with 1 Axes>"
      ]
     },
     "metadata": {
      "needs_background": "light"
     },
     "output_type": "display_data"
    }
   ],
   "source": [
    "#Let's see the sales distribution in School Holiday\n",
    "plt.figure(figsize = (6,4))\n",
    "sns.barplot(x = 'SchoolHoliday', y = 'Sales', data = train_open)\n",
    "plt.title('Sales distribution on School Holiday')\n",
    "plt.show()"
   ]
  },
  {
   "cell_type": "markdown",
   "id": "84b629a0",
   "metadata": {
    "papermill": {
     "duration": 0.07292,
     "end_time": "2022-03-04T08:15:45.971316",
     "exception": false,
     "start_time": "2022-03-04T08:15:45.898396",
     "status": "completed"
    },
    "tags": []
   },
   "source": [
    "Sales doesn't seem to depend much on School Holidays"
   ]
  },
  {
   "cell_type": "code",
   "execution_count": 14,
   "id": "a61fc05e",
   "metadata": {
    "execution": {
     "iopub.execute_input": "2022-03-04T08:15:46.135061Z",
     "iopub.status.busy": "2022-03-04T08:15:46.134053Z",
     "iopub.status.idle": "2022-03-04T08:16:02.244985Z",
     "shell.execute_reply": "2022-03-04T08:16:02.243882Z",
     "shell.execute_reply.started": "2022-03-04T05:03:41.683597Z"
    },
    "papermill": {
     "duration": 16.194598,
     "end_time": "2022-03-04T08:16:02.245163",
     "exception": false,
     "start_time": "2022-03-04T08:15:46.050565",
     "status": "completed"
    },
    "tags": []
   },
   "outputs": [
    {
     "data": {
      "image/png": "[encoded data removed]",
      "text/plain": [
       "<Figure size 432x288 with 1 Axes>"
      ]
     },
     "metadata": {
      "needs_background": "light"
     },
     "output_type": "display_data"
    }
   ],
   "source": [
    "#Let's see which store type has more sales\n",
    "sns.barplot(x = 'StoreType', y = 'Sales', data = train_open)\n",
    "plt.title(\"Sales as per the Store Type\")\n",
    "plt.xlabel('Store Type')\n",
    "plt.ylabel('Sales')\n",
    "plt.show()"
   ]
  },
  {
   "cell_type": "markdown",
   "id": "39e69007",
   "metadata": {
    "papermill": {
     "duration": 0.071881,
     "end_time": "2022-03-04T08:16:02.389815",
     "exception": false,
     "start_time": "2022-03-04T08:16:02.317934",
     "status": "completed"
    },
    "tags": []
   },
   "source": [
    "Except for the sales in type b, sales in all other types of stores are nearly identical"
   ]
  },
  {
   "cell_type": "markdown",
   "id": "c99fe800",
   "metadata": {
    "papermill": {
     "duration": 0.071815,
     "end_time": "2022-03-04T08:16:02.533974",
     "exception": false,
     "start_time": "2022-03-04T08:16:02.462159",
     "status": "completed"
    },
    "tags": []
   },
   "source": [
    "# Feature Engineering"
   ]
  },
  {
   "cell_type": "markdown",
   "id": "539f7f92",
   "metadata": {
    "papermill": {
     "duration": 0.073929,
     "end_time": "2022-03-04T08:16:02.680323",
     "exception": false,
     "start_time": "2022-03-04T08:16:02.606394",
     "status": "completed"
    },
    "tags": []
   },
   "source": [
    "Now we will prepare our file which will be suitable to be used in different Machine Learning Models"
   ]
  },
  {
   "cell_type": "code",
   "execution_count": 15,
   "id": "d3479fe5",
   "metadata": {
    "execution": {
     "iopub.execute_input": "2022-03-04T08:16:02.835295Z",
     "iopub.status.busy": "2022-03-04T08:16:02.834267Z",
     "iopub.status.idle": "2022-03-04T08:16:02.841178Z",
     "shell.execute_reply": "2022-03-04T08:16:02.841672Z",
     "shell.execute_reply.started": "2022-03-04T05:03:57.691011Z"
    },
    "papermill": {
     "duration": 0.088686,
     "end_time": "2022-03-04T08:16:02.841888",
     "exception": false,
     "start_time": "2022-03-04T08:16:02.753202",
     "status": "completed"
    },
    "tags": []
   },
   "outputs": [],
   "source": [
    "def feature_ext(df):\n",
    "    '''Creating the dataset with the features in the required format'''\n",
    "    \n",
    "    #Creating Extra Columns out of Date \n",
    "    df['Year'] = df.Date.dt.year\n",
    "    df['Month'] = df.Date.dt.month\n",
    "    df['Day'] = df.Date.dt.day\n",
    "    df['DayOfWeek'] = df.Date.dt.dayofweek\n",
    "    df['WeekOfYear'] = df.Date.dt.weekofyear\n",
    "    \n",
    "    #fixing Promo and CompetitionSince columns by extending the features \n",
    "    \n",
    "    df['CompetitionOpen'] = 12 * (df.Year - df.CompetitionOpenSinceYear) + (df.Month - df.CompetitionOpenSinceMonth)\n",
    "    df['CompetitionOpen'] = df['CompetitionOpen'].apply(lambda x: 0 if x < 0 else x)\n",
    "    \n",
    "    df['PromoOpen'] = 12 * (df.Year - df.Promo2SinceYear) + (df.WeekOfYear - df.Promo2SinceWeek) / 4\n",
    "    df['PromoOpen'] = df['PromoOpen'].apply(lambda x: 0 if x < 0 else x)\n",
    "    \n",
    "    #Mapping month name to the Months Column\n",
    "    monthname = {1:'Jan', 2:'Feb', 3:'Mar', 4:'Apr', 5:'May', 6:'Jun',              \n",
    "                 7:'Jul', 8:'Aug', 9:'Sept', 10:'Oct', 11:'Nov', 12:'Dec'}\n",
    "    df['Month'] = df['Month'].map(monthname)\n",
    "    \n",
    "    #changing the dtype of Promo Interval Column\n",
    "    df['PromoInterval'] = df['PromoInterval'].astype(str)\n",
    "    \n",
    "    #Fixing PromoInterval column with creating a binary column for the value in PromoInterval\n",
    "    df['IsPromoMonth'] = 0 #empty column\n",
    "    for values in df.PromoInterval.unique():\n",
    "        for month in values.split(','):\n",
    "            df.loc[(df.Month == month) & (df.PromoInterval == values), 'IsPromoMonth'] = 1\n",
    "    \n",
    "    return df\n",
    "    \n",
    "    "
   ]
  },
  {
   "cell_type": "code",
   "execution_count": 16,
   "id": "2e1df76f",
   "metadata": {
    "execution": {
     "iopub.execute_input": "2022-03-04T08:16:02.992102Z",
     "iopub.status.busy": "2022-03-04T08:16:02.991386Z",
     "iopub.status.idle": "2022-03-04T08:16:08.567736Z",
     "shell.execute_reply": "2022-03-04T08:16:08.568281Z",
     "shell.execute_reply.started": "2022-03-04T05:03:57.708046Z"
    },
    "papermill": {
     "duration": 5.654496,
     "end_time": "2022-03-04T08:16:08.568478",
     "exception": false,
     "start_time": "2022-03-04T08:16:02.913982",
     "status": "completed"
    },
    "tags": []
   },
   "outputs": [
    {
     "name": "stderr",
     "output_type": "stream",
     "text": [
      "/opt/conda/lib/python3.7/site-packages/ipykernel_launcher.py:9: FutureWarning:\n",
      "\n",
      "Series.dt.weekofyear and Series.dt.week have been deprecated.  Please use Series.dt.isocalendar().week instead.\n",
      "\n"
     ]
    },
    {
     "data": {
      "text/html": [
       "<div>\n",
       "<style scoped>\n",
       "    .dataframe tbody tr th:only-of-type {\n",
       "        vertical-align: middle;\n",
       "    }\n",
       "\n",
       "    .dataframe tbody tr th {\n",
       "        vertical-align: top;\n",
       "    }\n",
       "\n",
       "    .dataframe thead th {\n",
       "        text-align: right;\n",
       "    }\n",
       "</style>\n",
       "<table border=\"1\" class=\"dataframe\">\n",
       "  <thead>\n",
       "    <tr style=\"text-align: right;\">\n",
       "      <th></th>\n",
       "      <th>Store</th>\n",
       "      <th>DayOfWeek</th>\n",
       "      <th>Date</th>\n",
       "      <th>Sales</th>\n",
       "      <th>Customers</th>\n",
       "      <th>Open</th>\n",
       "      <th>Promo</th>\n",
       "      <th>StateHoliday</th>\n",
       "      <th>SchoolHoliday</th>\n",
       "      <th>StoreType</th>\n",
       "      <th>...</th>\n",
       "      <th>Promo2SinceWeek</th>\n",
       "      <th>Promo2SinceYear</th>\n",
       "      <th>PromoInterval</th>\n",
       "      <th>Year</th>\n",
       "      <th>Month</th>\n",
       "      <th>Day</th>\n",
       "      <th>WeekOfYear</th>\n",
       "      <th>CompetitionOpen</th>\n",
       "      <th>PromoOpen</th>\n",
       "      <th>IsPromoMonth</th>\n",
       "    </tr>\n",
       "  </thead>\n",
       "  <tbody>\n",
       "    <tr>\n",
       "      <th>0</th>\n",
       "      <td>1</td>\n",
       "      <td>4</td>\n",
       "      <td>2015-07-31</td>\n",
       "      <td>5263</td>\n",
       "      <td>555</td>\n",
       "      <td>1</td>\n",
       "      <td>1</td>\n",
       "      <td>0</td>\n",
       "      <td>1</td>\n",
       "      <td>c</td>\n",
       "      <td>...</td>\n",
       "      <td>NaN</td>\n",
       "      <td>NaN</td>\n",
       "      <td>nan</td>\n",
       "      <td>2015</td>\n",
       "      <td>Jul</td>\n",
       "      <td>31</td>\n",
       "      <td>31</td>\n",
       "      <td>82.0</td>\n",
       "      <td>NaN</td>\n",
       "      <td>0</td>\n",
       "    </tr>\n",
       "    <tr>\n",
       "      <th>1</th>\n",
       "      <td>2</td>\n",
       "      <td>4</td>\n",
       "      <td>2015-07-31</td>\n",
       "      <td>6064</td>\n",
       "      <td>625</td>\n",
       "      <td>1</td>\n",
       "      <td>1</td>\n",
       "      <td>0</td>\n",
       "      <td>1</td>\n",
       "      <td>a</td>\n",
       "      <td>...</td>\n",
       "      <td>13.0</td>\n",
       "      <td>2010.0</td>\n",
       "      <td>Jan,Apr,Jul,Oct</td>\n",
       "      <td>2015</td>\n",
       "      <td>Jul</td>\n",
       "      <td>31</td>\n",
       "      <td>31</td>\n",
       "      <td>92.0</td>\n",
       "      <td>64.50</td>\n",
       "      <td>1</td>\n",
       "    </tr>\n",
       "    <tr>\n",
       "      <th>2</th>\n",
       "      <td>3</td>\n",
       "      <td>4</td>\n",
       "      <td>2015-07-31</td>\n",
       "      <td>8314</td>\n",
       "      <td>821</td>\n",
       "      <td>1</td>\n",
       "      <td>1</td>\n",
       "      <td>0</td>\n",
       "      <td>1</td>\n",
       "      <td>a</td>\n",
       "      <td>...</td>\n",
       "      <td>14.0</td>\n",
       "      <td>2011.0</td>\n",
       "      <td>Jan,Apr,Jul,Oct</td>\n",
       "      <td>2015</td>\n",
       "      <td>Jul</td>\n",
       "      <td>31</td>\n",
       "      <td>31</td>\n",
       "      <td>103.0</td>\n",
       "      <td>52.25</td>\n",
       "      <td>1</td>\n",
       "    </tr>\n",
       "    <tr>\n",
       "      <th>3</th>\n",
       "      <td>4</td>\n",
       "      <td>4</td>\n",
       "      <td>2015-07-31</td>\n",
       "      <td>13995</td>\n",
       "      <td>1498</td>\n",
       "      <td>1</td>\n",
       "      <td>1</td>\n",
       "      <td>0</td>\n",
       "      <td>1</td>\n",
       "      <td>c</td>\n",
       "      <td>...</td>\n",
       "      <td>NaN</td>\n",
       "      <td>NaN</td>\n",
       "      <td>nan</td>\n",
       "      <td>2015</td>\n",
       "      <td>Jul</td>\n",
       "      <td>31</td>\n",
       "      <td>31</td>\n",
       "      <td>70.0</td>\n",
       "      <td>NaN</td>\n",
       "      <td>0</td>\n",
       "    </tr>\n",
       "    <tr>\n",
       "      <th>4</th>\n",
       "      <td>5</td>\n",
       "      <td>4</td>\n",
       "      <td>2015-07-31</td>\n",
       "      <td>4822</td>\n",
       "      <td>559</td>\n",
       "      <td>1</td>\n",
       "      <td>1</td>\n",
       "      <td>0</td>\n",
       "      <td>1</td>\n",
       "      <td>a</td>\n",
       "      <td>...</td>\n",
       "      <td>NaN</td>\n",
       "      <td>NaN</td>\n",
       "      <td>nan</td>\n",
       "      <td>2015</td>\n",
       "      <td>Jul</td>\n",
       "      <td>31</td>\n",
       "      <td>31</td>\n",
       "      <td>3.0</td>\n",
       "      <td>NaN</td>\n",
       "      <td>0</td>\n",
       "    </tr>\n",
       "    <tr>\n",
       "      <th>...</th>\n",
       "      <td>...</td>\n",
       "      <td>...</td>\n",
       "      <td>...</td>\n",
       "      <td>...</td>\n",
       "      <td>...</td>\n",
       "      <td>...</td>\n",
       "      <td>...</td>\n",
       "      <td>...</td>\n",
       "      <td>...</td>\n",
       "      <td>...</td>\n",
       "      <td>...</td>\n",
       "      <td>...</td>\n",
       "      <td>...</td>\n",
       "      <td>...</td>\n",
       "      <td>...</td>\n",
       "      <td>...</td>\n",
       "      <td>...</td>\n",
       "      <td>...</td>\n",
       "      <td>...</td>\n",
       "      <td>...</td>\n",
       "      <td>...</td>\n",
       "    </tr>\n",
       "    <tr>\n",
       "      <th>1016776</th>\n",
       "      <td>682</td>\n",
       "      <td>1</td>\n",
       "      <td>2013-01-01</td>\n",
       "      <td>3375</td>\n",
       "      <td>566</td>\n",
       "      <td>1</td>\n",
       "      <td>0</td>\n",
       "      <td>a</td>\n",
       "      <td>1</td>\n",
       "      <td>b</td>\n",
       "      <td>...</td>\n",
       "      <td>NaN</td>\n",
       "      <td>NaN</td>\n",
       "      <td>nan</td>\n",
       "      <td>2013</td>\n",
       "      <td>Jan</td>\n",
       "      <td>1</td>\n",
       "      <td>1</td>\n",
       "      <td>76.0</td>\n",
       "      <td>NaN</td>\n",
       "      <td>0</td>\n",
       "    </tr>\n",
       "    <tr>\n",
       "      <th>1016827</th>\n",
       "      <td>733</td>\n",
       "      <td>1</td>\n",
       "      <td>2013-01-01</td>\n",
       "      <td>10765</td>\n",
       "      <td>2377</td>\n",
       "      <td>1</td>\n",
       "      <td>0</td>\n",
       "      <td>a</td>\n",
       "      <td>1</td>\n",
       "      <td>b</td>\n",
       "      <td>...</td>\n",
       "      <td>NaN</td>\n",
       "      <td>NaN</td>\n",
       "      <td>nan</td>\n",
       "      <td>2013</td>\n",
       "      <td>Jan</td>\n",
       "      <td>1</td>\n",
       "      <td>1</td>\n",
       "      <td>159.0</td>\n",
       "      <td>NaN</td>\n",
       "      <td>0</td>\n",
       "    </tr>\n",
       "    <tr>\n",
       "      <th>1016863</th>\n",
       "      <td>769</td>\n",
       "      <td>1</td>\n",
       "      <td>2013-01-01</td>\n",
       "      <td>5035</td>\n",
       "      <td>1248</td>\n",
       "      <td>1</td>\n",
       "      <td>0</td>\n",
       "      <td>a</td>\n",
       "      <td>1</td>\n",
       "      <td>b</td>\n",
       "      <td>...</td>\n",
       "      <td>48.0</td>\n",
       "      <td>2012.0</td>\n",
       "      <td>Jan,Apr,Jul,Oct</td>\n",
       "      <td>2013</td>\n",
       "      <td>Jan</td>\n",
       "      <td>1</td>\n",
       "      <td>1</td>\n",
       "      <td>NaN</td>\n",
       "      <td>0.25</td>\n",
       "      <td>1</td>\n",
       "    </tr>\n",
       "    <tr>\n",
       "      <th>1017042</th>\n",
       "      <td>948</td>\n",
       "      <td>1</td>\n",
       "      <td>2013-01-01</td>\n",
       "      <td>4491</td>\n",
       "      <td>1039</td>\n",
       "      <td>1</td>\n",
       "      <td>0</td>\n",
       "      <td>a</td>\n",
       "      <td>1</td>\n",
       "      <td>b</td>\n",
       "      <td>...</td>\n",
       "      <td>NaN</td>\n",
       "      <td>NaN</td>\n",
       "      <td>nan</td>\n",
       "      <td>2013</td>\n",
       "      <td>Jan</td>\n",
       "      <td>1</td>\n",
       "      <td>1</td>\n",
       "      <td>NaN</td>\n",
       "      <td>NaN</td>\n",
       "      <td>0</td>\n",
       "    </tr>\n",
       "    <tr>\n",
       "      <th>1017190</th>\n",
       "      <td>1097</td>\n",
       "      <td>1</td>\n",
       "      <td>2013-01-01</td>\n",
       "      <td>5961</td>\n",
       "      <td>1405</td>\n",
       "      <td>1</td>\n",
       "      <td>0</td>\n",
       "      <td>a</td>\n",
       "      <td>1</td>\n",
       "      <td>b</td>\n",
       "      <td>...</td>\n",
       "      <td>NaN</td>\n",
       "      <td>NaN</td>\n",
       "      <td>nan</td>\n",
       "      <td>2013</td>\n",
       "      <td>Jan</td>\n",
       "      <td>1</td>\n",
       "      <td>1</td>\n",
       "      <td>130.0</td>\n",
       "      <td>NaN</td>\n",
       "      <td>0</td>\n",
       "    </tr>\n",
       "  </tbody>\n",
       "</table>\n",
       "<p>844392 rows × 25 columns</p>\n",
       "</div>"
      ],
      "text/plain": [
       "         Store  DayOfWeek       Date  Sales  Customers  Open  Promo  \\\n",
       "0            1          4 2015-07-31   5263        555     1      1   \n",
       "1            2          4 2015-07-31   6064        625     1      1   \n",
       "2            3          4 2015-07-31   8314        821     1      1   \n",
       "3            4          4 2015-07-31  13995       1498     1      1   \n",
       "4            5          4 2015-07-31   4822        559     1      1   \n",
       "...        ...        ...        ...    ...        ...   ...    ...   \n",
       "1016776    682          1 2013-01-01   3375        566     1      0   \n",
       "1016827    733          1 2013-01-01  10765       2377     1      0   \n",
       "1016863    769          1 2013-01-01   5035       1248     1      0   \n",
       "1017042    948          1 2013-01-01   4491       1039     1      0   \n",
       "1017190   1097          1 2013-01-01   5961       1405     1      0   \n",
       "\n",
       "        StateHoliday  SchoolHoliday StoreType  ... Promo2SinceWeek  \\\n",
       "0                  0              1         c  ...             NaN   \n",
       "1                  0              1         a  ...            13.0   \n",
       "2                  0              1         a  ...            14.0   \n",
       "3                  0              1         c  ...             NaN   \n",
       "4                  0              1         a  ...             NaN   \n",
       "...              ...            ...       ...  ...             ...   \n",
       "1016776            a              1         b  ...             NaN   \n",
       "1016827            a              1         b  ...             NaN   \n",
       "1016863            a              1         b  ...            48.0   \n",
       "1017042            a              1         b  ...             NaN   \n",
       "1017190            a              1         b  ...             NaN   \n",
       "\n",
       "         Promo2SinceYear    PromoInterval  Year  Month  Day  WeekOfYear  \\\n",
       "0                    NaN              nan  2015    Jul   31          31   \n",
       "1                 2010.0  Jan,Apr,Jul,Oct  2015    Jul   31          31   \n",
       "2                 2011.0  Jan,Apr,Jul,Oct  2015    Jul   31          31   \n",
       "3                    NaN              nan  2015    Jul   31          31   \n",
       "4                    NaN              nan  2015    Jul   31          31   \n",
       "...                  ...              ...   ...    ...  ...         ...   \n",
       "1016776              NaN              nan  2013    Jan    1           1   \n",
       "1016827              NaN              nan  2013    Jan    1           1   \n",
       "1016863           2012.0  Jan,Apr,Jul,Oct  2013    Jan    1           1   \n",
       "1017042              NaN              nan  2013    Jan    1           1   \n",
       "1017190              NaN              nan  2013    Jan    1           1   \n",
       "\n",
       "        CompetitionOpen  PromoOpen IsPromoMonth  \n",
       "0                  82.0        NaN            0  \n",
       "1                  92.0      64.50            1  \n",
       "2                 103.0      52.25            1  \n",
       "3                  70.0        NaN            0  \n",
       "4                   3.0        NaN            0  \n",
       "...                 ...        ...          ...  \n",
       "1016776            76.0        NaN            0  \n",
       "1016827           159.0        NaN            0  \n",
       "1016863             NaN       0.25            1  \n",
       "1017042             NaN        NaN            0  \n",
       "1017190           130.0        NaN            0  \n",
       "\n",
       "[844392 rows x 25 columns]"
      ]
     },
     "execution_count": 16,
     "metadata": {},
     "output_type": "execute_result"
    }
   ],
   "source": [
    "feature_ext(train_open)"
   ]
  },
  {
   "cell_type": "code",
   "execution_count": 17,
   "id": "6c0672dc",
   "metadata": {
    "execution": {
     "iopub.execute_input": "2022-03-04T08:16:08.724765Z",
     "iopub.status.busy": "2022-03-04T08:16:08.724082Z",
     "iopub.status.idle": "2022-03-04T08:16:08.729648Z",
     "shell.execute_reply": "2022-03-04T08:16:08.730189Z",
     "shell.execute_reply.started": "2022-03-04T05:04:03.412792Z"
    },
    "papermill": {
     "duration": 0.084708,
     "end_time": "2022-03-04T08:16:08.730380",
     "exception": false,
     "start_time": "2022-03-04T08:16:08.645672",
     "status": "completed"
    },
    "tags": []
   },
   "outputs": [],
   "source": [
    "#splitting the data in Numerical and Categorical data\n",
    "def split_data(df):\n",
    "    df_ = df.drop('Date', axis = 1)\n",
    "    cols = df_.columns\n",
    "    num_cols = df_._get_numeric_data().columns #getting columns with numeric data\n",
    "    cat_cols = list(set(cols) - set(num_cols)) #getting the columns with categorical data\n",
    "    num_df = df[num_cols]\n",
    "    cat_df = df[cat_cols]\n",
    "    \n",
    "    return num_df, cat_df"
   ]
  },
  {
   "cell_type": "code",
   "execution_count": 18,
   "id": "e83b1e17",
   "metadata": {
    "execution": {
     "iopub.execute_input": "2022-03-04T08:16:08.882325Z",
     "iopub.status.busy": "2022-03-04T08:16:08.881537Z",
     "iopub.status.idle": "2022-03-04T08:16:09.275555Z",
     "shell.execute_reply": "2022-03-04T08:16:09.274900Z",
     "shell.execute_reply.started": "2022-03-04T05:04:03.423303Z"
    },
    "papermill": {
     "duration": 0.471174,
     "end_time": "2022-03-04T08:16:09.275704",
     "exception": false,
     "start_time": "2022-03-04T08:16:08.804530",
     "status": "completed"
    },
    "tags": []
   },
   "outputs": [],
   "source": [
    "num_df, cat_df = split_data(train_open)"
   ]
  },
  {
   "cell_type": "code",
   "execution_count": 19,
   "id": "d8cee9da",
   "metadata": {
    "execution": {
     "iopub.execute_input": "2022-03-04T08:16:09.429792Z",
     "iopub.status.busy": "2022-03-04T08:16:09.429074Z",
     "iopub.status.idle": "2022-03-04T08:16:09.461860Z",
     "shell.execute_reply": "2022-03-04T08:16:09.461261Z",
     "shell.execute_reply.started": "2022-03-04T05:04:03.827547Z"
    },
    "papermill": {
     "duration": 0.111746,
     "end_time": "2022-03-04T08:16:09.462030",
     "exception": false,
     "start_time": "2022-03-04T08:16:09.350284",
     "status": "completed"
    },
    "tags": []
   },
   "outputs": [
    {
     "data": {
      "text/plain": [
       "Store                             0\n",
       "DayOfWeek                         0\n",
       "Sales                             0\n",
       "Customers                         0\n",
       "Open                              0\n",
       "Promo                             0\n",
       "SchoolHoliday                     0\n",
       "CompetitionDistance            2186\n",
       "CompetitionOpenSinceMonth    268619\n",
       "CompetitionOpenSinceYear     268619\n",
       "Promo2                            0\n",
       "Promo2SinceWeek              423307\n",
       "Promo2SinceYear              423307\n",
       "Year                              0\n",
       "Day                               0\n",
       "WeekOfYear                        0\n",
       "CompetitionOpen              268619\n",
       "PromoOpen                    423307\n",
       "IsPromoMonth                      0\n",
       "dtype: int64"
      ]
     },
     "execution_count": 19,
     "metadata": {},
     "output_type": "execute_result"
    }
   ],
   "source": [
    "#Looking at the null values in the num_df\n",
    "num_df.isnull().sum()"
   ]
  },
  {
   "cell_type": "code",
   "execution_count": 20,
   "id": "1174f0bf",
   "metadata": {
    "execution": {
     "iopub.execute_input": "2022-03-04T08:16:09.635123Z",
     "iopub.status.busy": "2022-03-04T08:16:09.634173Z",
     "iopub.status.idle": "2022-03-04T08:16:09.809017Z",
     "shell.execute_reply": "2022-03-04T08:16:09.808235Z",
     "shell.execute_reply.started": "2022-03-04T05:04:03.864793Z"
    },
    "papermill": {
     "duration": 0.271056,
     "end_time": "2022-03-04T08:16:09.809186",
     "exception": false,
     "start_time": "2022-03-04T08:16:09.538130",
     "status": "completed"
    },
    "tags": []
   },
   "outputs": [],
   "source": [
    "#we can fill the null values with 0 in all the columns except the CompetitionDistance column\n",
    "#We will fill the CompetitionDistance column with median value of the distance\n",
    "#Then we will scale the numerical data using MinMax Scaler \n",
    "from sklearn.preprocessing import MinMaxScaler\n",
    "\n",
    "def fix_num(df):\n",
    "    \n",
    "    median_dist = df['CompetitionDistance'].median()\n",
    "    df['CompetitionDistance'] = df['CompetitionDistance'].fillna(value = median_dist)\n",
    "    \n",
    "    df = df.fillna(value = 0)\n",
    "    #scaling data    \n",
    "    scaler = MinMaxScaler().fit(df) \n",
    "    scaled_cols = list(df.columns)\n",
    "    df[scaled_cols] = scaler.transform(df)\n",
    "    \n",
    "    df = df[scaled_cols]\n",
    "        \n",
    "    return df"
   ]
  },
  {
   "cell_type": "code",
   "execution_count": 21,
   "id": "4070c960",
   "metadata": {
    "execution": {
     "iopub.execute_input": "2022-03-04T08:16:09.963273Z",
     "iopub.status.busy": "2022-03-04T08:16:09.962532Z",
     "iopub.status.idle": "2022-03-04T08:16:10.621830Z",
     "shell.execute_reply": "2022-03-04T08:16:10.621203Z",
     "shell.execute_reply.started": "2022-03-04T05:04:04.037626Z"
    },
    "papermill": {
     "duration": 0.737901,
     "end_time": "2022-03-04T08:16:10.621994",
     "exception": false,
     "start_time": "2022-03-04T08:16:09.884093",
     "status": "completed"
    },
    "tags": []
   },
   "outputs": [
    {
     "name": "stderr",
     "output_type": "stream",
     "text": [
      "/opt/conda/lib/python3.7/site-packages/ipykernel_launcher.py:9: SettingWithCopyWarning:\n",
      "\n",
      "\n",
      "A value is trying to be set on a copy of a slice from a DataFrame.\n",
      "Try using .loc[row_indexer,col_indexer] = value instead\n",
      "\n",
      "See the caveats in the documentation: https://pandas.pydata.org/pandas-docs/stable/user_guide/indexing.html#returning-a-view-versus-a-copy\n",
      "\n"
     ]
    }
   ],
   "source": [
    "num_df = fix_num(num_df)"
   ]
  },
  {
   "cell_type": "code",
   "execution_count": 22,
   "id": "cd0fc93a",
   "metadata": {
    "execution": {
     "iopub.execute_input": "2022-03-04T08:16:10.796368Z",
     "iopub.status.busy": "2022-03-04T08:16:10.795612Z",
     "iopub.status.idle": "2022-03-04T08:16:10.799630Z",
     "shell.execute_reply": "2022-03-04T08:16:10.799073Z",
     "shell.execute_reply.started": "2022-03-04T05:04:04.700449Z"
    },
    "papermill": {
     "duration": 0.099246,
     "end_time": "2022-03-04T08:16:10.799790",
     "exception": false,
     "start_time": "2022-03-04T08:16:10.700544",
     "status": "completed"
    },
    "tags": []
   },
   "outputs": [],
   "source": [
    "#we will encode the values in categorical columns using OneHotEncoder\n",
    "from sklearn.preprocessing import OneHotEncoder\n",
    "\n",
    "#fixing categorical df\n",
    "def fix_cat(df):\n",
    "    \n",
    "    df = df.drop('PromoInterval', axis = 1)\n",
    "    \n",
    "    df = df.fillna(method = 'ffill') #filling the null values with forward fill method\n",
    "    \n",
    "    encoder = OneHotEncoder(sparse = False).fit(df)\n",
    "    encoded_cols = list(encoder.get_feature_names(df.columns))\n",
    "    \n",
    "    df[encoded_cols] = encoder.transform(df)\n",
    "    \n",
    "    df = df[encoded_cols]\n",
    "    \n",
    "    return df    "
   ]
  },
  {
   "cell_type": "code",
   "execution_count": 23,
   "id": "bab81d88",
   "metadata": {
    "execution": {
     "iopub.execute_input": "2022-03-04T08:16:10.972214Z",
     "iopub.status.busy": "2022-03-04T08:16:10.970743Z",
     "iopub.status.idle": "2022-03-04T08:16:13.454493Z",
     "shell.execute_reply": "2022-03-04T08:16:13.453937Z",
     "shell.execute_reply.started": "2022-03-04T05:04:04.709339Z"
    },
    "papermill": {
     "duration": 2.570794,
     "end_time": "2022-03-04T08:16:13.454649",
     "exception": false,
     "start_time": "2022-03-04T08:16:10.883855",
     "status": "completed"
    },
    "tags": []
   },
   "outputs": [],
   "source": [
    "cat_df = fix_cat(cat_df)"
   ]
  },
  {
   "cell_type": "code",
   "execution_count": 24,
   "id": "4b8aa88f",
   "metadata": {
    "execution": {
     "iopub.execute_input": "2022-03-04T08:16:13.649443Z",
     "iopub.status.busy": "2022-03-04T08:16:13.648486Z",
     "iopub.status.idle": "2022-03-04T08:16:13.651780Z",
     "shell.execute_reply": "2022-03-04T08:16:13.651052Z",
     "shell.execute_reply.started": "2022-03-04T05:04:07.249423Z"
    },
    "papermill": {
     "duration": 0.102594,
     "end_time": "2022-03-04T08:16:13.651977",
     "exception": false,
     "start_time": "2022-03-04T08:16:13.549383",
     "status": "completed"
    },
    "tags": []
   },
   "outputs": [],
   "source": [
    "#Now we will join the three dataset again to finally get our dataset apt for Machine Learning Model\n",
    "\n",
    "def join_all(df1, df2):\n",
    "    \n",
    "    df = df1.join(df2)\n",
    "            \n",
    "    return df"
   ]
  },
  {
   "cell_type": "code",
   "execution_count": 25,
   "id": "9b4b1183",
   "metadata": {
    "execution": {
     "iopub.execute_input": "2022-03-04T08:16:13.821670Z",
     "iopub.status.busy": "2022-03-04T08:16:13.820950Z",
     "iopub.status.idle": "2022-03-04T08:16:13.952121Z",
     "shell.execute_reply": "2022-03-04T08:16:13.952637Z",
     "shell.execute_reply.started": "2022-03-04T05:04:07.256225Z"
    },
    "papermill": {
     "duration": 0.220313,
     "end_time": "2022-03-04T08:16:13.952829",
     "exception": false,
     "start_time": "2022-03-04T08:16:13.732516",
     "status": "completed"
    },
    "tags": []
   },
   "outputs": [],
   "source": [
    "train_df = join_all(num_df, cat_df)"
   ]
  },
  {
   "cell_type": "code",
   "execution_count": 26,
   "id": "15339e60",
   "metadata": {
    "execution": {
     "iopub.execute_input": "2022-03-04T08:16:14.139383Z",
     "iopub.status.busy": "2022-03-04T08:16:14.138433Z",
     "iopub.status.idle": "2022-03-04T08:16:14.156125Z",
     "shell.execute_reply": "2022-03-04T08:16:14.155508Z",
     "shell.execute_reply.started": "2022-03-04T05:04:07.458943Z"
    },
    "papermill": {
     "duration": 0.124582,
     "end_time": "2022-03-04T08:16:14.156346",
     "exception": false,
     "start_time": "2022-03-04T08:16:14.031764",
     "status": "completed"
    },
    "tags": []
   },
   "outputs": [
    {
     "data": {
      "text/html": [
       "<div>\n",
       "<style scoped>\n",
       "    .dataframe tbody tr th:only-of-type {\n",
       "        vertical-align: middle;\n",
       "    }\n",
       "\n",
       "    .dataframe tbody tr th {\n",
       "        vertical-align: top;\n",
       "    }\n",
       "\n",
       "    .dataframe thead th {\n",
       "        text-align: right;\n",
       "    }\n",
       "</style>\n",
       "<table border=\"1\" class=\"dataframe\">\n",
       "  <thead>\n",
       "    <tr style=\"text-align: right;\">\n",
       "      <th></th>\n",
       "      <th>Store</th>\n",
       "      <th>DayOfWeek</th>\n",
       "      <th>Sales</th>\n",
       "      <th>Customers</th>\n",
       "      <th>Open</th>\n",
       "      <th>Promo</th>\n",
       "      <th>SchoolHoliday</th>\n",
       "      <th>CompetitionDistance</th>\n",
       "      <th>CompetitionOpenSinceMonth</th>\n",
       "      <th>CompetitionOpenSinceYear</th>\n",
       "      <th>...</th>\n",
       "      <th>Month_Nov</th>\n",
       "      <th>Month_Oct</th>\n",
       "      <th>Month_Sept</th>\n",
       "      <th>Assortment_a</th>\n",
       "      <th>Assortment_b</th>\n",
       "      <th>Assortment_c</th>\n",
       "      <th>StateHoliday_0</th>\n",
       "      <th>StateHoliday_a</th>\n",
       "      <th>StateHoliday_b</th>\n",
       "      <th>StateHoliday_c</th>\n",
       "    </tr>\n",
       "  </thead>\n",
       "  <tbody>\n",
       "    <tr>\n",
       "      <th>0</th>\n",
       "      <td>0.000000</td>\n",
       "      <td>0.666667</td>\n",
       "      <td>0.126664</td>\n",
       "      <td>0.075122</td>\n",
       "      <td>0.0</td>\n",
       "      <td>1.0</td>\n",
       "      <td>1.0</td>\n",
       "      <td>0.016482</td>\n",
       "      <td>0.750000</td>\n",
       "      <td>0.996526</td>\n",
       "      <td>...</td>\n",
       "      <td>0.0</td>\n",
       "      <td>0.0</td>\n",
       "      <td>0.0</td>\n",
       "      <td>1.0</td>\n",
       "      <td>0.0</td>\n",
       "      <td>0.0</td>\n",
       "      <td>1.0</td>\n",
       "      <td>0.0</td>\n",
       "      <td>0.0</td>\n",
       "      <td>0.0</td>\n",
       "    </tr>\n",
       "    <tr>\n",
       "      <th>1</th>\n",
       "      <td>0.000898</td>\n",
       "      <td>0.666667</td>\n",
       "      <td>0.145941</td>\n",
       "      <td>0.084597</td>\n",
       "      <td>0.0</td>\n",
       "      <td>1.0</td>\n",
       "      <td>1.0</td>\n",
       "      <td>0.007252</td>\n",
       "      <td>0.916667</td>\n",
       "      <td>0.996030</td>\n",
       "      <td>...</td>\n",
       "      <td>0.0</td>\n",
       "      <td>0.0</td>\n",
       "      <td>0.0</td>\n",
       "      <td>1.0</td>\n",
       "      <td>0.0</td>\n",
       "      <td>0.0</td>\n",
       "      <td>1.0</td>\n",
       "      <td>0.0</td>\n",
       "      <td>0.0</td>\n",
       "      <td>0.0</td>\n",
       "    </tr>\n",
       "    <tr>\n",
       "      <th>2</th>\n",
       "      <td>0.001795</td>\n",
       "      <td>0.666667</td>\n",
       "      <td>0.200091</td>\n",
       "      <td>0.111126</td>\n",
       "      <td>0.0</td>\n",
       "      <td>1.0</td>\n",
       "      <td>1.0</td>\n",
       "      <td>0.186050</td>\n",
       "      <td>1.000000</td>\n",
       "      <td>0.995533</td>\n",
       "      <td>...</td>\n",
       "      <td>0.0</td>\n",
       "      <td>0.0</td>\n",
       "      <td>0.0</td>\n",
       "      <td>1.0</td>\n",
       "      <td>0.0</td>\n",
       "      <td>0.0</td>\n",
       "      <td>1.0</td>\n",
       "      <td>0.0</td>\n",
       "      <td>0.0</td>\n",
       "      <td>0.0</td>\n",
       "    </tr>\n",
       "    <tr>\n",
       "      <th>3</th>\n",
       "      <td>0.002693</td>\n",
       "      <td>0.666667</td>\n",
       "      <td>0.336815</td>\n",
       "      <td>0.202761</td>\n",
       "      <td>0.0</td>\n",
       "      <td>1.0</td>\n",
       "      <td>1.0</td>\n",
       "      <td>0.007911</td>\n",
       "      <td>0.750000</td>\n",
       "      <td>0.997022</td>\n",
       "      <td>...</td>\n",
       "      <td>0.0</td>\n",
       "      <td>0.0</td>\n",
       "      <td>0.0</td>\n",
       "      <td>0.0</td>\n",
       "      <td>0.0</td>\n",
       "      <td>1.0</td>\n",
       "      <td>1.0</td>\n",
       "      <td>0.0</td>\n",
       "      <td>0.0</td>\n",
       "      <td>0.0</td>\n",
       "    </tr>\n",
       "    <tr>\n",
       "      <th>4</th>\n",
       "      <td>0.003591</td>\n",
       "      <td>0.666667</td>\n",
       "      <td>0.116050</td>\n",
       "      <td>0.075663</td>\n",
       "      <td>0.0</td>\n",
       "      <td>1.0</td>\n",
       "      <td>1.0</td>\n",
       "      <td>0.394119</td>\n",
       "      <td>0.333333</td>\n",
       "      <td>1.000000</td>\n",
       "      <td>...</td>\n",
       "      <td>0.0</td>\n",
       "      <td>0.0</td>\n",
       "      <td>0.0</td>\n",
       "      <td>1.0</td>\n",
       "      <td>0.0</td>\n",
       "      <td>0.0</td>\n",
       "      <td>1.0</td>\n",
       "      <td>0.0</td>\n",
       "      <td>0.0</td>\n",
       "      <td>0.0</td>\n",
       "    </tr>\n",
       "  </tbody>\n",
       "</table>\n",
       "<p>5 rows × 42 columns</p>\n",
       "</div>"
      ],
      "text/plain": [
       "      Store  DayOfWeek     Sales  Customers  Open  Promo  SchoolHoliday  \\\n",
       "0  0.000000   0.666667  0.126664   0.075122   0.0    1.0            1.0   \n",
       "1  0.000898   0.666667  0.145941   0.084597   0.0    1.0            1.0   \n",
       "2  0.001795   0.666667  0.200091   0.111126   0.0    1.0            1.0   \n",
       "3  0.002693   0.666667  0.336815   0.202761   0.0    1.0            1.0   \n",
       "4  0.003591   0.666667  0.116050   0.075663   0.0    1.0            1.0   \n",
       "\n",
       "   CompetitionDistance  CompetitionOpenSinceMonth  CompetitionOpenSinceYear  \\\n",
       "0             0.016482                   0.750000                  0.996526   \n",
       "1             0.007252                   0.916667                  0.996030   \n",
       "2             0.186050                   1.000000                  0.995533   \n",
       "3             0.007911                   0.750000                  0.997022   \n",
       "4             0.394119                   0.333333                  1.000000   \n",
       "\n",
       "   ...  Month_Nov  Month_Oct  Month_Sept  Assortment_a  Assortment_b  \\\n",
       "0  ...        0.0        0.0         0.0           1.0           0.0   \n",
       "1  ...        0.0        0.0         0.0           1.0           0.0   \n",
       "2  ...        0.0        0.0         0.0           1.0           0.0   \n",
       "3  ...        0.0        0.0         0.0           0.0           0.0   \n",
       "4  ...        0.0        0.0         0.0           1.0           0.0   \n",
       "\n",
       "   Assortment_c  StateHoliday_0  StateHoliday_a  StateHoliday_b  \\\n",
       "0           0.0             1.0             0.0             0.0   \n",
       "1           0.0             1.0             0.0             0.0   \n",
       "2           0.0             1.0             0.0             0.0   \n",
       "3           1.0             1.0             0.0             0.0   \n",
       "4           0.0             1.0             0.0             0.0   \n",
       "\n",
       "   StateHoliday_c  \n",
       "0             0.0  \n",
       "1             0.0  \n",
       "2             0.0  \n",
       "3             0.0  \n",
       "4             0.0  \n",
       "\n",
       "[5 rows x 42 columns]"
      ]
     },
     "execution_count": 26,
     "metadata": {},
     "output_type": "execute_result"
    }
   ],
   "source": [
    "train_df.head()"
   ]
  },
  {
   "cell_type": "markdown",
   "id": "268cab2d",
   "metadata": {
    "papermill": {
     "duration": 0.095057,
     "end_time": "2022-03-04T08:16:14.341852",
     "exception": false,
     "start_time": "2022-03-04T08:16:14.246795",
     "status": "completed"
    },
    "tags": []
   },
   "source": [
    "# Modelling and Testing"
   ]
  },
  {
   "cell_type": "markdown",
   "id": "23604951",
   "metadata": {
    "papermill": {
     "duration": 0.087358,
     "end_time": "2022-03-04T08:16:14.520982",
     "exception": false,
     "start_time": "2022-03-04T08:16:14.433624",
     "status": "completed"
    },
    "tags": []
   },
   "source": [
    "To start with modelling and testing process we will split the train_df dataset into training and testing part.\n",
    "\n",
    "Here Sale column is our target variable and rest of the columns are our feature variable."
   ]
  },
  {
   "cell_type": "code",
   "execution_count": 27,
   "id": "9a22cb43",
   "metadata": {
    "execution": {
     "iopub.execute_input": "2022-03-04T08:16:14.700001Z",
     "iopub.status.busy": "2022-03-04T08:16:14.697637Z",
     "iopub.status.idle": "2022-03-04T08:16:15.630711Z",
     "shell.execute_reply": "2022-03-04T08:16:15.630112Z",
     "shell.execute_reply.started": "2022-03-04T05:04:07.500917Z"
    },
    "papermill": {
     "duration": 1.020948,
     "end_time": "2022-03-04T08:16:15.630854",
     "exception": false,
     "start_time": "2022-03-04T08:16:14.609906",
     "status": "completed"
    },
    "tags": []
   },
   "outputs": [],
   "source": [
    "from sklearn.model_selection import train_test_split\n",
    "\n",
    "X = train_df.drop('Sales', axis = 1)\n",
    "\n",
    "y = train_df['Sales']\n",
    "\n",
    "X_train, X_test, y_train, y_test = train_test_split(X, y, test_size = 0.30, random_state = 101)"
   ]
  },
  {
   "cell_type": "markdown",
   "id": "6b00e4d8",
   "metadata": {
    "papermill": {
     "duration": 0.075545,
     "end_time": "2022-03-04T08:16:15.783039",
     "exception": false,
     "start_time": "2022-03-04T08:16:15.707494",
     "status": "completed"
    },
    "tags": []
   },
   "source": [
    "First we will run a plain linear regression and record our baseline model performance score and then we will run other models and compare it with our baseline score."
   ]
  },
  {
   "cell_type": "code",
   "execution_count": 28,
   "id": "7a49c848",
   "metadata": {
    "execution": {
     "iopub.execute_input": "2022-03-04T08:16:15.941796Z",
     "iopub.status.busy": "2022-03-04T08:16:15.941086Z",
     "iopub.status.idle": "2022-03-04T08:16:16.268030Z",
     "shell.execute_reply": "2022-03-04T08:16:16.267378Z",
     "shell.execute_reply.started": "2022-03-04T05:04:08.469413Z"
    },
    "papermill": {
     "duration": 0.407871,
     "end_time": "2022-03-04T08:16:16.268192",
     "exception": false,
     "start_time": "2022-03-04T08:16:15.860321",
     "status": "completed"
    },
    "tags": []
   },
   "outputs": [],
   "source": [
    "import time\n",
    "from sklearn.linear_model import LinearRegression,SGDRegressor\n",
    "from sklearn.ensemble import RandomForestRegressor\n",
    "from sklearn.pipeline import Pipeline\n",
    "from sklearn.metrics import mean_squared_error\n",
    "from xgboost import XGBRegressor"
   ]
  },
  {
   "cell_type": "code",
   "execution_count": 29,
   "id": "89a39038",
   "metadata": {
    "execution": {
     "iopub.execute_input": "2022-03-04T08:16:16.425341Z",
     "iopub.status.busy": "2022-03-04T08:16:16.424282Z",
     "iopub.status.idle": "2022-03-04T08:16:16.427164Z",
     "shell.execute_reply": "2022-03-04T08:16:16.426545Z",
     "shell.execute_reply.started": "2022-03-04T05:04:08.946112Z"
    },
    "papermill": {
     "duration": 0.083248,
     "end_time": "2022-03-04T08:16:16.427310",
     "exception": false,
     "start_time": "2022-03-04T08:16:16.344062",
     "status": "completed"
    },
    "tags": []
   },
   "outputs": [],
   "source": [
    "#Initialize Linear Regression\n",
    "lr = LinearRegression()"
   ]
  },
  {
   "cell_type": "code",
   "execution_count": 30,
   "id": "1e5f02e4",
   "metadata": {
    "execution": {
     "iopub.execute_input": "2022-03-04T08:16:16.589155Z",
     "iopub.status.busy": "2022-03-04T08:16:16.587852Z",
     "iopub.status.idle": "2022-03-04T08:16:17.568258Z",
     "shell.execute_reply": "2022-03-04T08:16:17.569113Z",
     "shell.execute_reply.started": "2022-03-04T05:04:08.955664Z"
    },
    "papermill": {
     "duration": 1.066346,
     "end_time": "2022-03-04T08:16:17.569432",
     "exception": false,
     "start_time": "2022-03-04T08:16:16.503086",
     "status": "completed"
    },
    "tags": []
   },
   "outputs": [
    {
     "name": "stdout",
     "output_type": "stream",
     "text": [
      "Mean Squared Error:  0.030544130128529266\n"
     ]
    }
   ],
   "source": [
    "lr.fit(X_train, y_train) #fitting our model in training dataset\n",
    "pred = lr.predict(X_test) #predicting on test data\n",
    "\n",
    "print(\"Mean Squared Error: \", np.sqrt(mean_squared_error(y_test, pred)))"
   ]
  },
  {
   "cell_type": "code",
   "execution_count": 31,
   "id": "40665297",
   "metadata": {
    "execution": {
     "iopub.execute_input": "2022-03-04T08:16:17.779540Z",
     "iopub.status.busy": "2022-03-04T08:16:17.778752Z",
     "iopub.status.idle": "2022-03-04T08:30:20.868353Z",
     "shell.execute_reply": "2022-03-04T08:30:20.869604Z",
     "shell.execute_reply.started": "2022-03-04T05:04:10.310933Z"
    },
    "papermill": {
     "duration": 843.175982,
     "end_time": "2022-03-04T08:30:20.870207",
     "exception": false,
     "start_time": "2022-03-04T08:16:17.694225",
     "status": "completed"
    },
    "tags": []
   },
   "outputs": [],
   "source": [
    "#let's prepare the model pipelines to run multiple models and calculate scores\n",
    "\n",
    "def model_perform(model, X_train, X_test, y_train, y_test):\n",
    "    \n",
    "    start = time.time()\n",
    "    model = model.fit(X_train, y_train)\n",
    "    pred = model.predict(X_test)\n",
    "    score = np.sqrt(mean_squared_error(y_test, pred))\n",
    "    \n",
    "    end = time.time()\n",
    "    time_taken  = end - start\n",
    "    \n",
    "    return score, time_taken\n",
    "\n",
    "pipelines = [('RandomForesstRegressor', RandomForestRegressor()),\n",
    "             ('Linear Regression', LinearRegression()),\n",
    "             ('SGD Regressor', SGDRegressor()),\n",
    "              ('XGBoostRegressor', XGBRegressor())]\n",
    "\n",
    "Scores = {'Model_name': [],\n",
    "          'Score': [],\n",
    "          'Time_taken_in_secs': []}\n",
    "\n",
    "for model_name, model in pipelines:\n",
    "  score, time_taken = model_perform(model, X_train, X_test, y_train, y_test)\n",
    "  Scores['Model_name'].append(model_name)\n",
    "  Scores['Score'].append(score)\n",
    "  Scores['Time_taken_in_secs'].append(time_taken)"
   ]
  },
  {
   "cell_type": "code",
   "execution_count": 32,
   "id": "9f5198c2",
   "metadata": {
    "execution": {
     "iopub.execute_input": "2022-03-04T08:30:21.035541Z",
     "iopub.status.busy": "2022-03-04T08:30:21.034709Z",
     "iopub.status.idle": "2022-03-04T08:30:21.037049Z",
     "shell.execute_reply": "2022-03-04T08:30:21.037607Z",
     "shell.execute_reply.started": "2022-03-04T05:19:24.730809Z"
    },
    "papermill": {
     "duration": 0.086089,
     "end_time": "2022-03-04T08:30:21.037785",
     "exception": false,
     "start_time": "2022-03-04T08:30:20.951696",
     "status": "completed"
    },
    "tags": []
   },
   "outputs": [],
   "source": [
    "#Creting a Dataframe of scores for ease of comparison\n",
    "Scores = pd.DataFrame.from_dict(Scores)"
   ]
  },
  {
   "cell_type": "code",
   "execution_count": 33,
   "id": "0a440ec9",
   "metadata": {
    "execution": {
     "iopub.execute_input": "2022-03-04T08:30:21.194524Z",
     "iopub.status.busy": "2022-03-04T08:30:21.193930Z",
     "iopub.status.idle": "2022-03-04T08:30:21.203416Z",
     "shell.execute_reply": "2022-03-04T08:30:21.204036Z",
     "shell.execute_reply.started": "2022-03-04T05:19:24.739718Z"
    },
    "papermill": {
     "duration": 0.088543,
     "end_time": "2022-03-04T08:30:21.204220",
     "exception": false,
     "start_time": "2022-03-04T08:30:21.115677",
     "status": "completed"
    },
    "tags": []
   },
   "outputs": [
    {
     "data": {
      "text/html": [
       "<div>\n",
       "<style scoped>\n",
       "    .dataframe tbody tr th:only-of-type {\n",
       "        vertical-align: middle;\n",
       "    }\n",
       "\n",
       "    .dataframe tbody tr th {\n",
       "        vertical-align: top;\n",
       "    }\n",
       "\n",
       "    .dataframe thead th {\n",
       "        text-align: right;\n",
       "    }\n",
       "</style>\n",
       "<table border=\"1\" class=\"dataframe\">\n",
       "  <thead>\n",
       "    <tr style=\"text-align: right;\">\n",
       "      <th></th>\n",
       "      <th>Model_name</th>\n",
       "      <th>Score</th>\n",
       "      <th>Time_taken_in_secs</th>\n",
       "    </tr>\n",
       "  </thead>\n",
       "  <tbody>\n",
       "    <tr>\n",
       "      <th>0</th>\n",
       "      <td>RandomForesstRegressor</td>\n",
       "      <td>0.011548</td>\n",
       "      <td>775.712886</td>\n",
       "    </tr>\n",
       "    <tr>\n",
       "      <th>1</th>\n",
       "      <td>Linear Regression</td>\n",
       "      <td>0.030544</td>\n",
       "      <td>0.919712</td>\n",
       "    </tr>\n",
       "    <tr>\n",
       "      <th>2</th>\n",
       "      <td>SGD Regressor</td>\n",
       "      <td>0.031794</td>\n",
       "      <td>1.444390</td>\n",
       "    </tr>\n",
       "    <tr>\n",
       "      <th>3</th>\n",
       "      <td>XGBoostRegressor</td>\n",
       "      <td>0.012911</td>\n",
       "      <td>65.004543</td>\n",
       "    </tr>\n",
       "  </tbody>\n",
       "</table>\n",
       "</div>"
      ],
      "text/plain": [
       "               Model_name     Score  Time_taken_in_secs\n",
       "0  RandomForesstRegressor  0.011548          775.712886\n",
       "1       Linear Regression  0.030544            0.919712\n",
       "2           SGD Regressor  0.031794            1.444390\n",
       "3        XGBoostRegressor  0.012911           65.004543"
      ]
     },
     "execution_count": 33,
     "metadata": {},
     "output_type": "execute_result"
    }
   ],
   "source": [
    "Scores"
   ]
  },
  {
   "cell_type": "markdown",
   "id": "7adc8df4",
   "metadata": {
    "papermill": {
     "duration": 0.075967,
     "end_time": "2022-03-04T08:30:21.356934",
     "exception": false,
     "start_time": "2022-03-04T08:30:21.280967",
     "status": "completed"
    },
    "tags": []
   },
   "source": [
    "Model performance from Random Forrest and XGBoost are better. However, XGBoost took a lot less time, so we will do the Hyper Parameter tuning using K-Fold cross-validation with the help of Grid-Search CV"
   ]
  },
  {
   "cell_type": "markdown",
   "id": "b5f4c002",
   "metadata": {
    "papermill": {
     "duration": 0.077096,
     "end_time": "2022-03-04T08:30:21.510766",
     "exception": false,
     "start_time": "2022-03-04T08:30:21.433670",
     "status": "completed"
    },
    "tags": []
   },
   "source": [
    "# Hyper Parameter Tuning"
   ]
  },
  {
   "cell_type": "code",
   "execution_count": 34,
   "id": "2279c64d",
   "metadata": {
    "execution": {
     "iopub.execute_input": "2022-03-04T08:30:21.667743Z",
     "iopub.status.busy": "2022-03-04T08:30:21.667048Z",
     "iopub.status.idle": "2022-03-04T08:30:21.670422Z",
     "shell.execute_reply": "2022-03-04T08:30:21.670976Z",
     "shell.execute_reply.started": "2022-03-04T05:19:24.767047Z"
    },
    "papermill": {
     "duration": 0.083132,
     "end_time": "2022-03-04T08:30:21.671169",
     "exception": false,
     "start_time": "2022-03-04T08:30:21.588037",
     "status": "completed"
    },
    "tags": []
   },
   "outputs": [],
   "source": [
    "from sklearn.model_selection import GridSearchCV"
   ]
  },
  {
   "cell_type": "code",
   "execution_count": 35,
   "id": "ca5237cc",
   "metadata": {
    "execution": {
     "iopub.execute_input": "2022-03-04T08:30:21.831205Z",
     "iopub.status.busy": "2022-03-04T08:30:21.826158Z",
     "iopub.status.idle": "2022-03-04T08:30:21.834579Z",
     "shell.execute_reply": "2022-03-04T08:30:21.833795Z",
     "shell.execute_reply.started": "2022-03-04T05:19:24.782154Z"
    },
    "papermill": {
     "duration": 0.087176,
     "end_time": "2022-03-04T08:30:21.834733",
     "exception": false,
     "start_time": "2022-03-04T08:30:21.747557",
     "status": "completed"
    },
    "tags": []
   },
   "outputs": [],
   "source": [
    "#selecting parameters for parameter grid\n",
    "param_grid = {'n_estimators': [50, 100, 250],\n",
    "              'learning_rate': [0.01, 0.1, 1.0],\n",
    "              'max_depth': [2, 5, 10]\n",
    "              }\n",
    "#creting Grid-Search model\n",
    "xgb_grid = GridSearchCV(estimator = XGBRegressor(), param_grid = param_grid, \n",
    "                        scoring='neg_mean_squared_error',\n",
    "                        cv = 5, n_jobs = -1, verbose=2)"
   ]
  },
  {
   "cell_type": "markdown",
   "id": "51ee7fd7",
   "metadata": {
    "papermill": {
     "duration": 0.078469,
     "end_time": "2022-03-04T08:30:21.989745",
     "exception": false,
     "start_time": "2022-03-04T08:30:21.911276",
     "status": "completed"
    },
    "tags": []
   },
   "source": [
    "Running the grid search cv with 5 fold cross validation on whole dataset will take too much time. We will use 10% of the training dataset to find the best parameters and then we will apply those best parameters to full dataset. "
   ]
  },
  {
   "cell_type": "code",
   "execution_count": 36,
   "id": "e8258686",
   "metadata": {
    "execution": {
     "iopub.execute_input": "2022-03-04T08:30:22.151179Z",
     "iopub.status.busy": "2022-03-04T08:30:22.150485Z",
     "iopub.status.idle": "2022-03-04T08:30:22.154268Z",
     "shell.execute_reply": "2022-03-04T08:30:22.154804Z",
     "shell.execute_reply.started": "2022-03-04T05:19:24.796116Z"
    },
    "papermill": {
     "duration": 0.086005,
     "end_time": "2022-03-04T08:30:22.155003",
     "exception": false,
     "start_time": "2022-03-04T08:30:22.068998",
     "status": "completed"
    },
    "tags": []
   },
   "outputs": [],
   "source": [
    "#creating validation dataset out of training dataset with 10% of the data\n",
    "X_val = X_train.iloc[:100001]\n",
    "y_val = y_train.iloc[:100001]"
   ]
  },
  {
   "cell_type": "code",
   "execution_count": 37,
   "id": "c9b82bd8",
   "metadata": {
    "execution": {
     "iopub.execute_input": "2022-03-04T08:30:22.312448Z",
     "iopub.status.busy": "2022-03-04T08:30:22.311767Z",
     "iopub.status.idle": "2022-03-04T10:29:18.487287Z",
     "shell.execute_reply": "2022-03-04T10:29:18.488063Z",
     "shell.execute_reply.started": "2022-03-04T05:19:24.811921Z"
    },
    "papermill": {
     "duration": 7136.255912,
     "end_time": "2022-03-04T10:29:18.488315",
     "exception": false,
     "start_time": "2022-03-04T08:30:22.232403",
     "status": "completed"
    },
    "tags": []
   },
   "outputs": [
    {
     "name": "stdout",
     "output_type": "stream",
     "text": [
      "Fitting 5 folds for each of 27 candidates, totalling 135 fits\n"
     ]
    },
    {
     "name": "stderr",
     "output_type": "stream",
     "text": [
      "[Parallel(n_jobs=-1)]: Using backend LokyBackend with 4 concurrent workers.\n",
      "[Parallel(n_jobs=-1)]: Done  33 tasks      | elapsed: 13.5min\n"
     ]
    },
    {
     "name": "stdout",
     "output_type": "stream",
     "text": [
      "[CV] learning_rate=0.01, max_depth=2, n_estimators=50 ................\n",
      "[CV] . learning_rate=0.01, max_depth=2, n_estimators=50, total=  16.7s\n",
      "[CV] learning_rate=0.01, max_depth=2, n_estimators=100 ...............\n",
      "[CV]  learning_rate=0.01, max_depth=2, n_estimators=100, total=  33.4s\n",
      "[CV] learning_rate=0.01, max_depth=2, n_estimators=250 ...............\n",
      "[CV]  learning_rate=0.01, max_depth=2, n_estimators=250, total= 1.4min\n",
      "[CV] learning_rate=0.01, max_depth=2, n_estimators=250 ...............\n",
      "[CV]  learning_rate=0.01, max_depth=2, n_estimators=250, total= 1.4min\n",
      "[CV] learning_rate=0.01, max_depth=5, n_estimators=100 ...............\n",
      "[CV]  learning_rate=0.01, max_depth=5, n_estimators=100, total= 1.6min\n",
      "[CV] learning_rate=0.01, max_depth=5, n_estimators=250 ...............\n",
      "[CV]  learning_rate=0.01, max_depth=5, n_estimators=250, total= 4.2min\n",
      "[CV] learning_rate=0.01, max_depth=5, n_estimators=250 ...............\n",
      "[CV]  learning_rate=0.01, max_depth=5, n_estimators=250, total= 4.1min\n",
      "[CV] learning_rate=0.01, max_depth=10, n_estimators=100 ..............\n",
      "[CV]  learning_rate=0.01, max_depth=10, n_estimators=100, total= 5.3min\n",
      "[CV] learning_rate=0.01, max_depth=10, n_estimators=250 ..............\n",
      "[CV]  learning_rate=0.01, max_depth=10, n_estimators=250, total=14.7min\n"
     ]
    },
    {
     "name": "stderr",
     "output_type": "stream",
     "text": [
      "/opt/conda/lib/python3.7/site-packages/joblib/externals/loky/process_executor.py:705: UserWarning:\n",
      "\n",
      "A worker stopped while some jobs were given to the executor. This can be caused by a too short worker timeout or by a memory leak.\n",
      "\n"
     ]
    },
    {
     "name": "stdout",
     "output_type": "stream",
     "text": [
      "[CV] learning_rate=0.01, max_depth=2, n_estimators=50 ................\n",
      "[CV] . learning_rate=0.01, max_depth=2, n_estimators=50, total=  16.3s\n",
      "[CV] learning_rate=0.01, max_depth=2, n_estimators=100 ...............\n",
      "[CV]  learning_rate=0.01, max_depth=2, n_estimators=100, total=  34.3s\n",
      "[CV] learning_rate=0.01, max_depth=2, n_estimators=250 ...............\n",
      "[CV]  learning_rate=0.01, max_depth=2, n_estimators=250, total= 1.4min\n",
      "[CV] learning_rate=0.01, max_depth=5, n_estimators=50 ................\n",
      "[CV] . learning_rate=0.01, max_depth=5, n_estimators=50, total=  45.5s\n",
      "[CV] learning_rate=0.01, max_depth=5, n_estimators=50 ................\n",
      "[CV] . learning_rate=0.01, max_depth=5, n_estimators=50, total=  45.8s\n",
      "[CV] learning_rate=0.01, max_depth=5, n_estimators=100 ...............\n",
      "[CV]  learning_rate=0.01, max_depth=5, n_estimators=100, total= 1.5min\n",
      "[CV] learning_rate=0.01, max_depth=5, n_estimators=250 ...............\n",
      "[CV]  learning_rate=0.01, max_depth=5, n_estimators=250, total= 4.2min\n",
      "[CV] learning_rate=0.01, max_depth=10, n_estimators=50 ...............\n",
      "[CV]  learning_rate=0.01, max_depth=10, n_estimators=50, total= 2.5min\n",
      "[CV] learning_rate=0.01, max_depth=10, n_estimators=50 ...............\n",
      "[CV]  learning_rate=0.01, max_depth=10, n_estimators=50, total= 2.5min\n",
      "[CV] learning_rate=0.01, max_depth=10, n_estimators=100 ..............\n",
      "[CV]  learning_rate=0.01, max_depth=10, n_estimators=100, total= 5.2min\n",
      "[CV] learning_rate=0.01, max_depth=10, n_estimators=250 ..............\n",
      "[CV]  learning_rate=0.01, max_depth=10, n_estimators=250, total=14.6min\n",
      "[CV] learning_rate=0.01, max_depth=2, n_estimators=50 ................\n",
      "[CV] . learning_rate=0.01, max_depth=2, n_estimators=50, total=  16.3s\n",
      "[CV] learning_rate=0.01, max_depth=2, n_estimators=50 ................\n",
      "[CV] . learning_rate=0.01, max_depth=2, n_estimators=50, total=  16.5s\n",
      "[CV] learning_rate=0.01, max_depth=2, n_estimators=100 ...............\n",
      "[CV]  learning_rate=0.01, max_depth=2, n_estimators=100, total=  32.9s\n",
      "[CV] learning_rate=0.01, max_depth=2, n_estimators=250 ...............\n",
      "[CV]  learning_rate=0.01, max_depth=2, n_estimators=250, total= 1.4min\n",
      "[CV] learning_rate=0.01, max_depth=5, n_estimators=50 ................\n",
      "[CV] . learning_rate=0.01, max_depth=5, n_estimators=50, total=  46.6s\n",
      "[CV] learning_rate=0.01, max_depth=5, n_estimators=50 ................\n",
      "[CV] . learning_rate=0.01, max_depth=5, n_estimators=50, total=  45.9s\n",
      "[CV] learning_rate=0.01, max_depth=5, n_estimators=100 ...............\n",
      "[CV]  learning_rate=0.01, max_depth=5, n_estimators=100, total= 1.6min\n",
      "[CV] learning_rate=0.01, max_depth=5, n_estimators=250 ...............\n",
      "[CV]  learning_rate=0.01, max_depth=5, n_estimators=250, total= 4.2min\n",
      "[CV] learning_rate=0.01, max_depth=10, n_estimators=50 ...............\n",
      "[CV]  learning_rate=0.01, max_depth=10, n_estimators=50, total= 2.5min\n",
      "[CV] learning_rate=0.01, max_depth=10, n_estimators=50 ...............\n",
      "[CV]  learning_rate=0.01, max_depth=10, n_estimators=50, total= 2.6min\n",
      "[CV] learning_rate=0.01, max_depth=10, n_estimators=100 ..............\n",
      "[CV]  learning_rate=0.01, max_depth=10, n_estimators=100, total= 5.3min\n",
      "[CV] learning_rate=0.01, max_depth=10, n_estimators=250 ..............\n",
      "[CV]  learning_rate=0.01, max_depth=10, n_estimators=250, total=14.7min\n",
      "[CV] learning_rate=0.01, max_depth=2, n_estimators=50 ................\n",
      "[CV] . learning_rate=0.01, max_depth=2, n_estimators=50, total=  16.9s\n",
      "[CV] learning_rate=0.01, max_depth=2, n_estimators=100 ...............\n",
      "[CV]  learning_rate=0.01, max_depth=2, n_estimators=100, total=  33.1s\n",
      "[CV] learning_rate=0.01, max_depth=2, n_estimators=100 ...............\n",
      "[CV]  learning_rate=0.01, max_depth=2, n_estimators=100, total=  34.3s\n",
      "[CV] learning_rate=0.01, max_depth=2, n_estimators=250 ...............\n",
      "[CV]  learning_rate=0.01, max_depth=2, n_estimators=250, total= 1.4min\n",
      "[CV] learning_rate=0.01, max_depth=5, n_estimators=50 ................\n",
      "[CV] . learning_rate=0.01, max_depth=5, n_estimators=50, total=  45.7s\n",
      "[CV] learning_rate=0.01, max_depth=5, n_estimators=100 ...............\n",
      "[CV]  learning_rate=0.01, max_depth=5, n_estimators=100, total= 1.6min\n",
      "[CV] learning_rate=0.01, max_depth=5, n_estimators=100 ...............\n",
      "[CV]  learning_rate=0.01, max_depth=5, n_estimators=100, total= 1.5min\n",
      "[CV] learning_rate=0.01, max_depth=5, n_estimators=250 ...............\n",
      "[CV]  learning_rate=0.01, max_depth=5, n_estimators=250, total= 4.2min\n",
      "[CV] learning_rate=0.01, max_depth=10, n_estimators=50 ...............\n",
      "[CV]  learning_rate=0.01, max_depth=10, n_estimators=50, total= 2.4min\n",
      "[CV] learning_rate=0.01, max_depth=10, n_estimators=100 ..............\n",
      "[CV]  learning_rate=0.01, max_depth=10, n_estimators=100, total= 5.4min\n",
      "[CV] learning_rate=0.01, max_depth=10, n_estimators=100 ..............\n",
      "[CV]  learning_rate=0.01, max_depth=10, n_estimators=100, total= 5.3min\n",
      "[CV] learning_rate=0.01, max_depth=10, n_estimators=250 ..............\n",
      "[CV]  learning_rate=0.01, max_depth=10, n_estimators=250, total=14.8min\n"
     ]
    },
    {
     "name": "stderr",
     "output_type": "stream",
     "text": [
      "[Parallel(n_jobs=-1)]: Done 135 out of 135 | elapsed: 118.1min finished\n"
     ]
    },
    {
     "name": "stdout",
     "output_type": "stream",
     "text": [
      "Best Score:  -0.00014680222794094858\n",
      "Best Params:  {'learning_rate': 0.1, 'max_depth': 10, 'n_estimators': 250}\n",
      "CPU times: user 3min 13s, sys: 1.73 s, total: 3min 15s\n",
      "Wall time: 1h 58min 56s\n"
     ]
    }
   ],
   "source": [
    "%%time\n",
    "xgb_grid.fit(X_val, y_val)\n",
    "\n",
    "xgb_best = xgb_grid.best_estimator_\n",
    "\n",
    "print(\"Best Score: \", xgb_grid.best_score_)\n",
    "print(\"Best Params: \", xgb_grid.best_params_)"
   ]
  },
  {
   "cell_type": "code",
   "execution_count": 38,
   "id": "c876fa29",
   "metadata": {
    "execution": {
     "iopub.execute_input": "2022-03-04T10:29:18.657981Z",
     "iopub.status.busy": "2022-03-04T10:29:18.656993Z",
     "iopub.status.idle": "2022-03-04T10:29:20.050637Z",
     "shell.execute_reply": "2022-03-04T10:29:20.051859Z",
     "shell.execute_reply.started": "2022-03-04T07:20:53.232177Z"
    },
    "papermill": {
     "duration": 1.481549,
     "end_time": "2022-03-04T10:29:20.052130",
     "exception": false,
     "start_time": "2022-03-04T10:29:18.570581",
     "status": "completed"
    },
    "tags": []
   },
   "outputs": [
    {
     "name": "stdout",
     "output_type": "stream",
     "text": [
      "Root Mean Square score:  0.011247998954500408\n"
     ]
    }
   ],
   "source": [
    "xgb_pred = xgb_best.predict(X_test) #predicting with the best parameters on full test data\n",
    "\n",
    "rmse_xgb = np.sqrt(mean_squared_error(y_test, xgb_pred)) #score\n",
    "\n",
    "print(\"Root Mean Square score: \", rmse_xgb)"
   ]
  },
  {
   "cell_type": "markdown",
   "id": "c8ca241b",
   "metadata": {
    "papermill": {
     "duration": 0.080663,
     "end_time": "2022-03-04T10:29:20.214999",
     "exception": false,
     "start_time": "2022-03-04T10:29:20.134336",
     "status": "completed"
    },
    "tags": []
   },
   "source": [
    "We can observe that we have performed better with the Grid Search Method and we will use this model for our test dataset.\n",
    "\n",
    "Before running the model to our test dataset, we need to clean our test data and then perform machine learning."
   ]
  },
  {
   "cell_type": "markdown",
   "id": "5a88a896",
   "metadata": {
    "papermill": {
     "duration": 0.080663,
     "end_time": "2022-03-04T10:29:20.376592",
     "exception": false,
     "start_time": "2022-03-04T10:29:20.295929",
     "status": "completed"
    },
    "tags": []
   },
   "source": [
    "# Test data "
   ]
  },
  {
   "cell_type": "code",
   "execution_count": 39,
   "id": "db3da51a",
   "metadata": {
    "execution": {
     "iopub.execute_input": "2022-03-04T10:29:20.546840Z",
     "iopub.status.busy": "2022-03-04T10:29:20.546201Z",
     "iopub.status.idle": "2022-03-04T10:29:20.627293Z",
     "shell.execute_reply": "2022-03-04T10:29:20.626754Z",
     "shell.execute_reply.started": "2022-03-04T07:25:58.266858Z"
    },
    "papermill": {
     "duration": 0.169822,
     "end_time": "2022-03-04T10:29:20.627447",
     "exception": false,
     "start_time": "2022-03-04T10:29:20.457625",
     "status": "completed"
    },
    "tags": []
   },
   "outputs": [
    {
     "data": {
      "text/html": [
       "<div>\n",
       "<style scoped>\n",
       "    .dataframe tbody tr th:only-of-type {\n",
       "        vertical-align: middle;\n",
       "    }\n",
       "\n",
       "    .dataframe tbody tr th {\n",
       "        vertical-align: top;\n",
       "    }\n",
       "\n",
       "    .dataframe thead th {\n",
       "        text-align: right;\n",
       "    }\n",
       "</style>\n",
       "<table border=\"1\" class=\"dataframe\">\n",
       "  <thead>\n",
       "    <tr style=\"text-align: right;\">\n",
       "      <th></th>\n",
       "      <th>Id</th>\n",
       "      <th>Store</th>\n",
       "      <th>DayOfWeek</th>\n",
       "      <th>Date</th>\n",
       "      <th>Open</th>\n",
       "      <th>Promo</th>\n",
       "      <th>StateHoliday</th>\n",
       "      <th>SchoolHoliday</th>\n",
       "    </tr>\n",
       "  </thead>\n",
       "  <tbody>\n",
       "    <tr>\n",
       "      <th>0</th>\n",
       "      <td>1</td>\n",
       "      <td>1</td>\n",
       "      <td>4</td>\n",
       "      <td>2015-09-17</td>\n",
       "      <td>1.0</td>\n",
       "      <td>1</td>\n",
       "      <td>0</td>\n",
       "      <td>0</td>\n",
       "    </tr>\n",
       "    <tr>\n",
       "      <th>1</th>\n",
       "      <td>2</td>\n",
       "      <td>3</td>\n",
       "      <td>4</td>\n",
       "      <td>2015-09-17</td>\n",
       "      <td>1.0</td>\n",
       "      <td>1</td>\n",
       "      <td>0</td>\n",
       "      <td>0</td>\n",
       "    </tr>\n",
       "    <tr>\n",
       "      <th>2</th>\n",
       "      <td>3</td>\n",
       "      <td>7</td>\n",
       "      <td>4</td>\n",
       "      <td>2015-09-17</td>\n",
       "      <td>1.0</td>\n",
       "      <td>1</td>\n",
       "      <td>0</td>\n",
       "      <td>0</td>\n",
       "    </tr>\n",
       "    <tr>\n",
       "      <th>3</th>\n",
       "      <td>4</td>\n",
       "      <td>8</td>\n",
       "      <td>4</td>\n",
       "      <td>2015-09-17</td>\n",
       "      <td>1.0</td>\n",
       "      <td>1</td>\n",
       "      <td>0</td>\n",
       "      <td>0</td>\n",
       "    </tr>\n",
       "    <tr>\n",
       "      <th>4</th>\n",
       "      <td>5</td>\n",
       "      <td>9</td>\n",
       "      <td>4</td>\n",
       "      <td>2015-09-17</td>\n",
       "      <td>1.0</td>\n",
       "      <td>1</td>\n",
       "      <td>0</td>\n",
       "      <td>0</td>\n",
       "    </tr>\n",
       "  </tbody>\n",
       "</table>\n",
       "</div>"
      ],
      "text/plain": [
       "   Id  Store  DayOfWeek       Date  Open  Promo StateHoliday  SchoolHoliday\n",
       "0   1      1          4 2015-09-17   1.0      1            0              0\n",
       "1   2      3          4 2015-09-17   1.0      1            0              0\n",
       "2   3      7          4 2015-09-17   1.0      1            0              0\n",
       "3   4      8          4 2015-09-17   1.0      1            0              0\n",
       "4   5      9          4 2015-09-17   1.0      1            0              0"
      ]
     },
     "execution_count": 39,
     "metadata": {},
     "output_type": "execute_result"
    }
   ],
   "source": [
    "test = pd.read_csv(\"../input/rossmann-store-sales/test.csv\", parse_dates = ['Date'])\n",
    "test.head()"
   ]
  },
  {
   "cell_type": "code",
   "execution_count": 40,
   "id": "b90b4a69",
   "metadata": {
    "execution": {
     "iopub.execute_input": "2022-03-04T10:29:20.797054Z",
     "iopub.status.busy": "2022-03-04T10:29:20.796427Z",
     "iopub.status.idle": "2022-03-04T10:29:20.815594Z",
     "shell.execute_reply": "2022-03-04T10:29:20.816229Z",
     "shell.execute_reply.started": "2022-03-04T07:27:49.954339Z"
    },
    "papermill": {
     "duration": 0.106641,
     "end_time": "2022-03-04T10:29:20.816408",
     "exception": false,
     "start_time": "2022-03-04T10:29:20.709767",
     "status": "completed"
    },
    "tags": []
   },
   "outputs": [],
   "source": [
    "#merging the test dataset with stores\n",
    "test = pd.merge(test, stores, on = 'Store', how = 'left')"
   ]
  },
  {
   "cell_type": "code",
   "execution_count": 41,
   "id": "bb6327f2",
   "metadata": {
    "execution": {
     "iopub.execute_input": "2022-03-04T10:29:20.983570Z",
     "iopub.status.busy": "2022-03-04T10:29:20.982741Z",
     "iopub.status.idle": "2022-03-04T10:29:21.275805Z",
     "shell.execute_reply": "2022-03-04T10:29:21.276331Z",
     "shell.execute_reply.started": "2022-03-04T07:29:22.665243Z"
    },
    "papermill": {
     "duration": 0.379265,
     "end_time": "2022-03-04T10:29:21.276501",
     "exception": false,
     "start_time": "2022-03-04T10:29:20.897236",
     "status": "completed"
    },
    "tags": []
   },
   "outputs": [
    {
     "name": "stderr",
     "output_type": "stream",
     "text": [
      "/opt/conda/lib/python3.7/site-packages/ipykernel_launcher.py:9: FutureWarning:\n",
      "\n",
      "Series.dt.weekofyear and Series.dt.week have been deprecated.  Please use Series.dt.isocalendar().week instead.\n",
      "\n"
     ]
    },
    {
     "data": {
      "text/html": [
       "<div>\n",
       "<style scoped>\n",
       "    .dataframe tbody tr th:only-of-type {\n",
       "        vertical-align: middle;\n",
       "    }\n",
       "\n",
       "    .dataframe tbody tr th {\n",
       "        vertical-align: top;\n",
       "    }\n",
       "\n",
       "    .dataframe thead th {\n",
       "        text-align: right;\n",
       "    }\n",
       "</style>\n",
       "<table border=\"1\" class=\"dataframe\">\n",
       "  <thead>\n",
       "    <tr style=\"text-align: right;\">\n",
       "      <th></th>\n",
       "      <th>Id</th>\n",
       "      <th>Store</th>\n",
       "      <th>DayOfWeek</th>\n",
       "      <th>Date</th>\n",
       "      <th>Open</th>\n",
       "      <th>Promo</th>\n",
       "      <th>StateHoliday</th>\n",
       "      <th>SchoolHoliday</th>\n",
       "      <th>StoreType</th>\n",
       "      <th>Assortment</th>\n",
       "      <th>...</th>\n",
       "      <th>Promo2SinceWeek</th>\n",
       "      <th>Promo2SinceYear</th>\n",
       "      <th>PromoInterval</th>\n",
       "      <th>Year</th>\n",
       "      <th>Month</th>\n",
       "      <th>Day</th>\n",
       "      <th>WeekOfYear</th>\n",
       "      <th>CompetitionOpen</th>\n",
       "      <th>PromoOpen</th>\n",
       "      <th>IsPromoMonth</th>\n",
       "    </tr>\n",
       "  </thead>\n",
       "  <tbody>\n",
       "    <tr>\n",
       "      <th>0</th>\n",
       "      <td>1</td>\n",
       "      <td>1</td>\n",
       "      <td>3</td>\n",
       "      <td>2015-09-17</td>\n",
       "      <td>1.0</td>\n",
       "      <td>1</td>\n",
       "      <td>0</td>\n",
       "      <td>0</td>\n",
       "      <td>c</td>\n",
       "      <td>a</td>\n",
       "      <td>...</td>\n",
       "      <td>NaN</td>\n",
       "      <td>NaN</td>\n",
       "      <td>nan</td>\n",
       "      <td>2015</td>\n",
       "      <td>Sept</td>\n",
       "      <td>17</td>\n",
       "      <td>38</td>\n",
       "      <td>84.0</td>\n",
       "      <td>NaN</td>\n",
       "      <td>0</td>\n",
       "    </tr>\n",
       "    <tr>\n",
       "      <th>1</th>\n",
       "      <td>2</td>\n",
       "      <td>3</td>\n",
       "      <td>3</td>\n",
       "      <td>2015-09-17</td>\n",
       "      <td>1.0</td>\n",
       "      <td>1</td>\n",
       "      <td>0</td>\n",
       "      <td>0</td>\n",
       "      <td>a</td>\n",
       "      <td>a</td>\n",
       "      <td>...</td>\n",
       "      <td>14.0</td>\n",
       "      <td>2011.0</td>\n",
       "      <td>Jan,Apr,Jul,Oct</td>\n",
       "      <td>2015</td>\n",
       "      <td>Sept</td>\n",
       "      <td>17</td>\n",
       "      <td>38</td>\n",
       "      <td>105.0</td>\n",
       "      <td>54.0</td>\n",
       "      <td>0</td>\n",
       "    </tr>\n",
       "    <tr>\n",
       "      <th>2</th>\n",
       "      <td>3</td>\n",
       "      <td>7</td>\n",
       "      <td>3</td>\n",
       "      <td>2015-09-17</td>\n",
       "      <td>1.0</td>\n",
       "      <td>1</td>\n",
       "      <td>0</td>\n",
       "      <td>0</td>\n",
       "      <td>a</td>\n",
       "      <td>c</td>\n",
       "      <td>...</td>\n",
       "      <td>NaN</td>\n",
       "      <td>NaN</td>\n",
       "      <td>nan</td>\n",
       "      <td>2015</td>\n",
       "      <td>Sept</td>\n",
       "      <td>17</td>\n",
       "      <td>38</td>\n",
       "      <td>29.0</td>\n",
       "      <td>NaN</td>\n",
       "      <td>0</td>\n",
       "    </tr>\n",
       "    <tr>\n",
       "      <th>3</th>\n",
       "      <td>4</td>\n",
       "      <td>8</td>\n",
       "      <td>3</td>\n",
       "      <td>2015-09-17</td>\n",
       "      <td>1.0</td>\n",
       "      <td>1</td>\n",
       "      <td>0</td>\n",
       "      <td>0</td>\n",
       "      <td>a</td>\n",
       "      <td>a</td>\n",
       "      <td>...</td>\n",
       "      <td>NaN</td>\n",
       "      <td>NaN</td>\n",
       "      <td>nan</td>\n",
       "      <td>2015</td>\n",
       "      <td>Sept</td>\n",
       "      <td>17</td>\n",
       "      <td>38</td>\n",
       "      <td>11.0</td>\n",
       "      <td>NaN</td>\n",
       "      <td>0</td>\n",
       "    </tr>\n",
       "    <tr>\n",
       "      <th>4</th>\n",
       "      <td>5</td>\n",
       "      <td>9</td>\n",
       "      <td>3</td>\n",
       "      <td>2015-09-17</td>\n",
       "      <td>1.0</td>\n",
       "      <td>1</td>\n",
       "      <td>0</td>\n",
       "      <td>0</td>\n",
       "      <td>a</td>\n",
       "      <td>c</td>\n",
       "      <td>...</td>\n",
       "      <td>NaN</td>\n",
       "      <td>NaN</td>\n",
       "      <td>nan</td>\n",
       "      <td>2015</td>\n",
       "      <td>Sept</td>\n",
       "      <td>17</td>\n",
       "      <td>38</td>\n",
       "      <td>181.0</td>\n",
       "      <td>NaN</td>\n",
       "      <td>0</td>\n",
       "    </tr>\n",
       "  </tbody>\n",
       "</table>\n",
       "<p>5 rows × 24 columns</p>\n",
       "</div>"
      ],
      "text/plain": [
       "   Id  Store  DayOfWeek       Date  Open  Promo StateHoliday  SchoolHoliday  \\\n",
       "0   1      1          3 2015-09-17   1.0      1            0              0   \n",
       "1   2      3          3 2015-09-17   1.0      1            0              0   \n",
       "2   3      7          3 2015-09-17   1.0      1            0              0   \n",
       "3   4      8          3 2015-09-17   1.0      1            0              0   \n",
       "4   5      9          3 2015-09-17   1.0      1            0              0   \n",
       "\n",
       "  StoreType Assortment  ...  Promo2SinceWeek  Promo2SinceYear  \\\n",
       "0         c          a  ...              NaN              NaN   \n",
       "1         a          a  ...             14.0           2011.0   \n",
       "2         a          c  ...              NaN              NaN   \n",
       "3         a          a  ...              NaN              NaN   \n",
       "4         a          c  ...              NaN              NaN   \n",
       "\n",
       "     PromoInterval  Year  Month  Day WeekOfYear  CompetitionOpen PromoOpen  \\\n",
       "0              nan  2015   Sept   17         38             84.0       NaN   \n",
       "1  Jan,Apr,Jul,Oct  2015   Sept   17         38            105.0      54.0   \n",
       "2              nan  2015   Sept   17         38             29.0       NaN   \n",
       "3              nan  2015   Sept   17         38             11.0       NaN   \n",
       "4              nan  2015   Sept   17         38            181.0       NaN   \n",
       "\n",
       "   IsPromoMonth  \n",
       "0             0  \n",
       "1             0  \n",
       "2             0  \n",
       "3             0  \n",
       "4             0  \n",
       "\n",
       "[5 rows x 24 columns]"
      ]
     },
     "execution_count": 41,
     "metadata": {},
     "output_type": "execute_result"
    }
   ],
   "source": [
    "#Feature engineering\n",
    "test = feature_ext(test)\n",
    "test.head()"
   ]
  },
  {
   "cell_type": "code",
   "execution_count": 42,
   "id": "2ca43470",
   "metadata": {
    "execution": {
     "iopub.execute_input": "2022-03-04T10:29:21.443802Z",
     "iopub.status.busy": "2022-03-04T10:29:21.443210Z",
     "iopub.status.idle": "2022-03-04T10:29:21.459049Z",
     "shell.execute_reply": "2022-03-04T10:29:21.459599Z",
     "shell.execute_reply.started": "2022-03-04T07:30:20.529396Z"
    },
    "papermill": {
     "duration": 0.100974,
     "end_time": "2022-03-04T10:29:21.459773",
     "exception": false,
     "start_time": "2022-03-04T10:29:21.358799",
     "status": "completed"
    },
    "tags": []
   },
   "outputs": [],
   "source": [
    "#splitting test data\n",
    "num_test_df, cat_test_df = split_data(test)"
   ]
  },
  {
   "cell_type": "code",
   "execution_count": 43,
   "id": "7b913468",
   "metadata": {
    "execution": {
     "iopub.execute_input": "2022-03-04T10:29:21.628192Z",
     "iopub.status.busy": "2022-03-04T10:29:21.627506Z",
     "iopub.status.idle": "2022-03-04T10:29:21.656379Z",
     "shell.execute_reply": "2022-03-04T10:29:21.657035Z",
     "shell.execute_reply.started": "2022-03-04T07:31:22.254730Z"
    },
    "papermill": {
     "duration": 0.114632,
     "end_time": "2022-03-04T10:29:21.657221",
     "exception": false,
     "start_time": "2022-03-04T10:29:21.542589",
     "status": "completed"
    },
    "tags": []
   },
   "outputs": [
    {
     "name": "stderr",
     "output_type": "stream",
     "text": [
      "/opt/conda/lib/python3.7/site-packages/ipykernel_launcher.py:9: SettingWithCopyWarning:\n",
      "\n",
      "\n",
      "A value is trying to be set on a copy of a slice from a DataFrame.\n",
      "Try using .loc[row_indexer,col_indexer] = value instead\n",
      "\n",
      "See the caveats in the documentation: https://pandas.pydata.org/pandas-docs/stable/user_guide/indexing.html#returning-a-view-versus-a-copy\n",
      "\n"
     ]
    }
   ],
   "source": [
    "#fixing null values in numerical test\n",
    "num_test_df = fix_num(num_test_df)"
   ]
  },
  {
   "cell_type": "code",
   "execution_count": 44,
   "id": "33679ba6",
   "metadata": {
    "execution": {
     "iopub.execute_input": "2022-03-04T10:29:21.829591Z",
     "iopub.status.busy": "2022-03-04T10:29:21.826159Z",
     "iopub.status.idle": "2022-03-04T10:29:21.927957Z",
     "shell.execute_reply": "2022-03-04T10:29:21.927320Z",
     "shell.execute_reply.started": "2022-03-04T07:32:09.654550Z"
    },
    "papermill": {
     "duration": 0.188733,
     "end_time": "2022-03-04T10:29:21.928098",
     "exception": false,
     "start_time": "2022-03-04T10:29:21.739365",
     "status": "completed"
    },
    "tags": []
   },
   "outputs": [],
   "source": [
    "#fixing categorical dataset\n",
    "cat_test_df = fix_cat(cat_test_df)"
   ]
  },
  {
   "cell_type": "code",
   "execution_count": 45,
   "id": "a2820205",
   "metadata": {
    "execution": {
     "iopub.execute_input": "2022-03-04T10:29:22.100137Z",
     "iopub.status.busy": "2022-03-04T10:29:22.099425Z",
     "iopub.status.idle": "2022-03-04T10:29:22.131340Z",
     "shell.execute_reply": "2022-03-04T10:29:22.131843Z",
     "shell.execute_reply.started": "2022-03-04T08:08:41.153336Z"
    },
    "papermill": {
     "duration": 0.120429,
     "end_time": "2022-03-04T10:29:22.132043",
     "exception": false,
     "start_time": "2022-03-04T10:29:22.011614",
     "status": "completed"
    },
    "tags": []
   },
   "outputs": [
    {
     "data": {
      "text/html": [
       "<div>\n",
       "<style scoped>\n",
       "    .dataframe tbody tr th:only-of-type {\n",
       "        vertical-align: middle;\n",
       "    }\n",
       "\n",
       "    .dataframe tbody tr th {\n",
       "        vertical-align: top;\n",
       "    }\n",
       "\n",
       "    .dataframe thead th {\n",
       "        text-align: right;\n",
       "    }\n",
       "</style>\n",
       "<table border=\"1\" class=\"dataframe\">\n",
       "  <thead>\n",
       "    <tr style=\"text-align: right;\">\n",
       "      <th></th>\n",
       "      <th>Id</th>\n",
       "      <th>Store</th>\n",
       "      <th>DayOfWeek</th>\n",
       "      <th>Open</th>\n",
       "      <th>Promo</th>\n",
       "      <th>SchoolHoliday</th>\n",
       "      <th>CompetitionDistance</th>\n",
       "      <th>CompetitionOpenSinceMonth</th>\n",
       "      <th>CompetitionOpenSinceYear</th>\n",
       "      <th>Promo2</th>\n",
       "      <th>...</th>\n",
       "      <th>StoreType_b</th>\n",
       "      <th>StoreType_c</th>\n",
       "      <th>StoreType_d</th>\n",
       "      <th>Month_Aug</th>\n",
       "      <th>Month_Sept</th>\n",
       "      <th>Assortment_a</th>\n",
       "      <th>Assortment_b</th>\n",
       "      <th>Assortment_c</th>\n",
       "      <th>StateHoliday_0</th>\n",
       "      <th>StateHoliday_a</th>\n",
       "    </tr>\n",
       "  </thead>\n",
       "  <tbody>\n",
       "    <tr>\n",
       "      <th>0</th>\n",
       "      <td>0.000000</td>\n",
       "      <td>0.000000</td>\n",
       "      <td>0.5</td>\n",
       "      <td>1.0</td>\n",
       "      <td>1.0</td>\n",
       "      <td>0.0</td>\n",
       "      <td>0.016482</td>\n",
       "      <td>0.750000</td>\n",
       "      <td>0.996526</td>\n",
       "      <td>0.0</td>\n",
       "      <td>...</td>\n",
       "      <td>0.0</td>\n",
       "      <td>1.0</td>\n",
       "      <td>0.0</td>\n",
       "      <td>0.0</td>\n",
       "      <td>1.0</td>\n",
       "      <td>1.0</td>\n",
       "      <td>0.0</td>\n",
       "      <td>0.0</td>\n",
       "      <td>1.0</td>\n",
       "      <td>0.0</td>\n",
       "    </tr>\n",
       "    <tr>\n",
       "      <th>1</th>\n",
       "      <td>0.000024</td>\n",
       "      <td>0.001795</td>\n",
       "      <td>0.5</td>\n",
       "      <td>1.0</td>\n",
       "      <td>1.0</td>\n",
       "      <td>0.0</td>\n",
       "      <td>0.186050</td>\n",
       "      <td>1.000000</td>\n",
       "      <td>0.995533</td>\n",
       "      <td>1.0</td>\n",
       "      <td>...</td>\n",
       "      <td>0.0</td>\n",
       "      <td>0.0</td>\n",
       "      <td>0.0</td>\n",
       "      <td>0.0</td>\n",
       "      <td>1.0</td>\n",
       "      <td>1.0</td>\n",
       "      <td>0.0</td>\n",
       "      <td>0.0</td>\n",
       "      <td>1.0</td>\n",
       "      <td>0.0</td>\n",
       "    </tr>\n",
       "    <tr>\n",
       "      <th>2</th>\n",
       "      <td>0.000049</td>\n",
       "      <td>0.005386</td>\n",
       "      <td>0.5</td>\n",
       "      <td>1.0</td>\n",
       "      <td>1.0</td>\n",
       "      <td>0.0</td>\n",
       "      <td>0.316192</td>\n",
       "      <td>0.333333</td>\n",
       "      <td>0.999007</td>\n",
       "      <td>0.0</td>\n",
       "      <td>...</td>\n",
       "      <td>0.0</td>\n",
       "      <td>0.0</td>\n",
       "      <td>0.0</td>\n",
       "      <td>0.0</td>\n",
       "      <td>1.0</td>\n",
       "      <td>0.0</td>\n",
       "      <td>0.0</td>\n",
       "      <td>1.0</td>\n",
       "      <td>1.0</td>\n",
       "      <td>0.0</td>\n",
       "    </tr>\n",
       "    <tr>\n",
       "      <th>3</th>\n",
       "      <td>0.000073</td>\n",
       "      <td>0.006284</td>\n",
       "      <td>0.5</td>\n",
       "      <td>1.0</td>\n",
       "      <td>1.0</td>\n",
       "      <td>0.0</td>\n",
       "      <td>0.098892</td>\n",
       "      <td>0.833333</td>\n",
       "      <td>0.999504</td>\n",
       "      <td>0.0</td>\n",
       "      <td>...</td>\n",
       "      <td>0.0</td>\n",
       "      <td>0.0</td>\n",
       "      <td>0.0</td>\n",
       "      <td>0.0</td>\n",
       "      <td>1.0</td>\n",
       "      <td>1.0</td>\n",
       "      <td>0.0</td>\n",
       "      <td>0.0</td>\n",
       "      <td>1.0</td>\n",
       "      <td>0.0</td>\n",
       "    </tr>\n",
       "    <tr>\n",
       "      <th>4</th>\n",
       "      <td>0.000097</td>\n",
       "      <td>0.007181</td>\n",
       "      <td>0.5</td>\n",
       "      <td>1.0</td>\n",
       "      <td>1.0</td>\n",
       "      <td>0.0</td>\n",
       "      <td>0.026503</td>\n",
       "      <td>0.666667</td>\n",
       "      <td>0.992556</td>\n",
       "      <td>0.0</td>\n",
       "      <td>...</td>\n",
       "      <td>0.0</td>\n",
       "      <td>0.0</td>\n",
       "      <td>0.0</td>\n",
       "      <td>0.0</td>\n",
       "      <td>1.0</td>\n",
       "      <td>0.0</td>\n",
       "      <td>0.0</td>\n",
       "      <td>1.0</td>\n",
       "      <td>1.0</td>\n",
       "      <td>0.0</td>\n",
       "    </tr>\n",
       "  </tbody>\n",
       "</table>\n",
       "<p>5 rows × 29 columns</p>\n",
       "</div>"
      ],
      "text/plain": [
       "         Id     Store  DayOfWeek  Open  Promo  SchoolHoliday  \\\n",
       "0  0.000000  0.000000        0.5   1.0    1.0            0.0   \n",
       "1  0.000024  0.001795        0.5   1.0    1.0            0.0   \n",
       "2  0.000049  0.005386        0.5   1.0    1.0            0.0   \n",
       "3  0.000073  0.006284        0.5   1.0    1.0            0.0   \n",
       "4  0.000097  0.007181        0.5   1.0    1.0            0.0   \n",
       "\n",
       "   CompetitionDistance  CompetitionOpenSinceMonth  CompetitionOpenSinceYear  \\\n",
       "0             0.016482                   0.750000                  0.996526   \n",
       "1             0.186050                   1.000000                  0.995533   \n",
       "2             0.316192                   0.333333                  0.999007   \n",
       "3             0.098892                   0.833333                  0.999504   \n",
       "4             0.026503                   0.666667                  0.992556   \n",
       "\n",
       "   Promo2  ...  StoreType_b  StoreType_c  StoreType_d  Month_Aug  Month_Sept  \\\n",
       "0     0.0  ...          0.0          1.0          0.0        0.0         1.0   \n",
       "1     1.0  ...          0.0          0.0          0.0        0.0         1.0   \n",
       "2     0.0  ...          0.0          0.0          0.0        0.0         1.0   \n",
       "3     0.0  ...          0.0          0.0          0.0        0.0         1.0   \n",
       "4     0.0  ...          0.0          0.0          0.0        0.0         1.0   \n",
       "\n",
       "   Assortment_a  Assortment_b  Assortment_c  StateHoliday_0  StateHoliday_a  \n",
       "0           1.0           0.0           0.0             1.0             0.0  \n",
       "1           1.0           0.0           0.0             1.0             0.0  \n",
       "2           0.0           0.0           1.0             1.0             0.0  \n",
       "3           1.0           0.0           0.0             1.0             0.0  \n",
       "4           0.0           0.0           1.0             1.0             0.0  \n",
       "\n",
       "[5 rows x 29 columns]"
      ]
     },
     "execution_count": 45,
     "metadata": {},
     "output_type": "execute_result"
    }
   ],
   "source": [
    "test_df = join_all(num_test_df, cat_test_df)\n",
    "test_df.head()"
   ]
  },
  {
   "cell_type": "markdown",
   "id": "9dda9797",
   "metadata": {
    "papermill": {
     "duration": 0.083732,
     "end_time": "2022-03-04T10:29:22.299998",
     "exception": false,
     "start_time": "2022-03-04T10:29:22.216266",
     "status": "completed"
    },
    "tags": []
   },
   "source": [
    "We can see we are missing some columns in Test data as there were some values in month and holiday type which were available in train data set but not in test dataset. We will create those columns in test dataset and fill them with zero, which will help us in running our XGBoost model"
   ]
  },
  {
   "cell_type": "code",
   "execution_count": 46,
   "id": "692c616b",
   "metadata": {
    "execution": {
     "iopub.execute_input": "2022-03-04T10:29:22.473134Z",
     "iopub.status.busy": "2022-03-04T10:29:22.472176Z",
     "iopub.status.idle": "2022-03-04T10:29:22.478636Z",
     "shell.execute_reply": "2022-03-04T10:29:22.479212Z",
     "shell.execute_reply.started": "2022-03-04T08:08:46.699827Z"
    },
    "papermill": {
     "duration": 0.093856,
     "end_time": "2022-03-04T10:29:22.479386",
     "exception": false,
     "start_time": "2022-03-04T10:29:22.385530",
     "status": "completed"
    },
    "tags": []
   },
   "outputs": [
    {
     "name": "stdout",
     "output_type": "stream",
     "text": [
      "['Month_Jan', 'Month_Apr', 'Month_Jul', 'Month_Oct', 'Month_Jun', 'Month_Nov', 'Month_May', 'Month_Mar', 'Customers', 'StateHoliday_c', 'StateHoliday_b', 'Sales', 'Month_Dec', 'Month_Feb']\n"
     ]
    }
   ],
   "source": [
    "#getting the missing columns\n",
    "common_cols = np.intersect1d(train_df.columns, test_df.columns)\n",
    "\n",
    "missing_cols = list(set(train_df.columns) - set(common_cols))\n",
    "\n",
    "print (missing_cols)"
   ]
  },
  {
   "cell_type": "code",
   "execution_count": 47,
   "id": "42e7488d",
   "metadata": {
    "execution": {
     "iopub.execute_input": "2022-03-04T10:29:22.653853Z",
     "iopub.status.busy": "2022-03-04T10:29:22.653180Z",
     "iopub.status.idle": "2022-03-04T10:29:22.671579Z",
     "shell.execute_reply": "2022-03-04T10:29:22.672133Z",
     "shell.execute_reply.started": "2022-03-04T08:09:25.641314Z"
    },
    "papermill": {
     "duration": 0.107954,
     "end_time": "2022-03-04T10:29:22.672308",
     "exception": false,
     "start_time": "2022-03-04T10:29:22.564354",
     "status": "completed"
    },
    "tags": []
   },
   "outputs": [],
   "source": [
    "test_df[missing_cols] = 0.0 #adding missing columns in the test_df and fill with 0.0\n",
    "test = test_df.drop(['Sales', 'Id'], axis = 1) #dropping Sales and Id columns as we need to predict sales"
   ]
  },
  {
   "cell_type": "code",
   "execution_count": 48,
   "id": "2825ce81",
   "metadata": {
    "execution": {
     "iopub.execute_input": "2022-03-04T10:29:22.844150Z",
     "iopub.status.busy": "2022-03-04T10:29:22.843170Z",
     "iopub.status.idle": "2022-03-04T10:29:22.872040Z",
     "shell.execute_reply": "2022-03-04T10:29:22.872547Z",
     "shell.execute_reply.started": "2022-03-04T08:09:30.077433Z"
    },
    "papermill": {
     "duration": 0.115991,
     "end_time": "2022-03-04T10:29:22.872715",
     "exception": false,
     "start_time": "2022-03-04T10:29:22.756724",
     "status": "completed"
    },
    "tags": []
   },
   "outputs": [
    {
     "data": {
      "text/html": [
       "<div>\n",
       "<style scoped>\n",
       "    .dataframe tbody tr th:only-of-type {\n",
       "        vertical-align: middle;\n",
       "    }\n",
       "\n",
       "    .dataframe tbody tr th {\n",
       "        vertical-align: top;\n",
       "    }\n",
       "\n",
       "    .dataframe thead th {\n",
       "        text-align: right;\n",
       "    }\n",
       "</style>\n",
       "<table border=\"1\" class=\"dataframe\">\n",
       "  <thead>\n",
       "    <tr style=\"text-align: right;\">\n",
       "      <th></th>\n",
       "      <th>Store</th>\n",
       "      <th>DayOfWeek</th>\n",
       "      <th>Open</th>\n",
       "      <th>Promo</th>\n",
       "      <th>SchoolHoliday</th>\n",
       "      <th>CompetitionDistance</th>\n",
       "      <th>CompetitionOpenSinceMonth</th>\n",
       "      <th>CompetitionOpenSinceYear</th>\n",
       "      <th>Promo2</th>\n",
       "      <th>Promo2SinceWeek</th>\n",
       "      <th>...</th>\n",
       "      <th>Month_Oct</th>\n",
       "      <th>Month_Jun</th>\n",
       "      <th>Month_Nov</th>\n",
       "      <th>Month_May</th>\n",
       "      <th>Month_Mar</th>\n",
       "      <th>Customers</th>\n",
       "      <th>StateHoliday_c</th>\n",
       "      <th>StateHoliday_b</th>\n",
       "      <th>Month_Dec</th>\n",
       "      <th>Month_Feb</th>\n",
       "    </tr>\n",
       "  </thead>\n",
       "  <tbody>\n",
       "    <tr>\n",
       "      <th>0</th>\n",
       "      <td>0.000000</td>\n",
       "      <td>0.5</td>\n",
       "      <td>1.0</td>\n",
       "      <td>1.0</td>\n",
       "      <td>0.0</td>\n",
       "      <td>0.016482</td>\n",
       "      <td>0.750000</td>\n",
       "      <td>0.996526</td>\n",
       "      <td>0.0</td>\n",
       "      <td>0.000000</td>\n",
       "      <td>...</td>\n",
       "      <td>0.0</td>\n",
       "      <td>0.0</td>\n",
       "      <td>0.0</td>\n",
       "      <td>0.0</td>\n",
       "      <td>0.0</td>\n",
       "      <td>0.0</td>\n",
       "      <td>0.0</td>\n",
       "      <td>0.0</td>\n",
       "      <td>0.0</td>\n",
       "      <td>0.0</td>\n",
       "    </tr>\n",
       "    <tr>\n",
       "      <th>1</th>\n",
       "      <td>0.001795</td>\n",
       "      <td>0.5</td>\n",
       "      <td>1.0</td>\n",
       "      <td>1.0</td>\n",
       "      <td>0.0</td>\n",
       "      <td>0.186050</td>\n",
       "      <td>1.000000</td>\n",
       "      <td>0.995533</td>\n",
       "      <td>1.0</td>\n",
       "      <td>0.285714</td>\n",
       "      <td>...</td>\n",
       "      <td>0.0</td>\n",
       "      <td>0.0</td>\n",
       "      <td>0.0</td>\n",
       "      <td>0.0</td>\n",
       "      <td>0.0</td>\n",
       "      <td>0.0</td>\n",
       "      <td>0.0</td>\n",
       "      <td>0.0</td>\n",
       "      <td>0.0</td>\n",
       "      <td>0.0</td>\n",
       "    </tr>\n",
       "    <tr>\n",
       "      <th>2</th>\n",
       "      <td>0.005386</td>\n",
       "      <td>0.5</td>\n",
       "      <td>1.0</td>\n",
       "      <td>1.0</td>\n",
       "      <td>0.0</td>\n",
       "      <td>0.316192</td>\n",
       "      <td>0.333333</td>\n",
       "      <td>0.999007</td>\n",
       "      <td>0.0</td>\n",
       "      <td>0.000000</td>\n",
       "      <td>...</td>\n",
       "      <td>0.0</td>\n",
       "      <td>0.0</td>\n",
       "      <td>0.0</td>\n",
       "      <td>0.0</td>\n",
       "      <td>0.0</td>\n",
       "      <td>0.0</td>\n",
       "      <td>0.0</td>\n",
       "      <td>0.0</td>\n",
       "      <td>0.0</td>\n",
       "      <td>0.0</td>\n",
       "    </tr>\n",
       "    <tr>\n",
       "      <th>3</th>\n",
       "      <td>0.006284</td>\n",
       "      <td>0.5</td>\n",
       "      <td>1.0</td>\n",
       "      <td>1.0</td>\n",
       "      <td>0.0</td>\n",
       "      <td>0.098892</td>\n",
       "      <td>0.833333</td>\n",
       "      <td>0.999504</td>\n",
       "      <td>0.0</td>\n",
       "      <td>0.000000</td>\n",
       "      <td>...</td>\n",
       "      <td>0.0</td>\n",
       "      <td>0.0</td>\n",
       "      <td>0.0</td>\n",
       "      <td>0.0</td>\n",
       "      <td>0.0</td>\n",
       "      <td>0.0</td>\n",
       "      <td>0.0</td>\n",
       "      <td>0.0</td>\n",
       "      <td>0.0</td>\n",
       "      <td>0.0</td>\n",
       "    </tr>\n",
       "    <tr>\n",
       "      <th>4</th>\n",
       "      <td>0.007181</td>\n",
       "      <td>0.5</td>\n",
       "      <td>1.0</td>\n",
       "      <td>1.0</td>\n",
       "      <td>0.0</td>\n",
       "      <td>0.026503</td>\n",
       "      <td>0.666667</td>\n",
       "      <td>0.992556</td>\n",
       "      <td>0.0</td>\n",
       "      <td>0.000000</td>\n",
       "      <td>...</td>\n",
       "      <td>0.0</td>\n",
       "      <td>0.0</td>\n",
       "      <td>0.0</td>\n",
       "      <td>0.0</td>\n",
       "      <td>0.0</td>\n",
       "      <td>0.0</td>\n",
       "      <td>0.0</td>\n",
       "      <td>0.0</td>\n",
       "      <td>0.0</td>\n",
       "      <td>0.0</td>\n",
       "    </tr>\n",
       "  </tbody>\n",
       "</table>\n",
       "<p>5 rows × 41 columns</p>\n",
       "</div>"
      ],
      "text/plain": [
       "      Store  DayOfWeek  Open  Promo  SchoolHoliday  CompetitionDistance  \\\n",
       "0  0.000000        0.5   1.0    1.0            0.0             0.016482   \n",
       "1  0.001795        0.5   1.0    1.0            0.0             0.186050   \n",
       "2  0.005386        0.5   1.0    1.0            0.0             0.316192   \n",
       "3  0.006284        0.5   1.0    1.0            0.0             0.098892   \n",
       "4  0.007181        0.5   1.0    1.0            0.0             0.026503   \n",
       "\n",
       "   CompetitionOpenSinceMonth  CompetitionOpenSinceYear  Promo2  \\\n",
       "0                   0.750000                  0.996526     0.0   \n",
       "1                   1.000000                  0.995533     1.0   \n",
       "2                   0.333333                  0.999007     0.0   \n",
       "3                   0.833333                  0.999504     0.0   \n",
       "4                   0.666667                  0.992556     0.0   \n",
       "\n",
       "   Promo2SinceWeek  ...  Month_Oct  Month_Jun  Month_Nov  Month_May  \\\n",
       "0         0.000000  ...        0.0        0.0        0.0        0.0   \n",
       "1         0.285714  ...        0.0        0.0        0.0        0.0   \n",
       "2         0.000000  ...        0.0        0.0        0.0        0.0   \n",
       "3         0.000000  ...        0.0        0.0        0.0        0.0   \n",
       "4         0.000000  ...        0.0        0.0        0.0        0.0   \n",
       "\n",
       "   Month_Mar  Customers  StateHoliday_c  StateHoliday_b  Month_Dec  Month_Feb  \n",
       "0        0.0        0.0             0.0             0.0        0.0        0.0  \n",
       "1        0.0        0.0             0.0             0.0        0.0        0.0  \n",
       "2        0.0        0.0             0.0             0.0        0.0        0.0  \n",
       "3        0.0        0.0             0.0             0.0        0.0        0.0  \n",
       "4        0.0        0.0             0.0             0.0        0.0        0.0  \n",
       "\n",
       "[5 rows x 41 columns]"
      ]
     },
     "execution_count": 48,
     "metadata": {},
     "output_type": "execute_result"
    }
   ],
   "source": [
    "test.head()"
   ]
  },
  {
   "cell_type": "code",
   "execution_count": 49,
   "id": "5a909a33",
   "metadata": {
    "execution": {
     "iopub.execute_input": "2022-03-04T10:29:23.047764Z",
     "iopub.status.busy": "2022-03-04T10:29:23.046784Z",
     "iopub.status.idle": "2022-03-04T10:29:23.081782Z",
     "shell.execute_reply": "2022-03-04T10:29:23.082292Z",
     "shell.execute_reply.started": "2022-03-04T08:11:04.828297Z"
    },
    "papermill": {
     "duration": 0.125611,
     "end_time": "2022-03-04T10:29:23.082472",
     "exception": false,
     "start_time": "2022-03-04T10:29:22.956861",
     "status": "completed"
    },
    "tags": []
   },
   "outputs": [
    {
     "data": {
      "text/html": [
       "<div>\n",
       "<style scoped>\n",
       "    .dataframe tbody tr th:only-of-type {\n",
       "        vertical-align: middle;\n",
       "    }\n",
       "\n",
       "    .dataframe tbody tr th {\n",
       "        vertical-align: top;\n",
       "    }\n",
       "\n",
       "    .dataframe thead th {\n",
       "        text-align: right;\n",
       "    }\n",
       "</style>\n",
       "<table border=\"1\" class=\"dataframe\">\n",
       "  <thead>\n",
       "    <tr style=\"text-align: right;\">\n",
       "      <th></th>\n",
       "      <th>Id</th>\n",
       "      <th>Sales</th>\n",
       "    </tr>\n",
       "  </thead>\n",
       "  <tbody>\n",
       "    <tr>\n",
       "      <th>0</th>\n",
       "      <td>1</td>\n",
       "      <td>0</td>\n",
       "    </tr>\n",
       "    <tr>\n",
       "      <th>1</th>\n",
       "      <td>2</td>\n",
       "      <td>0</td>\n",
       "    </tr>\n",
       "    <tr>\n",
       "      <th>2</th>\n",
       "      <td>3</td>\n",
       "      <td>0</td>\n",
       "    </tr>\n",
       "    <tr>\n",
       "      <th>3</th>\n",
       "      <td>4</td>\n",
       "      <td>0</td>\n",
       "    </tr>\n",
       "    <tr>\n",
       "      <th>4</th>\n",
       "      <td>5</td>\n",
       "      <td>0</td>\n",
       "    </tr>\n",
       "  </tbody>\n",
       "</table>\n",
       "</div>"
      ],
      "text/plain": [
       "   Id  Sales\n",
       "0   1      0\n",
       "1   2      0\n",
       "2   3      0\n",
       "3   4      0\n",
       "4   5      0"
      ]
     },
     "execution_count": 49,
     "metadata": {},
     "output_type": "execute_result"
    }
   ],
   "source": [
    "#Loading Submission dataset for making the submission to Kaggle\n",
    "submission = pd.read_csv('../input/rossmann-store-sales/sample_submission.csv')\n",
    "submission.head()"
   ]
  },
  {
   "cell_type": "code",
   "execution_count": 50,
   "id": "da0f1019",
   "metadata": {
    "execution": {
     "iopub.execute_input": "2022-03-04T10:29:23.256496Z",
     "iopub.status.busy": "2022-03-04T10:29:23.255776Z",
     "iopub.status.idle": "2022-03-04T10:29:23.460527Z",
     "shell.execute_reply": "2022-03-04T10:29:23.461158Z",
     "shell.execute_reply.started": "2022-03-04T08:11:35.308106Z"
    },
    "papermill": {
     "duration": 0.293139,
     "end_time": "2022-03-04T10:29:23.461361",
     "exception": false,
     "start_time": "2022-03-04T10:29:23.168222",
     "status": "completed"
    },
    "tags": []
   },
   "outputs": [],
   "source": [
    "#Now making predictions for test data set\n",
    "\n",
    "test_pred = xgb_best.predict(test)\n",
    "\n",
    "#submission data\n",
    "\n",
    "submission['Sales'] = test_pred\n",
    "\n",
    "#Making sales figure as zero for the time when stores were closed\n",
    "\n",
    "submission['Sales'] = submission['Sales'] * test_df.Open\n"
   ]
  },
  {
   "cell_type": "code",
   "execution_count": 51,
   "id": "5c07b513",
   "metadata": {
    "execution": {
     "iopub.execute_input": "2022-03-04T10:29:23.644851Z",
     "iopub.status.busy": "2022-03-04T10:29:23.643840Z",
     "iopub.status.idle": "2022-03-04T10:29:23.647787Z",
     "shell.execute_reply": "2022-03-04T10:29:23.647272Z",
     "shell.execute_reply.started": "2022-03-04T08:12:02.368468Z"
    },
    "papermill": {
     "duration": 0.099261,
     "end_time": "2022-03-04T10:29:23.647934",
     "exception": false,
     "start_time": "2022-03-04T10:29:23.548673",
     "status": "completed"
    },
    "tags": []
   },
   "outputs": [
    {
     "data": {
      "text/html": [
       "<div>\n",
       "<style scoped>\n",
       "    .dataframe tbody tr th:only-of-type {\n",
       "        vertical-align: middle;\n",
       "    }\n",
       "\n",
       "    .dataframe tbody tr th {\n",
       "        vertical-align: top;\n",
       "    }\n",
       "\n",
       "    .dataframe thead th {\n",
       "        text-align: right;\n",
       "    }\n",
       "</style>\n",
       "<table border=\"1\" class=\"dataframe\">\n",
       "  <thead>\n",
       "    <tr style=\"text-align: right;\">\n",
       "      <th></th>\n",
       "      <th>Id</th>\n",
       "      <th>Sales</th>\n",
       "    </tr>\n",
       "  </thead>\n",
       "  <tbody>\n",
       "    <tr>\n",
       "      <th>0</th>\n",
       "      <td>1</td>\n",
       "      <td>0.592276</td>\n",
       "    </tr>\n",
       "    <tr>\n",
       "      <th>1</th>\n",
       "      <td>2</td>\n",
       "      <td>0.621466</td>\n",
       "    </tr>\n",
       "    <tr>\n",
       "      <th>2</th>\n",
       "      <td>3</td>\n",
       "      <td>0.635014</td>\n",
       "    </tr>\n",
       "    <tr>\n",
       "      <th>3</th>\n",
       "      <td>4</td>\n",
       "      <td>0.596765</td>\n",
       "    </tr>\n",
       "    <tr>\n",
       "      <th>4</th>\n",
       "      <td>5</td>\n",
       "      <td>0.639323</td>\n",
       "    </tr>\n",
       "  </tbody>\n",
       "</table>\n",
       "</div>"
      ],
      "text/plain": [
       "   Id     Sales\n",
       "0   1  0.592276\n",
       "1   2  0.621466\n",
       "2   3  0.635014\n",
       "3   4  0.596765\n",
       "4   5  0.639323"
      ]
     },
     "execution_count": 51,
     "metadata": {},
     "output_type": "execute_result"
    }
   ],
   "source": [
    "submission.head()"
   ]
  },
  {
   "cell_type": "code",
   "execution_count": 52,
   "id": "dd1d592a",
   "metadata": {
    "execution": {
     "iopub.execute_input": "2022-03-04T10:29:23.822920Z",
     "iopub.status.busy": "2022-03-04T10:29:23.822251Z",
     "iopub.status.idle": "2022-03-04T10:29:23.958316Z",
     "shell.execute_reply": "2022-03-04T10:29:23.958796Z",
     "shell.execute_reply.started": "2022-03-04T08:12:41.387843Z"
    },
    "papermill": {
     "duration": 0.225562,
     "end_time": "2022-03-04T10:29:23.958999",
     "exception": false,
     "start_time": "2022-03-04T10:29:23.733437",
     "status": "completed"
    },
    "tags": []
   },
   "outputs": [],
   "source": [
    "submission.to_csv('submission.csv', index = None)"
   ]
  },
  {
   "cell_type": "code",
   "execution_count": 53,
   "id": "98c987af",
   "metadata": {
    "execution": {
     "iopub.execute_input": "2022-03-04T10:29:24.166230Z",
     "iopub.status.busy": "2022-03-04T10:29:24.165207Z",
     "iopub.status.idle": "2022-03-04T10:29:24.168971Z",
     "shell.execute_reply": "2022-03-04T10:29:24.169571Z",
     "shell.execute_reply.started": "2022-03-04T08:13:18.773640Z"
    },
    "papermill": {
     "duration": 0.118487,
     "end_time": "2022-03-04T10:29:24.169741",
     "exception": false,
     "start_time": "2022-03-04T10:29:24.051254",
     "status": "completed"
    },
    "tags": []
   },
   "outputs": [
    {
     "data": {
      "text/html": [
       "<a href='submission.csv' target='_blank'>submission.csv</a><br>"
      ],
      "text/plain": [
       "/kaggle/working/submission.csv"
      ]
     },
     "execution_count": 53,
     "metadata": {},
     "output_type": "execute_result"
    }
   ],
   "source": [
    "from IPython.display import FileLink\n",
    "FileLink('submission.csv')"
   ]
  },
  {
   "cell_type": "code",
   "execution_count": null,
   "id": "834e984e",
   "metadata": {
    "papermill": {
     "duration": 0.089811,
     "end_time": "2022-03-04T10:29:24.353242",
     "exception": false,
     "start_time": "2022-03-04T10:29:24.263431",
     "status": "completed"
    },
    "tags": []
   },
   "outputs": [],
   "source": []
  }
 ],
 "metadata": {
  "kernelspec": {
   "display_name": "Python 3",
   "language": "python",
   "name": "python3"
  },
  "language_info": {
   "codemirror_mode": {
    "name": "ipython",
    "version": 3
   },
   "file_extension": ".py",
   "mimetype": "text/x-python",
   "name": "python",
   "nbconvert_exporter": "python",
   "pygments_lexer": "ipython3",
   "version": "3.7.12"
  },
  "papermill": {
   "default_parameters": {},
   "duration": 8095.906687,
   "end_time": "2022-03-04T10:29:26.070569",
   "environment_variables": {},
   "exception": null,
   "input_path": "__notebook__.ipynb",
   "output_path": "__notebook__.ipynb",
   "parameters": {},
   "start_time": "2022-03-04T08:14:30.163882",
   "version": "2.3.3"
  }
 },
 "nbformat": 4,
 "nbformat_minor": 5
}
