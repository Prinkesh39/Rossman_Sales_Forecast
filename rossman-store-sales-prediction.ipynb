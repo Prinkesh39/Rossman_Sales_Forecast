{
 "cells": [
  {
   "cell_type": "code",
   "execution_count": 1,
   "id": "a70d9ac0",
   "metadata": {
    "_cell_guid": "b1076dfc-b9ad-4769-8c92-a6c4dae69d19",
    "_uuid": "8f2839f25d086af736a60e9eeb907d3b93b6e0e5",
    "execution": {
     "iopub.execute_input": "2022-03-04T05:02:48.767241Z",
     "iopub.status.busy": "2022-03-04T05:02:48.766587Z",
     "iopub.status.idle": "2022-03-04T05:02:48.775617Z",
     "shell.execute_reply": "2022-03-04T05:02:48.774876Z",
     "shell.execute_reply.started": "2022-03-03T16:29:29.935934Z"
    },
    "papermill": {
     "duration": 0.054993,
     "end_time": "2022-03-04T05:02:48.775800",
     "exception": false,
     "start_time": "2022-03-04T05:02:48.720807",
     "status": "completed"
    },
    "tags": []
   },
   "outputs": [
    {
     "name": "stdout",
     "output_type": "stream",
     "text": [
      "/kaggle/input/rossmann-store-sales/sample_submission.csv\n",
      "/kaggle/input/rossmann-store-sales/store.csv\n",
      "/kaggle/input/rossmann-store-sales/train.csv\n",
      "/kaggle/input/rossmann-store-sales/test.csv\n"
     ]
    }
   ],
   "source": [
    "# This Python 3 environment comes with many helpful analytics libraries installed\n",
    "# It is defined by the kaggle/python Docker image: https://github.com/kaggle/docker-python\n",
    "# For example, here's several helpful packages to load\n",
    "\n",
    "import numpy as np # linear algebra\n",
    "import pandas as pd # data processing, CSV file I/O (e.g. pd.read_csv)\n",
    "\n",
    "# Input data files are available in the read-only \"../input/\" directory\n",
    "# For example, running this (by clicking run or pressing Shift+Enter) will list all files under the input directory\n",
    "\n",
    "import os\n",
    "for dirname, _, filenames in os.walk('/kaggle/input'):\n",
    "    for filename in filenames:\n",
    "        print(os.path.join(dirname, filename))\n",
    "\n",
    "# You can write up to 20GB to the current directory (/kaggle/working/) that gets preserved as output when you create a version using \"Save & Run All\" \n",
    "# You can also write temporary files to /kaggle/temp/, but they won't be saved outside of the current session"
   ]
  },
  {
   "cell_type": "code",
   "execution_count": 2,
   "id": "12f80e63",
   "metadata": {
    "execution": {
     "iopub.execute_input": "2022-03-04T05:02:48.857009Z",
     "iopub.status.busy": "2022-03-04T05:02:48.856270Z",
     "iopub.status.idle": "2022-03-04T05:02:50.023868Z",
     "shell.execute_reply": "2022-03-04T05:02:50.024367Z",
     "shell.execute_reply.started": "2022-03-03T16:29:29.970666Z"
    },
    "papermill": {
     "duration": 1.211982,
     "end_time": "2022-03-04T05:02:50.024570",
     "exception": false,
     "start_time": "2022-03-04T05:02:48.812588",
     "status": "completed"
    },
    "tags": []
   },
   "outputs": [
    {
     "name": "stderr",
     "output_type": "stream",
     "text": [
      "/opt/conda/lib/python3.7/site-packages/IPython/core/interactiveshell.py:3457: DtypeWarning: Columns (7) have mixed types.Specify dtype option on import or set low_memory=False.\n",
      "  exec(code_obj, self.user_global_ns, self.user_ns)\n"
     ]
    }
   ],
   "source": [
    "#Loading the Datasets\n",
    "stores = pd.read_csv(\"../input/rossmann-store-sales/store.csv\")\n",
    "\n",
    "train = pd.read_csv(\"../input/rossmann-store-sales/train.csv\", parse_dates = ['Date'])"
   ]
  },
  {
   "cell_type": "markdown",
   "id": "0e5920f5",
   "metadata": {
    "papermill": {
     "duration": 0.036373,
     "end_time": "2022-03-04T05:02:50.098893",
     "exception": false,
     "start_time": "2022-03-04T05:02:50.062520",
     "status": "completed"
    },
    "tags": []
   },
   "source": [
    "# Exploratory Data Analysis"
   ]
  },
  {
   "cell_type": "code",
   "execution_count": 3,
   "id": "2e8aac4f",
   "metadata": {
    "execution": {
     "iopub.execute_input": "2022-03-04T05:02:50.177863Z",
     "iopub.status.busy": "2022-03-04T05:02:50.176893Z",
     "iopub.status.idle": "2022-03-04T05:02:50.194983Z",
     "shell.execute_reply": "2022-03-04T05:02:50.195519Z",
     "shell.execute_reply.started": "2022-03-03T16:29:31.207467Z"
    },
    "papermill": {
     "duration": 0.060419,
     "end_time": "2022-03-04T05:02:50.195692",
     "exception": false,
     "start_time": "2022-03-04T05:02:50.135273",
     "status": "completed"
    },
    "tags": []
   },
   "outputs": [
    {
     "data": {
      "text/html": [
       "<div>\n",
       "<style scoped>\n",
       "    .dataframe tbody tr th:only-of-type {\n",
       "        vertical-align: middle;\n",
       "    }\n",
       "\n",
       "    .dataframe tbody tr th {\n",
       "        vertical-align: top;\n",
       "    }\n",
       "\n",
       "    .dataframe thead th {\n",
       "        text-align: right;\n",
       "    }\n",
       "</style>\n",
       "<table border=\"1\" class=\"dataframe\">\n",
       "  <thead>\n",
       "    <tr style=\"text-align: right;\">\n",
       "      <th></th>\n",
       "      <th>Store</th>\n",
       "      <th>StoreType</th>\n",
       "      <th>Assortment</th>\n",
       "      <th>CompetitionDistance</th>\n",
       "      <th>CompetitionOpenSinceMonth</th>\n",
       "      <th>CompetitionOpenSinceYear</th>\n",
       "      <th>Promo2</th>\n",
       "      <th>Promo2SinceWeek</th>\n",
       "      <th>Promo2SinceYear</th>\n",
       "      <th>PromoInterval</th>\n",
       "    </tr>\n",
       "  </thead>\n",
       "  <tbody>\n",
       "    <tr>\n",
       "      <th>0</th>\n",
       "      <td>1</td>\n",
       "      <td>c</td>\n",
       "      <td>a</td>\n",
       "      <td>1270.0</td>\n",
       "      <td>9.0</td>\n",
       "      <td>2008.0</td>\n",
       "      <td>0</td>\n",
       "      <td>NaN</td>\n",
       "      <td>NaN</td>\n",
       "      <td>NaN</td>\n",
       "    </tr>\n",
       "    <tr>\n",
       "      <th>1</th>\n",
       "      <td>2</td>\n",
       "      <td>a</td>\n",
       "      <td>a</td>\n",
       "      <td>570.0</td>\n",
       "      <td>11.0</td>\n",
       "      <td>2007.0</td>\n",
       "      <td>1</td>\n",
       "      <td>13.0</td>\n",
       "      <td>2010.0</td>\n",
       "      <td>Jan,Apr,Jul,Oct</td>\n",
       "    </tr>\n",
       "    <tr>\n",
       "      <th>2</th>\n",
       "      <td>3</td>\n",
       "      <td>a</td>\n",
       "      <td>a</td>\n",
       "      <td>14130.0</td>\n",
       "      <td>12.0</td>\n",
       "      <td>2006.0</td>\n",
       "      <td>1</td>\n",
       "      <td>14.0</td>\n",
       "      <td>2011.0</td>\n",
       "      <td>Jan,Apr,Jul,Oct</td>\n",
       "    </tr>\n",
       "    <tr>\n",
       "      <th>3</th>\n",
       "      <td>4</td>\n",
       "      <td>c</td>\n",
       "      <td>c</td>\n",
       "      <td>620.0</td>\n",
       "      <td>9.0</td>\n",
       "      <td>2009.0</td>\n",
       "      <td>0</td>\n",
       "      <td>NaN</td>\n",
       "      <td>NaN</td>\n",
       "      <td>NaN</td>\n",
       "    </tr>\n",
       "    <tr>\n",
       "      <th>4</th>\n",
       "      <td>5</td>\n",
       "      <td>a</td>\n",
       "      <td>a</td>\n",
       "      <td>29910.0</td>\n",
       "      <td>4.0</td>\n",
       "      <td>2015.0</td>\n",
       "      <td>0</td>\n",
       "      <td>NaN</td>\n",
       "      <td>NaN</td>\n",
       "      <td>NaN</td>\n",
       "    </tr>\n",
       "  </tbody>\n",
       "</table>\n",
       "</div>"
      ],
      "text/plain": [
       "   Store StoreType Assortment  CompetitionDistance  CompetitionOpenSinceMonth  \\\n",
       "0      1         c          a               1270.0                        9.0   \n",
       "1      2         a          a                570.0                       11.0   \n",
       "2      3         a          a              14130.0                       12.0   \n",
       "3      4         c          c                620.0                        9.0   \n",
       "4      5         a          a              29910.0                        4.0   \n",
       "\n",
       "   CompetitionOpenSinceYear  Promo2  Promo2SinceWeek  Promo2SinceYear  \\\n",
       "0                    2008.0       0              NaN              NaN   \n",
       "1                    2007.0       1             13.0           2010.0   \n",
       "2                    2006.0       1             14.0           2011.0   \n",
       "3                    2009.0       0              NaN              NaN   \n",
       "4                    2015.0       0              NaN              NaN   \n",
       "\n",
       "     PromoInterval  \n",
       "0              NaN  \n",
       "1  Jan,Apr,Jul,Oct  \n",
       "2  Jan,Apr,Jul,Oct  \n",
       "3              NaN  \n",
       "4              NaN  "
      ]
     },
     "execution_count": 3,
     "metadata": {},
     "output_type": "execute_result"
    }
   ],
   "source": [
    "#Reading the stores dataset\n",
    "stores.head()"
   ]
  },
  {
   "cell_type": "code",
   "execution_count": 4,
   "id": "cfd4ecbb",
   "metadata": {
    "execution": {
     "iopub.execute_input": "2022-03-04T05:02:50.272813Z",
     "iopub.status.busy": "2022-03-04T05:02:50.271841Z",
     "iopub.status.idle": "2022-03-04T05:02:51.438506Z",
     "shell.execute_reply": "2022-03-04T05:02:51.438946Z",
     "shell.execute_reply.started": "2022-03-03T16:29:31.227846Z"
    },
    "papermill": {
     "duration": 1.207513,
     "end_time": "2022-03-04T05:02:51.439148",
     "exception": false,
     "start_time": "2022-03-04T05:02:50.231635",
     "status": "completed"
    },
    "tags": []
   },
   "outputs": [
    {
     "data": {
      "text/html": [
       "        <script type=\"text/javascript\">\n",
       "        window.PlotlyConfig = {MathJaxConfig: 'local'};\n",
       "        if (window.MathJax) {MathJax.Hub.Config({SVG: {font: \"STIX-Web\"}});}\n",
       "        if (typeof require !== 'undefined') {\n",
       "        require.undef(\"plotly\");\n",
       "        requirejs.config({\n",
       "            paths: {\n",
       "                'plotly': ['https://cdn.plot.ly/plotly-2.8.3.min']\n",
       "            }\n",
       "        });\n",
       "        require(['plotly'], function(Plotly) {\n",
       "            window._Plotly = Plotly;\n",
       "        });\n",
       "        }\n",
       "        </script>\n",
       "        "
      ]
     },
     "metadata": {},
     "output_type": "display_data"
    }
   ],
   "source": [
    "import matplotlib.pyplot as plt\n",
    "%matplotlib inline\n",
    "\n",
    "import seaborn as sns\n",
    "\n",
    "import plotly.offline as py\n",
    "py.init_notebook_mode(connected=True)\n",
    "import plotly.graph_objs as go\n",
    "import plotly.tools as tls"
   ]
  },
  {
   "cell_type": "code",
   "execution_count": 5,
   "id": "39511863",
   "metadata": {
    "execution": {
     "iopub.execute_input": "2022-03-04T05:02:51.522930Z",
     "iopub.status.busy": "2022-03-04T05:02:51.522224Z",
     "iopub.status.idle": "2022-03-04T05:02:51.800480Z",
     "shell.execute_reply": "2022-03-04T05:02:51.799868Z",
     "shell.execute_reply.started": "2022-03-03T16:29:32.129251Z"
    },
    "papermill": {
     "duration": 0.32233,
     "end_time": "2022-03-04T05:02:51.800629",
     "exception": false,
     "start_time": "2022-03-04T05:02:51.478299",
     "status": "completed"
    },
    "tags": []
   },
   "outputs": [
    {
     "data": {
      "image/png": "[encoded data removed]",
      "text/plain": [
       "<Figure size 720x432 with 1 Axes>"
      ]
     },
     "metadata": {
      "needs_background": "light"
     },
     "output_type": "display_data"
    }
   ],
   "source": [
    "#Let's first do some EDA before cleaning our dataset\n",
    "stores.groupby(['StoreType', 'Assortment']).size().unstack().plot(kind = 'bar', stacked = True,\n",
    "                                                                 figsize = (10, 6))\n",
    "plt.title(\"Distribution of Assortment type per Store type\")\n",
    "plt.xlabel(\"Store Type\")\n",
    "plt.show()"
   ]
  },
  {
   "cell_type": "code",
   "execution_count": 6,
   "id": "f8f58433",
   "metadata": {
    "execution": {
     "iopub.execute_input": "2022-03-04T05:02:51.882546Z",
     "iopub.status.busy": "2022-03-04T05:02:51.881778Z",
     "iopub.status.idle": "2022-03-04T05:02:51.890915Z",
     "shell.execute_reply": "2022-03-04T05:02:51.891540Z",
     "shell.execute_reply.started": "2022-03-03T16:29:32.343421Z"
    },
    "papermill": {
     "duration": 0.052996,
     "end_time": "2022-03-04T05:02:51.891723",
     "exception": false,
     "start_time": "2022-03-04T05:02:51.838727",
     "status": "completed"
    },
    "tags": []
   },
   "outputs": [
    {
     "data": {
      "text/html": [
       "<div>\n",
       "<style scoped>\n",
       "    .dataframe tbody tr th:only-of-type {\n",
       "        vertical-align: middle;\n",
       "    }\n",
       "\n",
       "    .dataframe tbody tr th {\n",
       "        vertical-align: top;\n",
       "    }\n",
       "\n",
       "    .dataframe thead th {\n",
       "        text-align: right;\n",
       "    }\n",
       "</style>\n",
       "<table border=\"1\" class=\"dataframe\">\n",
       "  <thead>\n",
       "    <tr style=\"text-align: right;\">\n",
       "      <th></th>\n",
       "      <th>Store</th>\n",
       "      <th>DayOfWeek</th>\n",
       "      <th>Date</th>\n",
       "      <th>Sales</th>\n",
       "      <th>Customers</th>\n",
       "      <th>Open</th>\n",
       "      <th>Promo</th>\n",
       "      <th>StateHoliday</th>\n",
       "      <th>SchoolHoliday</th>\n",
       "    </tr>\n",
       "  </thead>\n",
       "  <tbody>\n",
       "    <tr>\n",
       "      <th>0</th>\n",
       "      <td>1</td>\n",
       "      <td>5</td>\n",
       "      <td>2015-07-31</td>\n",
       "      <td>5263</td>\n",
       "      <td>555</td>\n",
       "      <td>1</td>\n",
       "      <td>1</td>\n",
       "      <td>0</td>\n",
       "      <td>1</td>\n",
       "    </tr>\n",
       "    <tr>\n",
       "      <th>1</th>\n",
       "      <td>2</td>\n",
       "      <td>5</td>\n",
       "      <td>2015-07-31</td>\n",
       "      <td>6064</td>\n",
       "      <td>625</td>\n",
       "      <td>1</td>\n",
       "      <td>1</td>\n",
       "      <td>0</td>\n",
       "      <td>1</td>\n",
       "    </tr>\n",
       "    <tr>\n",
       "      <th>2</th>\n",
       "      <td>3</td>\n",
       "      <td>5</td>\n",
       "      <td>2015-07-31</td>\n",
       "      <td>8314</td>\n",
       "      <td>821</td>\n",
       "      <td>1</td>\n",
       "      <td>1</td>\n",
       "      <td>0</td>\n",
       "      <td>1</td>\n",
       "    </tr>\n",
       "    <tr>\n",
       "      <th>3</th>\n",
       "      <td>4</td>\n",
       "      <td>5</td>\n",
       "      <td>2015-07-31</td>\n",
       "      <td>13995</td>\n",
       "      <td>1498</td>\n",
       "      <td>1</td>\n",
       "      <td>1</td>\n",
       "      <td>0</td>\n",
       "      <td>1</td>\n",
       "    </tr>\n",
       "    <tr>\n",
       "      <th>4</th>\n",
       "      <td>5</td>\n",
       "      <td>5</td>\n",
       "      <td>2015-07-31</td>\n",
       "      <td>4822</td>\n",
       "      <td>559</td>\n",
       "      <td>1</td>\n",
       "      <td>1</td>\n",
       "      <td>0</td>\n",
       "      <td>1</td>\n",
       "    </tr>\n",
       "  </tbody>\n",
       "</table>\n",
       "</div>"
      ],
      "text/plain": [
       "   Store  DayOfWeek       Date  Sales  Customers  Open  Promo StateHoliday  \\\n",
       "0      1          5 2015-07-31   5263        555     1      1            0   \n",
       "1      2          5 2015-07-31   6064        625     1      1            0   \n",
       "2      3          5 2015-07-31   8314        821     1      1            0   \n",
       "3      4          5 2015-07-31  13995       1498     1      1            0   \n",
       "4      5          5 2015-07-31   4822        559     1      1            0   \n",
       "\n",
       "   SchoolHoliday  \n",
       "0              1  \n",
       "1              1  \n",
       "2              1  \n",
       "3              1  \n",
       "4              1  "
      ]
     },
     "execution_count": 6,
     "metadata": {},
     "output_type": "execute_result"
    }
   ],
   "source": [
    "#Load train dataset\n",
    "train.head()"
   ]
  },
  {
   "cell_type": "markdown",
   "id": "4fa4ece4",
   "metadata": {
    "papermill": {
     "duration": 0.037456,
     "end_time": "2022-03-04T05:02:51.966866",
     "exception": false,
     "start_time": "2022-03-04T05:02:51.929410",
     "status": "completed"
    },
    "tags": []
   },
   "source": [
    "Merging both the datasets."
   ]
  },
  {
   "cell_type": "code",
   "execution_count": 7,
   "id": "c75699ce",
   "metadata": {
    "execution": {
     "iopub.execute_input": "2022-03-04T05:02:52.050015Z",
     "iopub.status.busy": "2022-03-04T05:02:52.048982Z",
     "iopub.status.idle": "2022-03-04T05:02:52.481924Z",
     "shell.execute_reply": "2022-03-04T05:02:52.481399Z",
     "shell.execute_reply.started": "2022-03-03T16:29:32.353158Z"
    },
    "papermill": {
     "duration": 0.475628,
     "end_time": "2022-03-04T05:02:52.482123",
     "exception": false,
     "start_time": "2022-03-04T05:02:52.006495",
     "status": "completed"
    },
    "tags": []
   },
   "outputs": [],
   "source": [
    "train = pd.merge(train, stores, on = 'Store', how = 'left')"
   ]
  },
  {
   "cell_type": "markdown",
   "id": "41ca848b",
   "metadata": {
    "papermill": {
     "duration": 0.037137,
     "end_time": "2022-03-04T05:02:52.557135",
     "exception": false,
     "start_time": "2022-03-04T05:02:52.519998",
     "status": "completed"
    },
    "tags": []
   },
   "source": [
    "As the sales during the day the store is closed will be zero, we do not require the days where stores are closed."
   ]
  },
  {
   "cell_type": "code",
   "execution_count": 8,
   "id": "c5bd1632",
   "metadata": {
    "execution": {
     "iopub.execute_input": "2022-03-04T05:02:52.636847Z",
     "iopub.status.busy": "2022-03-04T05:02:52.635839Z",
     "iopub.status.idle": "2022-03-04T05:02:53.188074Z",
     "shell.execute_reply": "2022-03-04T05:02:53.188627Z",
     "shell.execute_reply.started": "2022-03-03T16:29:32.726826Z"
    },
    "papermill": {
     "duration": 0.594512,
     "end_time": "2022-03-04T05:02:53.188804",
     "exception": false,
     "start_time": "2022-03-04T05:02:52.594292",
     "status": "completed"
    },
    "tags": []
   },
   "outputs": [
    {
     "name": "stdout",
     "output_type": "stream",
     "text": [
      "<class 'pandas.core.frame.DataFrame'>\n",
      "Int64Index: 844392 entries, 0 to 1017190\n",
      "Data columns (total 18 columns):\n",
      " #   Column                     Non-Null Count   Dtype         \n",
      "---  ------                     --------------   -----         \n",
      " 0   Store                      844392 non-null  int64         \n",
      " 1   DayOfWeek                  844392 non-null  int64         \n",
      " 2   Date                       844392 non-null  datetime64[ns]\n",
      " 3   Sales                      844392 non-null  int64         \n",
      " 4   Customers                  844392 non-null  int64         \n",
      " 5   Open                       844392 non-null  int64         \n",
      " 6   Promo                      844392 non-null  int64         \n",
      " 7   StateHoliday               844392 non-null  object        \n",
      " 8   SchoolHoliday              844392 non-null  int64         \n",
      " 9   StoreType                  844392 non-null  object        \n",
      " 10  Assortment                 844392 non-null  object        \n",
      " 11  CompetitionDistance        842206 non-null  float64       \n",
      " 12  CompetitionOpenSinceMonth  575773 non-null  float64       \n",
      " 13  CompetitionOpenSinceYear   575773 non-null  float64       \n",
      " 14  Promo2                     844392 non-null  int64         \n",
      " 15  Promo2SinceWeek            421085 non-null  float64       \n",
      " 16  Promo2SinceYear            421085 non-null  float64       \n",
      " 17  PromoInterval              421085 non-null  object        \n",
      "dtypes: datetime64[ns](1), float64(5), int64(8), object(4)\n",
      "memory usage: 122.4+ MB\n",
      "None\n"
     ]
    },
    {
     "data": {
      "text/html": [
       "<div>\n",
       "<style scoped>\n",
       "    .dataframe tbody tr th:only-of-type {\n",
       "        vertical-align: middle;\n",
       "    }\n",
       "\n",
       "    .dataframe tbody tr th {\n",
       "        vertical-align: top;\n",
       "    }\n",
       "\n",
       "    .dataframe thead th {\n",
       "        text-align: right;\n",
       "    }\n",
       "</style>\n",
       "<table border=\"1\" class=\"dataframe\">\n",
       "  <thead>\n",
       "    <tr style=\"text-align: right;\">\n",
       "      <th></th>\n",
       "      <th>Store</th>\n",
       "      <th>DayOfWeek</th>\n",
       "      <th>Date</th>\n",
       "      <th>Sales</th>\n",
       "      <th>Customers</th>\n",
       "      <th>Open</th>\n",
       "      <th>Promo</th>\n",
       "      <th>StateHoliday</th>\n",
       "      <th>SchoolHoliday</th>\n",
       "      <th>StoreType</th>\n",
       "      <th>Assortment</th>\n",
       "      <th>CompetitionDistance</th>\n",
       "      <th>CompetitionOpenSinceMonth</th>\n",
       "      <th>CompetitionOpenSinceYear</th>\n",
       "      <th>Promo2</th>\n",
       "      <th>Promo2SinceWeek</th>\n",
       "      <th>Promo2SinceYear</th>\n",
       "      <th>PromoInterval</th>\n",
       "    </tr>\n",
       "  </thead>\n",
       "  <tbody>\n",
       "    <tr>\n",
       "      <th>0</th>\n",
       "      <td>1</td>\n",
       "      <td>5</td>\n",
       "      <td>2015-07-31</td>\n",
       "      <td>5263</td>\n",
       "      <td>555</td>\n",
       "      <td>1</td>\n",
       "      <td>1</td>\n",
       "      <td>0</td>\n",
       "      <td>1</td>\n",
       "      <td>c</td>\n",
       "      <td>a</td>\n",
       "      <td>1270.0</td>\n",
       "      <td>9.0</td>\n",
       "      <td>2008.0</td>\n",
       "      <td>0</td>\n",
       "      <td>NaN</td>\n",
       "      <td>NaN</td>\n",
       "      <td>NaN</td>\n",
       "    </tr>\n",
       "    <tr>\n",
       "      <th>1</th>\n",
       "      <td>2</td>\n",
       "      <td>5</td>\n",
       "      <td>2015-07-31</td>\n",
       "      <td>6064</td>\n",
       "      <td>625</td>\n",
       "      <td>1</td>\n",
       "      <td>1</td>\n",
       "      <td>0</td>\n",
       "      <td>1</td>\n",
       "      <td>a</td>\n",
       "      <td>a</td>\n",
       "      <td>570.0</td>\n",
       "      <td>11.0</td>\n",
       "      <td>2007.0</td>\n",
       "      <td>1</td>\n",
       "      <td>13.0</td>\n",
       "      <td>2010.0</td>\n",
       "      <td>Jan,Apr,Jul,Oct</td>\n",
       "    </tr>\n",
       "    <tr>\n",
       "      <th>2</th>\n",
       "      <td>3</td>\n",
       "      <td>5</td>\n",
       "      <td>2015-07-31</td>\n",
       "      <td>8314</td>\n",
       "      <td>821</td>\n",
       "      <td>1</td>\n",
       "      <td>1</td>\n",
       "      <td>0</td>\n",
       "      <td>1</td>\n",
       "      <td>a</td>\n",
       "      <td>a</td>\n",
       "      <td>14130.0</td>\n",
       "      <td>12.0</td>\n",
       "      <td>2006.0</td>\n",
       "      <td>1</td>\n",
       "      <td>14.0</td>\n",
       "      <td>2011.0</td>\n",
       "      <td>Jan,Apr,Jul,Oct</td>\n",
       "    </tr>\n",
       "    <tr>\n",
       "      <th>3</th>\n",
       "      <td>4</td>\n",
       "      <td>5</td>\n",
       "      <td>2015-07-31</td>\n",
       "      <td>13995</td>\n",
       "      <td>1498</td>\n",
       "      <td>1</td>\n",
       "      <td>1</td>\n",
       "      <td>0</td>\n",
       "      <td>1</td>\n",
       "      <td>c</td>\n",
       "      <td>c</td>\n",
       "      <td>620.0</td>\n",
       "      <td>9.0</td>\n",
       "      <td>2009.0</td>\n",
       "      <td>0</td>\n",
       "      <td>NaN</td>\n",
       "      <td>NaN</td>\n",
       "      <td>NaN</td>\n",
       "    </tr>\n",
       "    <tr>\n",
       "      <th>4</th>\n",
       "      <td>5</td>\n",
       "      <td>5</td>\n",
       "      <td>2015-07-31</td>\n",
       "      <td>4822</td>\n",
       "      <td>559</td>\n",
       "      <td>1</td>\n",
       "      <td>1</td>\n",
       "      <td>0</td>\n",
       "      <td>1</td>\n",
       "      <td>a</td>\n",
       "      <td>a</td>\n",
       "      <td>29910.0</td>\n",
       "      <td>4.0</td>\n",
       "      <td>2015.0</td>\n",
       "      <td>0</td>\n",
       "      <td>NaN</td>\n",
       "      <td>NaN</td>\n",
       "      <td>NaN</td>\n",
       "    </tr>\n",
       "  </tbody>\n",
       "</table>\n",
       "</div>"
      ],
      "text/plain": [
       "   Store  DayOfWeek       Date  Sales  Customers  Open  Promo StateHoliday  \\\n",
       "0      1          5 2015-07-31   5263        555     1      1            0   \n",
       "1      2          5 2015-07-31   6064        625     1      1            0   \n",
       "2      3          5 2015-07-31   8314        821     1      1            0   \n",
       "3      4          5 2015-07-31  13995       1498     1      1            0   \n",
       "4      5          5 2015-07-31   4822        559     1      1            0   \n",
       "\n",
       "   SchoolHoliday StoreType Assortment  CompetitionDistance  \\\n",
       "0              1         c          a               1270.0   \n",
       "1              1         a          a                570.0   \n",
       "2              1         a          a              14130.0   \n",
       "3              1         c          c                620.0   \n",
       "4              1         a          a              29910.0   \n",
       "\n",
       "   CompetitionOpenSinceMonth  CompetitionOpenSinceYear  Promo2  \\\n",
       "0                        9.0                    2008.0       0   \n",
       "1                       11.0                    2007.0       1   \n",
       "2                       12.0                    2006.0       1   \n",
       "3                        9.0                    2009.0       0   \n",
       "4                        4.0                    2015.0       0   \n",
       "\n",
       "   Promo2SinceWeek  Promo2SinceYear    PromoInterval  \n",
       "0              NaN              NaN              NaN  \n",
       "1             13.0           2010.0  Jan,Apr,Jul,Oct  \n",
       "2             14.0           2011.0  Jan,Apr,Jul,Oct  \n",
       "3              NaN              NaN              NaN  \n",
       "4              NaN              NaN              NaN  "
      ]
     },
     "execution_count": 8,
     "metadata": {},
     "output_type": "execute_result"
    }
   ],
   "source": [
    "train_open = train[train.Open == 1].copy()\n",
    "print (train_open.info())\n",
    "train.head()"
   ]
  },
  {
   "cell_type": "code",
   "execution_count": 9,
   "id": "24de81f4",
   "metadata": {
    "execution": {
     "iopub.execute_input": "2022-03-04T05:02:53.271896Z",
     "iopub.status.busy": "2022-03-04T05:02:53.270881Z",
     "iopub.status.idle": "2022-03-04T05:02:54.906631Z",
     "shell.execute_reply": "2022-03-04T05:02:54.906011Z",
     "shell.execute_reply.started": "2022-03-03T16:29:33.114534Z"
    },
    "papermill": {
     "duration": 1.678278,
     "end_time": "2022-03-04T05:02:54.906777",
     "exception": false,
     "start_time": "2022-03-04T05:02:53.228499",
     "status": "completed"
    },
    "tags": []
   },
   "outputs": [
    {
     "data": {
      "image/png": "[encoded data removed]",
      "text/plain": [
       "<Figure size 720x432 with 1 Axes>"
      ]
     },
     "metadata": {
      "needs_background": "light"
     },
     "output_type": "display_data"
    }
   ],
   "source": [
    "#Let's see the distribution of sales\n",
    "plt.figure(figsize = (10, 6))\n",
    "sns.histplot(train_open.Sales)\n",
    "plt.title(\"Distribution of Sales\")\n",
    "plt.show()"
   ]
  },
  {
   "cell_type": "markdown",
   "id": "b331309c",
   "metadata": {
    "papermill": {
     "duration": 0.040147,
     "end_time": "2022-03-04T05:02:54.986060",
     "exception": false,
     "start_time": "2022-03-04T05:02:54.945913",
     "status": "completed"
    },
    "tags": []
   },
   "source": [
    "From above we can see that the sales follow Normal Distrionbution with Right-skewed (Positively Skewed). "
   ]
  },
  {
   "cell_type": "code",
   "execution_count": 10,
   "id": "61743239",
   "metadata": {
    "execution": {
     "iopub.execute_input": "2022-03-04T05:02:55.073515Z",
     "iopub.status.busy": "2022-03-04T05:02:55.072846Z",
     "iopub.status.idle": "2022-03-04T05:03:14.972459Z",
     "shell.execute_reply": "2022-03-04T05:03:14.971706Z",
     "shell.execute_reply.started": "2022-03-03T16:29:34.530411Z"
    },
    "papermill": {
     "duration": 19.946942,
     "end_time": "2022-03-04T05:03:14.972601",
     "exception": false,
     "start_time": "2022-03-04T05:02:55.025659",
     "status": "completed"
    },
    "tags": []
   },
   "outputs": [
    {
     "data": {
      "image/png": "[encoded data removed]",
      "text/plain": [
       "<Figure size 432x288 with 1 Axes>"
      ]
     },
     "metadata": {
      "needs_background": "light"
     },
     "output_type": "display_data"
    }
   ],
   "source": [
    "plt.figure(figsize = (6,4))\n",
    "sns.barplot(x = 'Promo', y = 'Sales', data = train_open)\n",
    "plt.title('Sales distribution on Promo day')\n",
    "plt.show()"
   ]
  },
  {
   "cell_type": "markdown",
   "id": "04ea3582",
   "metadata": {
    "papermill": {
     "duration": 0.04027,
     "end_time": "2022-03-04T05:03:15.054410",
     "exception": false,
     "start_time": "2022-03-04T05:03:15.014140",
     "status": "completed"
    },
    "tags": []
   },
   "source": [
    "Sales is evenly distributed on both Promotional and Non-Promotional Day"
   ]
  },
  {
   "cell_type": "code",
   "execution_count": 11,
   "id": "a274aaba",
   "metadata": {
    "execution": {
     "iopub.execute_input": "2022-03-04T05:03:15.140382Z",
     "iopub.status.busy": "2022-03-04T05:03:15.139724Z",
     "iopub.status.idle": "2022-03-04T05:03:15.234494Z",
     "shell.execute_reply": "2022-03-04T05:03:15.235002Z",
     "shell.execute_reply.started": "2022-03-03T16:29:46.576607Z"
    },
    "papermill": {
     "duration": 0.138795,
     "end_time": "2022-03-04T05:03:15.235185",
     "exception": false,
     "start_time": "2022-03-04T05:03:15.096390",
     "status": "completed"
    },
    "tags": []
   },
   "outputs": [
    {
     "data": {
      "text/plain": [
       "array(['0', 'a', 'b', 'c'], dtype=object)"
      ]
     },
     "execution_count": 11,
     "metadata": {},
     "output_type": "execute_result"
    }
   ],
   "source": [
    "train_open['StateHoliday'] = train_open['StateHoliday'].astype(str)\n",
    "train_open.StateHoliday.unique()"
   ]
  },
  {
   "cell_type": "code",
   "execution_count": 12,
   "id": "02485a58",
   "metadata": {
    "execution": {
     "iopub.execute_input": "2022-03-04T05:03:15.376976Z",
     "iopub.status.busy": "2022-03-04T05:03:15.355222Z",
     "iopub.status.idle": "2022-03-04T05:03:38.868769Z",
     "shell.execute_reply": "2022-03-04T05:03:38.867969Z",
     "shell.execute_reply.started": "2022-03-03T16:29:46.670108Z"
    },
    "papermill": {
     "duration": 23.592949,
     "end_time": "2022-03-04T05:03:38.868915",
     "exception": false,
     "start_time": "2022-03-04T05:03:15.275966",
     "status": "completed"
    },
    "tags": []
   },
   "outputs": [
    {
     "data": {
      "image/png": "[encoded data removed]",
      "text/plain": [
       "<Figure size 432x288 with 1 Axes>"
      ]
     },
     "metadata": {
      "needs_background": "light"
     },
     "output_type": "display_data"
    }
   ],
   "source": [
    "plt.figure(figsize = (6,4))\n",
    "sns.barplot(x = 'StateHoliday', y = 'Sales', data = train_open)\n",
    "plt.title('Sales distribution on State Holiday')\n",
    "plt.show()"
   ]
  },
  {
   "cell_type": "markdown",
   "id": "312ff2bb",
   "metadata": {
    "papermill": {
     "duration": 0.041241,
     "end_time": "2022-03-04T05:03:38.951348",
     "exception": false,
     "start_time": "2022-03-04T05:03:38.910107",
     "status": "completed"
    },
    "tags": []
   },
   "source": [
    "Sales is higher on holidays compared to non-holidays as expected."
   ]
  },
  {
   "cell_type": "code",
   "execution_count": 13,
   "id": "a294ec14",
   "metadata": {
    "execution": {
     "iopub.execute_input": "2022-03-04T05:03:39.039337Z",
     "iopub.status.busy": "2022-03-04T05:03:39.038649Z",
     "iopub.status.idle": "2022-03-04T05:03:58.698359Z",
     "shell.execute_reply": "2022-03-04T05:03:58.697875Z",
     "shell.execute_reply.started": "2022-03-03T16:30:37.048644Z"
    },
    "papermill": {
     "duration": 19.70629,
     "end_time": "2022-03-04T05:03:58.698500",
     "exception": false,
     "start_time": "2022-03-04T05:03:38.992210",
     "status": "completed"
    },
    "tags": []
   },
   "outputs": [
    {
     "data": {
      "image/png": "[encoded data removed]",
      "text/plain": [
       "<Figure size 432x288 with 1 Axes>"
      ]
     },
     "metadata": {
      "needs_background": "light"
     },
     "output_type": "display_data"
    }
   ],
   "source": [
    "#Let's see the sales distribution in School Holiday\n",
    "plt.figure(figsize = (6,4))\n",
    "sns.barplot(x = 'SchoolHoliday', y = 'Sales', data = train_open)\n",
    "plt.title('Sales distribution on School Holiday')\n",
    "plt.show()"
   ]
  },
  {
   "cell_type": "markdown",
   "id": "b04896ef",
   "metadata": {
    "papermill": {
     "duration": 0.041622,
     "end_time": "2022-03-04T05:03:58.782331",
     "exception": false,
     "start_time": "2022-03-04T05:03:58.740709",
     "status": "completed"
    },
    "tags": []
   },
   "source": [
    "Sales doesn't seem to depend much on School Holidays"
   ]
  },
  {
   "cell_type": "code",
   "execution_count": 14,
   "id": "5eddb4fd",
   "metadata": {
    "execution": {
     "iopub.execute_input": "2022-03-04T05:03:58.904879Z",
     "iopub.status.busy": "2022-03-04T05:03:58.904216Z",
     "iopub.status.idle": "2022-03-04T05:04:13.588524Z",
     "shell.execute_reply": "2022-03-04T05:04:13.588948Z",
     "shell.execute_reply.started": "2022-03-03T16:30:49.6765Z"
    },
    "papermill": {
     "duration": 14.764828,
     "end_time": "2022-03-04T05:04:13.589156",
     "exception": false,
     "start_time": "2022-03-04T05:03:58.824328",
     "status": "completed"
    },
    "tags": []
   },
   "outputs": [
    {
     "data": {
      "image/png": "[encoded data removed]",
      "text/plain": [
       "<Figure size 432x288 with 1 Axes>"
      ]
     },
     "metadata": {
      "needs_background": "light"
     },
     "output_type": "display_data"
    }
   ],
   "source": [
    "#Let's see which store type has more sales\n",
    "sns.barplot(x = 'StoreType', y = 'Sales', data = train_open)\n",
    "plt.title(\"Sales as per the Store Type\")\n",
    "plt.xlabel('Store Type')\n",
    "plt.ylabel('Sales')\n",
    "plt.show()"
   ]
  },
  {
   "cell_type": "markdown",
   "id": "ff3304d7",
   "metadata": {
    "papermill": {
     "duration": 0.042318,
     "end_time": "2022-03-04T05:04:13.674246",
     "exception": false,
     "start_time": "2022-03-04T05:04:13.631928",
     "status": "completed"
    },
    "tags": []
   },
   "source": [
    "Except for the sales in type b, sales in all other types of stores are nearly identical"
   ]
  },
  {
   "cell_type": "markdown",
   "id": "7543bfe3",
   "metadata": {
    "papermill": {
     "duration": 0.042225,
     "end_time": "2022-03-04T05:04:13.758936",
     "exception": false,
     "start_time": "2022-03-04T05:04:13.716711",
     "status": "completed"
    },
    "tags": []
   },
   "source": [
    "# Feature Engineering"
   ]
  },
  {
   "cell_type": "markdown",
   "id": "3e6f7ae9",
   "metadata": {
    "papermill": {
     "duration": 0.042163,
     "end_time": "2022-03-04T05:04:13.844752",
     "exception": false,
     "start_time": "2022-03-04T05:04:13.802589",
     "status": "completed"
    },
    "tags": []
   },
   "source": [
    "Now we will prepare our file which will be suitable to be used in different Machine Learning Models"
   ]
  },
  {
   "cell_type": "code",
   "execution_count": 15,
   "id": "907882cc",
   "metadata": {
    "execution": {
     "iopub.execute_input": "2022-03-04T05:04:13.939479Z",
     "iopub.status.busy": "2022-03-04T05:04:13.938847Z",
     "iopub.status.idle": "2022-03-04T05:04:13.940350Z",
     "shell.execute_reply": "2022-03-04T05:04:13.940920Z",
     "shell.execute_reply.started": "2022-03-03T16:31:00.462374Z"
    },
    "papermill": {
     "duration": 0.054181,
     "end_time": "2022-03-04T05:04:13.941094",
     "exception": false,
     "start_time": "2022-03-04T05:04:13.886913",
     "status": "completed"
    },
    "tags": []
   },
   "outputs": [],
   "source": [
    "def feature_ext(df):\n",
    "    '''Creating the dataset with the features in the required format'''\n",
    "    \n",
    "    #Creating Extra Columns out of Date \n",
    "    df['Year'] = df.Date.dt.year\n",
    "    df['Month'] = df.Date.dt.month\n",
    "    df['Day'] = df.Date.dt.day\n",
    "    df['DayOfWeek'] = df.Date.dt.dayofweek\n",
    "    df['WeekOfYear'] = df.Date.dt.weekofyear\n",
    "    \n",
    "    #fixing Promo and CompetitionSince columns by extending the features \n",
    "    \n",
    "    df['CompetitionOpen'] = 12 * (df.Year - df.CompetitionOpenSinceYear) + (df.Month - df.CompetitionOpenSinceMonth)\n",
    "    df['CompetitionOpen'] = df['CompetitionOpen'].apply(lambda x: 0 if x < 0 else x)\n",
    "    \n",
    "    df['PromoOpen'] = 12 * (df.Year - df.Promo2SinceYear) + (df.WeekOfYear - df.Promo2SinceWeek) / 4\n",
    "    df['PromoOpen'] = df['PromoOpen'].apply(lambda x: 0 if x < 0 else x)\n",
    "    \n",
    "    #Mapping month name to the Months Column\n",
    "    monthname = {1:'Jan', 2:'Feb', 3:'Mar', 4:'Apr', 5:'May', 6:'Jun',              \n",
    "                 7:'Jul', 8:'Aug', 9:'Sept', 10:'Oct', 11:'Nov', 12:'Dec'}\n",
    "    df['Month'] = df['Month'].map(monthname)\n",
    "    \n",
    "    #changing the dtype of Promo Interval Column\n",
    "    df['PromoInterval'] = df['PromoInterval'].astype(str)\n",
    "    \n",
    "    #Fixing PromoInterval column with creating a binary column for the value in PromoInterval\n",
    "    df['IsPromoMonth'] = 0 #empty column\n",
    "    for values in df.PromoInterval.unique():\n",
    "        for month in values.split(','):\n",
    "            df.loc[(df.Month == month) & (df.PromoInterval == values), 'IsPromoMonth'] = 1\n",
    "    \n",
    "    return df\n",
    "    \n",
    "    "
   ]
  },
  {
   "cell_type": "code",
   "execution_count": 16,
   "id": "c2ae8705",
   "metadata": {
    "execution": {
     "iopub.execute_input": "2022-03-04T05:04:14.029498Z",
     "iopub.status.busy": "2022-03-04T05:04:14.028821Z",
     "iopub.status.idle": "2022-03-04T05:04:17.043471Z",
     "shell.execute_reply": "2022-03-04T05:04:17.043920Z",
     "shell.execute_reply.started": "2022-03-03T16:31:00.475178Z"
    },
    "papermill": {
     "duration": 3.060052,
     "end_time": "2022-03-04T05:04:17.044092",
     "exception": false,
     "start_time": "2022-03-04T05:04:13.984040",
     "status": "completed"
    },
    "tags": []
   },
   "outputs": [
    {
     "name": "stderr",
     "output_type": "stream",
     "text": [
      "/opt/conda/lib/python3.7/site-packages/ipykernel_launcher.py:9: FutureWarning:\n",
      "\n",
      "Series.dt.weekofyear and Series.dt.week have been deprecated.  Please use Series.dt.isocalendar().week instead.\n",
      "\n"
     ]
    },
    {
     "data": {
      "text/html": [
       "<div>\n",
       "<style scoped>\n",
       "    .dataframe tbody tr th:only-of-type {\n",
       "        vertical-align: middle;\n",
       "    }\n",
       "\n",
       "    .dataframe tbody tr th {\n",
       "        vertical-align: top;\n",
       "    }\n",
       "\n",
       "    .dataframe thead th {\n",
       "        text-align: right;\n",
       "    }\n",
       "</style>\n",
       "<table border=\"1\" class=\"dataframe\">\n",
       "  <thead>\n",
       "    <tr style=\"text-align: right;\">\n",
       "      <th></th>\n",
       "      <th>Store</th>\n",
       "      <th>DayOfWeek</th>\n",
       "      <th>Date</th>\n",
       "      <th>Sales</th>\n",
       "      <th>Customers</th>\n",
       "      <th>Open</th>\n",
       "      <th>Promo</th>\n",
       "      <th>StateHoliday</th>\n",
       "      <th>SchoolHoliday</th>\n",
       "      <th>StoreType</th>\n",
       "      <th>...</th>\n",
       "      <th>Promo2SinceWeek</th>\n",
       "      <th>Promo2SinceYear</th>\n",
       "      <th>PromoInterval</th>\n",
       "      <th>Year</th>\n",
       "      <th>Month</th>\n",
       "      <th>Day</th>\n",
       "      <th>WeekOfYear</th>\n",
       "      <th>CompetitionOpen</th>\n",
       "      <th>PromoOpen</th>\n",
       "      <th>IsPromoMonth</th>\n",
       "    </tr>\n",
       "  </thead>\n",
       "  <tbody>\n",
       "    <tr>\n",
       "      <th>0</th>\n",
       "      <td>1</td>\n",
       "      <td>4</td>\n",
       "      <td>2015-07-31</td>\n",
       "      <td>5263</td>\n",
       "      <td>555</td>\n",
       "      <td>1</td>\n",
       "      <td>1</td>\n",
       "      <td>0</td>\n",
       "      <td>1</td>\n",
       "      <td>c</td>\n",
       "      <td>...</td>\n",
       "      <td>NaN</td>\n",
       "      <td>NaN</td>\n",
       "      <td>nan</td>\n",
       "      <td>2015</td>\n",
       "      <td>Jul</td>\n",
       "      <td>31</td>\n",
       "      <td>31</td>\n",
       "      <td>82.0</td>\n",
       "      <td>NaN</td>\n",
       "      <td>0</td>\n",
       "    </tr>\n",
       "    <tr>\n",
       "      <th>1</th>\n",
       "      <td>2</td>\n",
       "      <td>4</td>\n",
       "      <td>2015-07-31</td>\n",
       "      <td>6064</td>\n",
       "      <td>625</td>\n",
       "      <td>1</td>\n",
       "      <td>1</td>\n",
       "      <td>0</td>\n",
       "      <td>1</td>\n",
       "      <td>a</td>\n",
       "      <td>...</td>\n",
       "      <td>13.0</td>\n",
       "      <td>2010.0</td>\n",
       "      <td>Jan,Apr,Jul,Oct</td>\n",
       "      <td>2015</td>\n",
       "      <td>Jul</td>\n",
       "      <td>31</td>\n",
       "      <td>31</td>\n",
       "      <td>92.0</td>\n",
       "      <td>64.50</td>\n",
       "      <td>1</td>\n",
       "    </tr>\n",
       "    <tr>\n",
       "      <th>2</th>\n",
       "      <td>3</td>\n",
       "      <td>4</td>\n",
       "      <td>2015-07-31</td>\n",
       "      <td>8314</td>\n",
       "      <td>821</td>\n",
       "      <td>1</td>\n",
       "      <td>1</td>\n",
       "      <td>0</td>\n",
       "      <td>1</td>\n",
       "      <td>a</td>\n",
       "      <td>...</td>\n",
       "      <td>14.0</td>\n",
       "      <td>2011.0</td>\n",
       "      <td>Jan,Apr,Jul,Oct</td>\n",
       "      <td>2015</td>\n",
       "      <td>Jul</td>\n",
       "      <td>31</td>\n",
       "      <td>31</td>\n",
       "      <td>103.0</td>\n",
       "      <td>52.25</td>\n",
       "      <td>1</td>\n",
       "    </tr>\n",
       "    <tr>\n",
       "      <th>3</th>\n",
       "      <td>4</td>\n",
       "      <td>4</td>\n",
       "      <td>2015-07-31</td>\n",
       "      <td>13995</td>\n",
       "      <td>1498</td>\n",
       "      <td>1</td>\n",
       "      <td>1</td>\n",
       "      <td>0</td>\n",
       "      <td>1</td>\n",
       "      <td>c</td>\n",
       "      <td>...</td>\n",
       "      <td>NaN</td>\n",
       "      <td>NaN</td>\n",
       "      <td>nan</td>\n",
       "      <td>2015</td>\n",
       "      <td>Jul</td>\n",
       "      <td>31</td>\n",
       "      <td>31</td>\n",
       "      <td>70.0</td>\n",
       "      <td>NaN</td>\n",
       "      <td>0</td>\n",
       "    </tr>\n",
       "    <tr>\n",
       "      <th>4</th>\n",
       "      <td>5</td>\n",
       "      <td>4</td>\n",
       "      <td>2015-07-31</td>\n",
       "      <td>4822</td>\n",
       "      <td>559</td>\n",
       "      <td>1</td>\n",
       "      <td>1</td>\n",
       "      <td>0</td>\n",
       "      <td>1</td>\n",
       "      <td>a</td>\n",
       "      <td>...</td>\n",
       "      <td>NaN</td>\n",
       "      <td>NaN</td>\n",
       "      <td>nan</td>\n",
       "      <td>2015</td>\n",
       "      <td>Jul</td>\n",
       "      <td>31</td>\n",
       "      <td>31</td>\n",
       "      <td>3.0</td>\n",
       "      <td>NaN</td>\n",
       "      <td>0</td>\n",
       "    </tr>\n",
       "    <tr>\n",
       "      <th>...</th>\n",
       "      <td>...</td>\n",
       "      <td>...</td>\n",
       "      <td>...</td>\n",
       "      <td>...</td>\n",
       "      <td>...</td>\n",
       "      <td>...</td>\n",
       "      <td>...</td>\n",
       "      <td>...</td>\n",
       "      <td>...</td>\n",
       "      <td>...</td>\n",
       "      <td>...</td>\n",
       "      <td>...</td>\n",
       "      <td>...</td>\n",
       "      <td>...</td>\n",
       "      <td>...</td>\n",
       "      <td>...</td>\n",
       "      <td>...</td>\n",
       "      <td>...</td>\n",
       "      <td>...</td>\n",
       "      <td>...</td>\n",
       "      <td>...</td>\n",
       "    </tr>\n",
       "    <tr>\n",
       "      <th>1016776</th>\n",
       "      <td>682</td>\n",
       "      <td>1</td>\n",
       "      <td>2013-01-01</td>\n",
       "      <td>3375</td>\n",
       "      <td>566</td>\n",
       "      <td>1</td>\n",
       "      <td>0</td>\n",
       "      <td>a</td>\n",
       "      <td>1</td>\n",
       "      <td>b</td>\n",
       "      <td>...</td>\n",
       "      <td>NaN</td>\n",
       "      <td>NaN</td>\n",
       "      <td>nan</td>\n",
       "      <td>2013</td>\n",
       "      <td>Jan</td>\n",
       "      <td>1</td>\n",
       "      <td>1</td>\n",
       "      <td>76.0</td>\n",
       "      <td>NaN</td>\n",
       "      <td>0</td>\n",
       "    </tr>\n",
       "    <tr>\n",
       "      <th>1016827</th>\n",
       "      <td>733</td>\n",
       "      <td>1</td>\n",
       "      <td>2013-01-01</td>\n",
       "      <td>10765</td>\n",
       "      <td>2377</td>\n",
       "      <td>1</td>\n",
       "      <td>0</td>\n",
       "      <td>a</td>\n",
       "      <td>1</td>\n",
       "      <td>b</td>\n",
       "      <td>...</td>\n",
       "      <td>NaN</td>\n",
       "      <td>NaN</td>\n",
       "      <td>nan</td>\n",
       "      <td>2013</td>\n",
       "      <td>Jan</td>\n",
       "      <td>1</td>\n",
       "      <td>1</td>\n",
       "      <td>159.0</td>\n",
       "      <td>NaN</td>\n",
       "      <td>0</td>\n",
       "    </tr>\n",
       "    <tr>\n",
       "      <th>1016863</th>\n",
       "      <td>769</td>\n",
       "      <td>1</td>\n",
       "      <td>2013-01-01</td>\n",
       "      <td>5035</td>\n",
       "      <td>1248</td>\n",
       "      <td>1</td>\n",
       "      <td>0</td>\n",
       "      <td>a</td>\n",
       "      <td>1</td>\n",
       "      <td>b</td>\n",
       "      <td>...</td>\n",
       "      <td>48.0</td>\n",
       "      <td>2012.0</td>\n",
       "      <td>Jan,Apr,Jul,Oct</td>\n",
       "      <td>2013</td>\n",
       "      <td>Jan</td>\n",
       "      <td>1</td>\n",
       "      <td>1</td>\n",
       "      <td>NaN</td>\n",
       "      <td>0.25</td>\n",
       "      <td>1</td>\n",
       "    </tr>\n",
       "    <tr>\n",
       "      <th>1017042</th>\n",
       "      <td>948</td>\n",
       "      <td>1</td>\n",
       "      <td>2013-01-01</td>\n",
       "      <td>4491</td>\n",
       "      <td>1039</td>\n",
       "      <td>1</td>\n",
       "      <td>0</td>\n",
       "      <td>a</td>\n",
       "      <td>1</td>\n",
       "      <td>b</td>\n",
       "      <td>...</td>\n",
       "      <td>NaN</td>\n",
       "      <td>NaN</td>\n",
       "      <td>nan</td>\n",
       "      <td>2013</td>\n",
       "      <td>Jan</td>\n",
       "      <td>1</td>\n",
       "      <td>1</td>\n",
       "      <td>NaN</td>\n",
       "      <td>NaN</td>\n",
       "      <td>0</td>\n",
       "    </tr>\n",
       "    <tr>\n",
       "      <th>1017190</th>\n",
       "      <td>1097</td>\n",
       "      <td>1</td>\n",
       "      <td>2013-01-01</td>\n",
       "      <td>5961</td>\n",
       "      <td>1405</td>\n",
       "      <td>1</td>\n",
       "      <td>0</td>\n",
       "      <td>a</td>\n",
       "      <td>1</td>\n",
       "      <td>b</td>\n",
       "      <td>...</td>\n",
       "      <td>NaN</td>\n",
       "      <td>NaN</td>\n",
       "      <td>nan</td>\n",
       "      <td>2013</td>\n",
       "      <td>Jan</td>\n",
       "      <td>1</td>\n",
       "      <td>1</td>\n",
       "      <td>130.0</td>\n",
       "      <td>NaN</td>\n",
       "      <td>0</td>\n",
       "    </tr>\n",
       "  </tbody>\n",
       "</table>\n",
       "<p>844392 rows × 25 columns</p>\n",
       "</div>"
      ],
      "text/plain": [
       "         Store  DayOfWeek       Date  Sales  Customers  Open  Promo  \\\n",
       "0            1          4 2015-07-31   5263        555     1      1   \n",
       "1            2          4 2015-07-31   6064        625     1      1   \n",
       "2            3          4 2015-07-31   8314        821     1      1   \n",
       "3            4          4 2015-07-31  13995       1498     1      1   \n",
       "4            5          4 2015-07-31   4822        559     1      1   \n",
       "...        ...        ...        ...    ...        ...   ...    ...   \n",
       "1016776    682          1 2013-01-01   3375        566     1      0   \n",
       "1016827    733          1 2013-01-01  10765       2377     1      0   \n",
       "1016863    769          1 2013-01-01   5035       1248     1      0   \n",
       "1017042    948          1 2013-01-01   4491       1039     1      0   \n",
       "1017190   1097          1 2013-01-01   5961       1405     1      0   \n",
       "\n",
       "        StateHoliday  SchoolHoliday StoreType  ... Promo2SinceWeek  \\\n",
       "0                  0              1         c  ...             NaN   \n",
       "1                  0              1         a  ...            13.0   \n",
       "2                  0              1         a  ...            14.0   \n",
       "3                  0              1         c  ...             NaN   \n",
       "4                  0              1         a  ...             NaN   \n",
       "...              ...            ...       ...  ...             ...   \n",
       "1016776            a              1         b  ...             NaN   \n",
       "1016827            a              1         b  ...             NaN   \n",
       "1016863            a              1         b  ...            48.0   \n",
       "1017042            a              1         b  ...             NaN   \n",
       "1017190            a              1         b  ...             NaN   \n",
       "\n",
       "         Promo2SinceYear    PromoInterval  Year  Month  Day  WeekOfYear  \\\n",
       "0                    NaN              nan  2015    Jul   31          31   \n",
       "1                 2010.0  Jan,Apr,Jul,Oct  2015    Jul   31          31   \n",
       "2                 2011.0  Jan,Apr,Jul,Oct  2015    Jul   31          31   \n",
       "3                    NaN              nan  2015    Jul   31          31   \n",
       "4                    NaN              nan  2015    Jul   31          31   \n",
       "...                  ...              ...   ...    ...  ...         ...   \n",
       "1016776              NaN              nan  2013    Jan    1           1   \n",
       "1016827              NaN              nan  2013    Jan    1           1   \n",
       "1016863           2012.0  Jan,Apr,Jul,Oct  2013    Jan    1           1   \n",
       "1017042              NaN              nan  2013    Jan    1           1   \n",
       "1017190              NaN              nan  2013    Jan    1           1   \n",
       "\n",
       "        CompetitionOpen  PromoOpen IsPromoMonth  \n",
       "0                  82.0        NaN            0  \n",
       "1                  92.0      64.50            1  \n",
       "2                 103.0      52.25            1  \n",
       "3                  70.0        NaN            0  \n",
       "4                   3.0        NaN            0  \n",
       "...                 ...        ...          ...  \n",
       "1016776            76.0        NaN            0  \n",
       "1016827           159.0        NaN            0  \n",
       "1016863             NaN       0.25            1  \n",
       "1017042             NaN        NaN            0  \n",
       "1017190           130.0        NaN            0  \n",
       "\n",
       "[844392 rows x 25 columns]"
      ]
     },
     "execution_count": 16,
     "metadata": {},
     "output_type": "execute_result"
    }
   ],
   "source": [
    "feature_ext(train_open)"
   ]
  },
  {
   "cell_type": "code",
   "execution_count": 17,
   "id": "e5a0f6de",
   "metadata": {
    "execution": {
     "iopub.execute_input": "2022-03-04T05:04:17.137708Z",
     "iopub.status.busy": "2022-03-04T05:04:17.136983Z",
     "iopub.status.idle": "2022-03-04T05:04:17.141288Z",
     "shell.execute_reply": "2022-03-04T05:04:17.141717Z",
     "shell.execute_reply.started": "2022-03-03T16:31:02.911118Z"
    },
    "papermill": {
     "duration": 0.05417,
     "end_time": "2022-03-04T05:04:17.141895",
     "exception": false,
     "start_time": "2022-03-04T05:04:17.087725",
     "status": "completed"
    },
    "tags": []
   },
   "outputs": [],
   "source": [
    "def split_data(df):\n",
    "    df_ = df.drop('Date', axis = 1)\n",
    "    cols = df_.columns\n",
    "    num_cols = df_._get_numeric_data().columns #getting columns with numeric data\n",
    "    cat_cols = list(set(cols) - set(num_cols)) #getting the columns with categorical data\n",
    "    num_df = df[num_cols]\n",
    "    cat_df = df[cat_cols]\n",
    "    \n",
    "    return num_df, cat_df"
   ]
  },
  {
   "cell_type": "code",
   "execution_count": 18,
   "id": "fdccac3d",
   "metadata": {
    "execution": {
     "iopub.execute_input": "2022-03-04T05:04:17.235754Z",
     "iopub.status.busy": "2022-03-04T05:04:17.235088Z",
     "iopub.status.idle": "2022-03-04T05:04:17.632428Z",
     "shell.execute_reply": "2022-03-04T05:04:17.634441Z",
     "shell.execute_reply.started": "2022-03-03T16:31:02.916566Z"
    },
    "papermill": {
     "duration": 0.447997,
     "end_time": "2022-03-04T05:04:17.634754",
     "exception": false,
     "start_time": "2022-03-04T05:04:17.186757",
     "status": "completed"
    },
    "tags": []
   },
   "outputs": [],
   "source": [
    "num_df, cat_df = split_data(train_open)"
   ]
  },
  {
   "cell_type": "code",
   "execution_count": 19,
   "id": "61f2cbed",
   "metadata": {
    "execution": {
     "iopub.execute_input": "2022-03-04T05:04:17.730362Z",
     "iopub.status.busy": "2022-03-04T05:04:17.728966Z",
     "iopub.status.idle": "2022-03-04T05:04:17.758759Z",
     "shell.execute_reply": "2022-03-04T05:04:17.759186Z",
     "shell.execute_reply.started": "2022-03-03T16:31:03.153788Z"
    },
    "papermill": {
     "duration": 0.079157,
     "end_time": "2022-03-04T05:04:17.759353",
     "exception": false,
     "start_time": "2022-03-04T05:04:17.680196",
     "status": "completed"
    },
    "tags": []
   },
   "outputs": [
    {
     "data": {
      "text/plain": [
       "Store                             0\n",
       "DayOfWeek                         0\n",
       "Sales                             0\n",
       "Customers                         0\n",
       "Open                              0\n",
       "Promo                             0\n",
       "SchoolHoliday                     0\n",
       "CompetitionDistance            2186\n",
       "CompetitionOpenSinceMonth    268619\n",
       "CompetitionOpenSinceYear     268619\n",
       "Promo2                            0\n",
       "Promo2SinceWeek              423307\n",
       "Promo2SinceYear              423307\n",
       "Year                              0\n",
       "Day                               0\n",
       "WeekOfYear                        0\n",
       "CompetitionOpen              268619\n",
       "PromoOpen                    423307\n",
       "IsPromoMonth                      0\n",
       "dtype: int64"
      ]
     },
     "execution_count": 19,
     "metadata": {},
     "output_type": "execute_result"
    }
   ],
   "source": [
    "#Looking at the null values in the num_df\n",
    "num_df.isnull().sum()"
   ]
  },
  {
   "cell_type": "code",
   "execution_count": 20,
   "id": "106c0346",
   "metadata": {
    "execution": {
     "iopub.execute_input": "2022-03-04T05:04:17.851299Z",
     "iopub.status.busy": "2022-03-04T05:04:17.850683Z",
     "iopub.status.idle": "2022-03-04T05:04:17.988942Z",
     "shell.execute_reply": "2022-03-04T05:04:17.988451Z",
     "shell.execute_reply.started": "2022-03-03T16:31:03.177242Z"
    },
    "papermill": {
     "duration": 0.185907,
     "end_time": "2022-03-04T05:04:17.989093",
     "exception": false,
     "start_time": "2022-03-04T05:04:17.803186",
     "status": "completed"
    },
    "tags": []
   },
   "outputs": [],
   "source": [
    "#we can fill the null values with 0 in all the columns except the CompetitionDistance column\n",
    "#We will fill the CompetitionDistance column with median value of the distance\n",
    "#Then we will scale the numerical data using MinMax Scaler \n",
    "from sklearn.preprocessing import MinMaxScaler\n",
    "\n",
    "def fix_num(df):\n",
    "    \n",
    "    median_dist = df['CompetitionDistance'].median()\n",
    "    df['CompetitionDistance'] = df['CompetitionDistance'].fillna(value = median_dist)\n",
    "    \n",
    "    df = df.fillna(value = 0)\n",
    "        \n",
    "    scaler = MinMaxScaler().fit(df)\n",
    "    scaled_cols = list(df.columns)\n",
    "    df[scaled_cols] = scaler.transform(df)\n",
    "    \n",
    "    df = df[scaled_cols]\n",
    "        \n",
    "    return df"
   ]
  },
  {
   "cell_type": "code",
   "execution_count": 21,
   "id": "8298a12e",
   "metadata": {
    "execution": {
     "iopub.execute_input": "2022-03-04T05:04:18.084149Z",
     "iopub.status.busy": "2022-03-04T05:04:18.083178Z",
     "iopub.status.idle": "2022-03-04T05:04:18.725139Z",
     "shell.execute_reply": "2022-03-04T05:04:18.724587Z",
     "shell.execute_reply.started": "2022-03-03T16:31:03.277734Z"
    },
    "papermill": {
     "duration": 0.691666,
     "end_time": "2022-03-04T05:04:18.725292",
     "exception": false,
     "start_time": "2022-03-04T05:04:18.033626",
     "status": "completed"
    },
    "tags": []
   },
   "outputs": [
    {
     "name": "stderr",
     "output_type": "stream",
     "text": [
      "/opt/conda/lib/python3.7/site-packages/ipykernel_launcher.py:9: SettingWithCopyWarning:\n",
      "\n",
      "\n",
      "A value is trying to be set on a copy of a slice from a DataFrame.\n",
      "Try using .loc[row_indexer,col_indexer] = value instead\n",
      "\n",
      "See the caveats in the documentation: https://pandas.pydata.org/pandas-docs/stable/user_guide/indexing.html#returning-a-view-versus-a-copy\n",
      "\n"
     ]
    }
   ],
   "source": [
    "num_df = fix_num(num_df)"
   ]
  },
  {
   "cell_type": "code",
   "execution_count": 22,
   "id": "a3cc8774",
   "metadata": {
    "execution": {
     "iopub.execute_input": "2022-03-04T05:04:18.821328Z",
     "iopub.status.busy": "2022-03-04T05:04:18.820314Z",
     "iopub.status.idle": "2022-03-04T05:04:18.822556Z",
     "shell.execute_reply": "2022-03-04T05:04:18.822940Z",
     "shell.execute_reply.started": "2022-03-03T16:31:03.625458Z"
    },
    "papermill": {
     "duration": 0.052871,
     "end_time": "2022-03-04T05:04:18.823135",
     "exception": false,
     "start_time": "2022-03-04T05:04:18.770264",
     "status": "completed"
    },
    "tags": []
   },
   "outputs": [],
   "source": [
    "#we will encode the values in categorical columns using OneHotEncoder\n",
    "from sklearn.preprocessing import OneHotEncoder\n",
    "\n",
    "#fixing categorical df\n",
    "def fix_cat(df):\n",
    "    \n",
    "    df = df.drop('PromoInterval', axis = 1)\n",
    "    \n",
    "    df = df.fillna(method = 'ffill') #filling the null values with forward fill method\n",
    "    \n",
    "    encoder = OneHotEncoder(sparse = False).fit(df)\n",
    "    encoded_cols = list(encoder.get_feature_names(df.columns))\n",
    "    \n",
    "    df[encoded_cols] = encoder.transform(df)\n",
    "    \n",
    "    df = df[encoded_cols]\n",
    "    \n",
    "    return df    "
   ]
  },
  {
   "cell_type": "code",
   "execution_count": 23,
   "id": "062519a5",
   "metadata": {
    "execution": {
     "iopub.execute_input": "2022-03-04T05:04:18.916050Z",
     "iopub.status.busy": "2022-03-04T05:04:18.915124Z",
     "iopub.status.idle": "2022-03-04T05:04:20.565766Z",
     "shell.execute_reply": "2022-03-04T05:04:20.565233Z",
     "shell.execute_reply.started": "2022-03-03T16:31:03.632323Z"
    },
    "papermill": {
     "duration": 1.698317,
     "end_time": "2022-03-04T05:04:20.565905",
     "exception": false,
     "start_time": "2022-03-04T05:04:18.867588",
     "status": "completed"
    },
    "tags": []
   },
   "outputs": [],
   "source": [
    "cat_df = fix_cat(cat_df)"
   ]
  },
  {
   "cell_type": "code",
   "execution_count": 24,
   "id": "2ce9d170",
   "metadata": {
    "execution": {
     "iopub.execute_input": "2022-03-04T05:04:20.658338Z",
     "iopub.status.busy": "2022-03-04T05:04:20.657723Z",
     "iopub.status.idle": "2022-03-04T05:04:20.661197Z",
     "shell.execute_reply": "2022-03-04T05:04:20.661606Z",
     "shell.execute_reply.started": "2022-03-03T16:31:05.232185Z"
    },
    "papermill": {
     "duration": 0.051534,
     "end_time": "2022-03-04T05:04:20.661776",
     "exception": false,
     "start_time": "2022-03-04T05:04:20.610242",
     "status": "completed"
    },
    "tags": []
   },
   "outputs": [],
   "source": [
    "#Now we will join the three dataset again to finally get our dataset apt for Machine Learning Model\n",
    "\n",
    "def join_all(df1, df2):\n",
    "    \n",
    "    df = df1.join(df2)\n",
    "            \n",
    "    return df"
   ]
  },
  {
   "cell_type": "code",
   "execution_count": 25,
   "id": "473bbc92",
   "metadata": {
    "execution": {
     "iopub.execute_input": "2022-03-04T05:04:20.754762Z",
     "iopub.status.busy": "2022-03-04T05:04:20.754141Z",
     "iopub.status.idle": "2022-03-04T05:04:20.872406Z",
     "shell.execute_reply": "2022-03-04T05:04:20.871714Z",
     "shell.execute_reply.started": "2022-03-03T16:31:05.237229Z"
    },
    "papermill": {
     "duration": 0.166912,
     "end_time": "2022-03-04T05:04:20.872561",
     "exception": false,
     "start_time": "2022-03-04T05:04:20.705649",
     "status": "completed"
    },
    "tags": []
   },
   "outputs": [],
   "source": [
    "train_df = join_all(num_df, cat_df)"
   ]
  },
  {
   "cell_type": "code",
   "execution_count": 26,
   "id": "f173aa3b",
   "metadata": {
    "execution": {
     "iopub.execute_input": "2022-03-04T05:04:20.989932Z",
     "iopub.status.busy": "2022-03-04T05:04:20.988998Z",
     "iopub.status.idle": "2022-03-04T05:04:20.992512Z",
     "shell.execute_reply": "2022-03-04T05:04:20.992953Z",
     "shell.execute_reply.started": "2022-03-03T16:31:05.291072Z"
    },
    "papermill": {
     "duration": 0.074818,
     "end_time": "2022-03-04T05:04:20.993148",
     "exception": false,
     "start_time": "2022-03-04T05:04:20.918330",
     "status": "completed"
    },
    "tags": []
   },
   "outputs": [
    {
     "data": {
      "text/html": [
       "<div>\n",
       "<style scoped>\n",
       "    .dataframe tbody tr th:only-of-type {\n",
       "        vertical-align: middle;\n",
       "    }\n",
       "\n",
       "    .dataframe tbody tr th {\n",
       "        vertical-align: top;\n",
       "    }\n",
       "\n",
       "    .dataframe thead th {\n",
       "        text-align: right;\n",
       "    }\n",
       "</style>\n",
       "<table border=\"1\" class=\"dataframe\">\n",
       "  <thead>\n",
       "    <tr style=\"text-align: right;\">\n",
       "      <th></th>\n",
       "      <th>Store</th>\n",
       "      <th>DayOfWeek</th>\n",
       "      <th>Sales</th>\n",
       "      <th>Customers</th>\n",
       "      <th>Open</th>\n",
       "      <th>Promo</th>\n",
       "      <th>SchoolHoliday</th>\n",
       "      <th>CompetitionDistance</th>\n",
       "      <th>CompetitionOpenSinceMonth</th>\n",
       "      <th>CompetitionOpenSinceYear</th>\n",
       "      <th>...</th>\n",
       "      <th>Month_Oct</th>\n",
       "      <th>Month_Sept</th>\n",
       "      <th>StoreType_a</th>\n",
       "      <th>StoreType_b</th>\n",
       "      <th>StoreType_c</th>\n",
       "      <th>StoreType_d</th>\n",
       "      <th>StateHoliday_0</th>\n",
       "      <th>StateHoliday_a</th>\n",
       "      <th>StateHoliday_b</th>\n",
       "      <th>StateHoliday_c</th>\n",
       "    </tr>\n",
       "  </thead>\n",
       "  <tbody>\n",
       "    <tr>\n",
       "      <th>0</th>\n",
       "      <td>0.000000</td>\n",
       "      <td>0.666667</td>\n",
       "      <td>0.126664</td>\n",
       "      <td>0.075122</td>\n",
       "      <td>0.0</td>\n",
       "      <td>1.0</td>\n",
       "      <td>1.0</td>\n",
       "      <td>0.016482</td>\n",
       "      <td>0.750000</td>\n",
       "      <td>0.996526</td>\n",
       "      <td>...</td>\n",
       "      <td>0.0</td>\n",
       "      <td>0.0</td>\n",
       "      <td>0.0</td>\n",
       "      <td>0.0</td>\n",
       "      <td>1.0</td>\n",
       "      <td>0.0</td>\n",
       "      <td>1.0</td>\n",
       "      <td>0.0</td>\n",
       "      <td>0.0</td>\n",
       "      <td>0.0</td>\n",
       "    </tr>\n",
       "    <tr>\n",
       "      <th>1</th>\n",
       "      <td>0.000898</td>\n",
       "      <td>0.666667</td>\n",
       "      <td>0.145941</td>\n",
       "      <td>0.084597</td>\n",
       "      <td>0.0</td>\n",
       "      <td>1.0</td>\n",
       "      <td>1.0</td>\n",
       "      <td>0.007252</td>\n",
       "      <td>0.916667</td>\n",
       "      <td>0.996030</td>\n",
       "      <td>...</td>\n",
       "      <td>0.0</td>\n",
       "      <td>0.0</td>\n",
       "      <td>1.0</td>\n",
       "      <td>0.0</td>\n",
       "      <td>0.0</td>\n",
       "      <td>0.0</td>\n",
       "      <td>1.0</td>\n",
       "      <td>0.0</td>\n",
       "      <td>0.0</td>\n",
       "      <td>0.0</td>\n",
       "    </tr>\n",
       "    <tr>\n",
       "      <th>2</th>\n",
       "      <td>0.001795</td>\n",
       "      <td>0.666667</td>\n",
       "      <td>0.200091</td>\n",
       "      <td>0.111126</td>\n",
       "      <td>0.0</td>\n",
       "      <td>1.0</td>\n",
       "      <td>1.0</td>\n",
       "      <td>0.186050</td>\n",
       "      <td>1.000000</td>\n",
       "      <td>0.995533</td>\n",
       "      <td>...</td>\n",
       "      <td>0.0</td>\n",
       "      <td>0.0</td>\n",
       "      <td>1.0</td>\n",
       "      <td>0.0</td>\n",
       "      <td>0.0</td>\n",
       "      <td>0.0</td>\n",
       "      <td>1.0</td>\n",
       "      <td>0.0</td>\n",
       "      <td>0.0</td>\n",
       "      <td>0.0</td>\n",
       "    </tr>\n",
       "    <tr>\n",
       "      <th>3</th>\n",
       "      <td>0.002693</td>\n",
       "      <td>0.666667</td>\n",
       "      <td>0.336815</td>\n",
       "      <td>0.202761</td>\n",
       "      <td>0.0</td>\n",
       "      <td>1.0</td>\n",
       "      <td>1.0</td>\n",
       "      <td>0.007911</td>\n",
       "      <td>0.750000</td>\n",
       "      <td>0.997022</td>\n",
       "      <td>...</td>\n",
       "      <td>0.0</td>\n",
       "      <td>0.0</td>\n",
       "      <td>0.0</td>\n",
       "      <td>0.0</td>\n",
       "      <td>1.0</td>\n",
       "      <td>0.0</td>\n",
       "      <td>1.0</td>\n",
       "      <td>0.0</td>\n",
       "      <td>0.0</td>\n",
       "      <td>0.0</td>\n",
       "    </tr>\n",
       "    <tr>\n",
       "      <th>4</th>\n",
       "      <td>0.003591</td>\n",
       "      <td>0.666667</td>\n",
       "      <td>0.116050</td>\n",
       "      <td>0.075663</td>\n",
       "      <td>0.0</td>\n",
       "      <td>1.0</td>\n",
       "      <td>1.0</td>\n",
       "      <td>0.394119</td>\n",
       "      <td>0.333333</td>\n",
       "      <td>1.000000</td>\n",
       "      <td>...</td>\n",
       "      <td>0.0</td>\n",
       "      <td>0.0</td>\n",
       "      <td>1.0</td>\n",
       "      <td>0.0</td>\n",
       "      <td>0.0</td>\n",
       "      <td>0.0</td>\n",
       "      <td>1.0</td>\n",
       "      <td>0.0</td>\n",
       "      <td>0.0</td>\n",
       "      <td>0.0</td>\n",
       "    </tr>\n",
       "  </tbody>\n",
       "</table>\n",
       "<p>5 rows × 42 columns</p>\n",
       "</div>"
      ],
      "text/plain": [
       "      Store  DayOfWeek     Sales  Customers  Open  Promo  SchoolHoliday  \\\n",
       "0  0.000000   0.666667  0.126664   0.075122   0.0    1.0            1.0   \n",
       "1  0.000898   0.666667  0.145941   0.084597   0.0    1.0            1.0   \n",
       "2  0.001795   0.666667  0.200091   0.111126   0.0    1.0            1.0   \n",
       "3  0.002693   0.666667  0.336815   0.202761   0.0    1.0            1.0   \n",
       "4  0.003591   0.666667  0.116050   0.075663   0.0    1.0            1.0   \n",
       "\n",
       "   CompetitionDistance  CompetitionOpenSinceMonth  CompetitionOpenSinceYear  \\\n",
       "0             0.016482                   0.750000                  0.996526   \n",
       "1             0.007252                   0.916667                  0.996030   \n",
       "2             0.186050                   1.000000                  0.995533   \n",
       "3             0.007911                   0.750000                  0.997022   \n",
       "4             0.394119                   0.333333                  1.000000   \n",
       "\n",
       "   ...  Month_Oct  Month_Sept  StoreType_a  StoreType_b  StoreType_c  \\\n",
       "0  ...        0.0         0.0          0.0          0.0          1.0   \n",
       "1  ...        0.0         0.0          1.0          0.0          0.0   \n",
       "2  ...        0.0         0.0          1.0          0.0          0.0   \n",
       "3  ...        0.0         0.0          0.0          0.0          1.0   \n",
       "4  ...        0.0         0.0          1.0          0.0          0.0   \n",
       "\n",
       "   StoreType_d  StateHoliday_0  StateHoliday_a  StateHoliday_b  StateHoliday_c  \n",
       "0          0.0             1.0             0.0             0.0             0.0  \n",
       "1          0.0             1.0             0.0             0.0             0.0  \n",
       "2          0.0             1.0             0.0             0.0             0.0  \n",
       "3          0.0             1.0             0.0             0.0             0.0  \n",
       "4          0.0             1.0             0.0             0.0             0.0  \n",
       "\n",
       "[5 rows x 42 columns]"
      ]
     },
     "execution_count": 26,
     "metadata": {},
     "output_type": "execute_result"
    }
   ],
   "source": [
    "train_df.head()"
   ]
  },
  {
   "cell_type": "markdown",
   "id": "6fbab3fd",
   "metadata": {
    "papermill": {
     "duration": 0.044341,
     "end_time": "2022-03-04T05:04:21.081980",
     "exception": false,
     "start_time": "2022-03-04T05:04:21.037639",
     "status": "completed"
    },
    "tags": []
   },
   "source": [
    "# Modelling and Testing"
   ]
  },
  {
   "cell_type": "markdown",
   "id": "efc02b4d",
   "metadata": {
    "papermill": {
     "duration": 0.045236,
     "end_time": "2022-03-04T05:04:21.172005",
     "exception": false,
     "start_time": "2022-03-04T05:04:21.126769",
     "status": "completed"
    },
    "tags": []
   },
   "source": [
    "To start with modelling and testing process we will split the train_df dataset into training and testing part.\n",
    "\n",
    "Here Sale column is our target variable and rest of the columns are our feature variable."
   ]
  },
  {
   "cell_type": "code",
   "execution_count": 27,
   "id": "f65dcc57",
   "metadata": {
    "execution": {
     "iopub.execute_input": "2022-03-04T05:04:21.265215Z",
     "iopub.status.busy": "2022-03-04T05:04:21.263541Z",
     "iopub.status.idle": "2022-03-04T05:04:22.164384Z",
     "shell.execute_reply": "2022-03-04T05:04:22.163834Z",
     "shell.execute_reply.started": "2022-03-03T16:31:05.318329Z"
    },
    "papermill": {
     "duration": 0.947699,
     "end_time": "2022-03-04T05:04:22.164531",
     "exception": false,
     "start_time": "2022-03-04T05:04:21.216832",
     "status": "completed"
    },
    "tags": []
   },
   "outputs": [],
   "source": [
    "from sklearn.model_selection import train_test_split\n",
    "\n",
    "X = train_df.drop('Sales', axis = 1)\n",
    "\n",
    "y = train_df['Sales']\n",
    "\n",
    "X_train, X_test, y_train, y_test = train_test_split(X, y, test_size = 0.30, random_state = 101)"
   ]
  },
  {
   "cell_type": "markdown",
   "id": "f620fc12",
   "metadata": {
    "papermill": {
     "duration": 0.044353,
     "end_time": "2022-03-04T05:04:22.253757",
     "exception": false,
     "start_time": "2022-03-04T05:04:22.209404",
     "status": "completed"
    },
    "tags": []
   },
   "source": [
    "First we will run a plain linear regression and record our baseline model performance score and then we will run other models and compare it with our baseline score."
   ]
  },
  {
   "cell_type": "code",
   "execution_count": 28,
   "id": "d74e422b",
   "metadata": {
    "execution": {
     "iopub.execute_input": "2022-03-04T05:04:22.348960Z",
     "iopub.status.busy": "2022-03-04T05:04:22.347941Z",
     "iopub.status.idle": "2022-03-04T05:04:22.618306Z",
     "shell.execute_reply": "2022-03-04T05:04:22.617760Z",
     "shell.execute_reply.started": "2022-03-03T16:31:05.828867Z"
    },
    "papermill": {
     "duration": 0.31986,
     "end_time": "2022-03-04T05:04:22.618472",
     "exception": false,
     "start_time": "2022-03-04T05:04:22.298612",
     "status": "completed"
    },
    "tags": []
   },
   "outputs": [],
   "source": [
    "import time\n",
    "from sklearn.linear_model import LinearRegression,SGDRegressor\n",
    "from sklearn.ensemble import RandomForestRegressor\n",
    "from sklearn.pipeline import Pipeline\n",
    "from sklearn.metrics import mean_squared_error\n",
    "from xgboost import XGBRegressor"
   ]
  },
  {
   "cell_type": "code",
   "execution_count": 29,
   "id": "4ebc93b3",
   "metadata": {
    "execution": {
     "iopub.execute_input": "2022-03-04T05:04:22.712902Z",
     "iopub.status.busy": "2022-03-04T05:04:22.712338Z",
     "iopub.status.idle": "2022-03-04T05:04:22.715016Z",
     "shell.execute_reply": "2022-03-04T05:04:22.714467Z",
     "shell.execute_reply.started": "2022-03-03T16:31:06.031095Z"
    },
    "papermill": {
     "duration": 0.051192,
     "end_time": "2022-03-04T05:04:22.715176",
     "exception": false,
     "start_time": "2022-03-04T05:04:22.663984",
     "status": "completed"
    },
    "tags": []
   },
   "outputs": [],
   "source": [
    "#Initialize Linear Regression\n",
    "lr = LinearRegression()"
   ]
  },
  {
   "cell_type": "code",
   "execution_count": 30,
   "id": "d2e10333",
   "metadata": {
    "execution": {
     "iopub.execute_input": "2022-03-04T05:04:22.814529Z",
     "iopub.status.busy": "2022-03-04T05:04:22.813244Z",
     "iopub.status.idle": "2022-03-04T05:04:23.748878Z",
     "shell.execute_reply": "2022-03-04T05:04:23.749929Z",
     "shell.execute_reply.started": "2022-03-03T16:31:06.03899Z"
    },
    "papermill": {
     "duration": 0.988615,
     "end_time": "2022-03-04T05:04:23.750213",
     "exception": false,
     "start_time": "2022-03-04T05:04:22.761598",
     "status": "completed"
    },
    "tags": []
   },
   "outputs": [
    {
     "name": "stdout",
     "output_type": "stream",
     "text": [
      "Mean Squared Error:  0.030543778570396037\n"
     ]
    }
   ],
   "source": [
    "lr.fit(X_train, y_train)\n",
    "pred = lr.predict(X_test)\n",
    "\n",
    "print(\"Mean Squared Error: \", np.sqrt(mean_squared_error(y_test, pred)))"
   ]
  },
  {
   "cell_type": "code",
   "execution_count": 31,
   "id": "b609ccb8",
   "metadata": {
    "execution": {
     "iopub.execute_input": "2022-03-04T05:04:23.908287Z",
     "iopub.status.busy": "2022-03-04T05:04:23.907004Z",
     "iopub.status.idle": "2022-03-04T05:18:27.848888Z",
     "shell.execute_reply": "2022-03-04T05:18:27.849576Z",
     "shell.execute_reply.started": "2022-03-03T16:31:06.733168Z"
    },
    "papermill": {
     "duration": 844.007411,
     "end_time": "2022-03-04T05:18:27.849764",
     "exception": false,
     "start_time": "2022-03-04T05:04:23.842353",
     "status": "completed"
    },
    "tags": []
   },
   "outputs": [],
   "source": [
    "#let's prepare the model pipelines\n",
    "\n",
    "def model_perform(model, X_train, X_test, y_train, y_test):\n",
    "    \n",
    "    start = time.time()\n",
    "    model = model.fit(X_train, y_train)\n",
    "    pred = model.predict(X_test)\n",
    "    score = np.sqrt(mean_squared_error(y_test, pred))\n",
    "    \n",
    "    end = time.time()\n",
    "    time_taken  = end - start\n",
    "    \n",
    "    return score, time_taken\n",
    "\n",
    "pipelines = [('RandomForesstRegressor', RandomForestRegressor()),\n",
    "             ('Linear Regression', LinearRegression()),\n",
    "             ('SGD Regressor', SGDRegressor()),\n",
    "              ('XGBoostRegressor', XGBRegressor())]\n",
    "\n",
    "Scores = {'Model_name': [],\n",
    "          'Score': [],\n",
    "          'Time_taken_in_secs': []}\n",
    "\n",
    "for model_name, model in pipelines:\n",
    "  score, time_taken = model_perform(model, X_train, X_test, y_train, y_test)\n",
    "  Scores['Model_name'].append(model_name)\n",
    "  Scores['Score'].append(score)\n",
    "  Scores['Time_taken_in_secs'].append(time_taken)"
   ]
  },
  {
   "cell_type": "code",
   "execution_count": 32,
   "id": "6a6a3223",
   "metadata": {
    "execution": {
     "iopub.execute_input": "2022-03-04T05:18:27.947553Z",
     "iopub.status.busy": "2022-03-04T05:18:27.945436Z",
     "iopub.status.idle": "2022-03-04T05:18:27.949876Z",
     "shell.execute_reply": "2022-03-04T05:18:27.950443Z",
     "shell.execute_reply.started": "2022-03-03T16:43:10.320255Z"
    },
    "papermill": {
     "duration": 0.054347,
     "end_time": "2022-03-04T05:18:27.950602",
     "exception": false,
     "start_time": "2022-03-04T05:18:27.896255",
     "status": "completed"
    },
    "tags": []
   },
   "outputs": [],
   "source": [
    "Scores = pd.DataFrame.from_dict(Scores)"
   ]
  },
  {
   "cell_type": "code",
   "execution_count": 33,
   "id": "8d4b32b8",
   "metadata": {
    "execution": {
     "iopub.execute_input": "2022-03-04T05:18:28.047079Z",
     "iopub.status.busy": "2022-03-04T05:18:28.046133Z",
     "iopub.status.idle": "2022-03-04T05:18:28.055675Z",
     "shell.execute_reply": "2022-03-04T05:18:28.056085Z",
     "shell.execute_reply.started": "2022-03-03T16:43:10.326918Z"
    },
    "papermill": {
     "duration": 0.059041,
     "end_time": "2022-03-04T05:18:28.056281",
     "exception": false,
     "start_time": "2022-03-04T05:18:27.997240",
     "status": "completed"
    },
    "tags": []
   },
   "outputs": [
    {
     "data": {
      "text/html": [
       "<div>\n",
       "<style scoped>\n",
       "    .dataframe tbody tr th:only-of-type {\n",
       "        vertical-align: middle;\n",
       "    }\n",
       "\n",
       "    .dataframe tbody tr th {\n",
       "        vertical-align: top;\n",
       "    }\n",
       "\n",
       "    .dataframe thead th {\n",
       "        text-align: right;\n",
       "    }\n",
       "</style>\n",
       "<table border=\"1\" class=\"dataframe\">\n",
       "  <thead>\n",
       "    <tr style=\"text-align: right;\">\n",
       "      <th></th>\n",
       "      <th>Model_name</th>\n",
       "      <th>Score</th>\n",
       "      <th>Time_taken_in_secs</th>\n",
       "    </tr>\n",
       "  </thead>\n",
       "  <tbody>\n",
       "    <tr>\n",
       "      <th>0</th>\n",
       "      <td>RandomForesstRegressor</td>\n",
       "      <td>0.011538</td>\n",
       "      <td>776.783935</td>\n",
       "    </tr>\n",
       "    <tr>\n",
       "      <th>1</th>\n",
       "      <td>Linear Regression</td>\n",
       "      <td>0.030544</td>\n",
       "      <td>0.939530</td>\n",
       "    </tr>\n",
       "    <tr>\n",
       "      <th>2</th>\n",
       "      <td>SGD Regressor</td>\n",
       "      <td>0.031789</td>\n",
       "      <td>1.466679</td>\n",
       "    </tr>\n",
       "    <tr>\n",
       "      <th>3</th>\n",
       "      <td>XGBoostRegressor</td>\n",
       "      <td>0.012911</td>\n",
       "      <td>64.751569</td>\n",
       "    </tr>\n",
       "  </tbody>\n",
       "</table>\n",
       "</div>"
      ],
      "text/plain": [
       "               Model_name     Score  Time_taken_in_secs\n",
       "0  RandomForesstRegressor  0.011538          776.783935\n",
       "1       Linear Regression  0.030544            0.939530\n",
       "2           SGD Regressor  0.031789            1.466679\n",
       "3        XGBoostRegressor  0.012911           64.751569"
      ]
     },
     "execution_count": 33,
     "metadata": {},
     "output_type": "execute_result"
    }
   ],
   "source": [
    "Scores"
   ]
  },
  {
   "cell_type": "markdown",
   "id": "48704640",
   "metadata": {
    "papermill": {
     "duration": 0.046309,
     "end_time": "2022-03-04T05:18:28.149036",
     "exception": false,
     "start_time": "2022-03-04T05:18:28.102727",
     "status": "completed"
    },
    "tags": []
   },
   "source": [
    "Our Best models from the above are Random Forrest and XGBoost. However, XGBoost took a lot less time, so we will do the Hyper Parameter tuning using K-Fold cross-validation with the help of Grid-Search CV"
   ]
  },
  {
   "cell_type": "markdown",
   "id": "e6c96c62",
   "metadata": {
    "papermill": {
     "duration": 0.046773,
     "end_time": "2022-03-04T05:18:28.242722",
     "exception": false,
     "start_time": "2022-03-04T05:18:28.195949",
     "status": "completed"
    },
    "tags": []
   },
   "source": [
    "# Hyper Parameter Tuning"
   ]
  },
  {
   "cell_type": "code",
   "execution_count": 34,
   "id": "4aa32aca",
   "metadata": {
    "execution": {
     "iopub.execute_input": "2022-03-04T05:18:28.340439Z",
     "iopub.status.busy": "2022-03-04T05:18:28.339424Z",
     "iopub.status.idle": "2022-03-04T05:18:28.343017Z",
     "shell.execute_reply": "2022-03-04T05:18:28.343486Z",
     "shell.execute_reply.started": "2022-03-03T16:43:10.345589Z"
    },
    "papermill": {
     "duration": 0.053794,
     "end_time": "2022-03-04T05:18:28.343647",
     "exception": false,
     "start_time": "2022-03-04T05:18:28.289853",
     "status": "completed"
    },
    "tags": []
   },
   "outputs": [],
   "source": [
    "from sklearn.model_selection import GridSearchCV"
   ]
  },
  {
   "cell_type": "code",
   "execution_count": 35,
   "id": "c74dc07b",
   "metadata": {
    "execution": {
     "iopub.execute_input": "2022-03-04T05:18:28.443190Z",
     "iopub.status.busy": "2022-03-04T05:18:28.442552Z",
     "iopub.status.idle": "2022-03-04T05:18:28.444045Z",
     "shell.execute_reply": "2022-03-04T05:18:28.444581Z",
     "shell.execute_reply.started": "2022-03-03T16:43:10.355557Z"
    },
    "papermill": {
     "duration": 0.054081,
     "end_time": "2022-03-04T05:18:28.444741",
     "exception": false,
     "start_time": "2022-03-04T05:18:28.390660",
     "status": "completed"
    },
    "tags": []
   },
   "outputs": [],
   "source": [
    "param_grid = {'n_estimators': [50, 100, 250],\n",
    "              'learning_rate': [0.01, 0.1, 1.0],\n",
    "              'max_depth': [2, 5, 10]\n",
    "              }\n",
    "\n",
    "xgb_grid = GridSearchCV(estimator = XGBRegressor(), param_grid = param_grid, \n",
    "                        scoring='neg_mean_squared_error',\n",
    "                        cv = 5, n_jobs = -1, verbose=2)"
   ]
  },
  {
   "cell_type": "markdown",
   "id": "e93ea3b9",
   "metadata": {
    "papermill": {
     "duration": 0.045559,
     "end_time": "2022-03-04T05:18:28.536304",
     "exception": false,
     "start_time": "2022-03-04T05:18:28.490745",
     "status": "completed"
    },
    "tags": []
   },
   "source": [
    "Running the grid search cv with 5 fold cross validation on whole dataset will take time. We will use 10% of the training dataset to find the best parameters and then we will apply the best parameters to full dataset. "
   ]
  },
  {
   "cell_type": "code",
   "execution_count": 36,
   "id": "dc8903a1",
   "metadata": {
    "execution": {
     "iopub.execute_input": "2022-03-04T05:18:28.631752Z",
     "iopub.status.busy": "2022-03-04T05:18:28.631213Z",
     "iopub.status.idle": "2022-03-04T05:18:28.634981Z",
     "shell.execute_reply": "2022-03-04T05:18:28.635456Z",
     "shell.execute_reply.started": "2022-03-03T16:49:49.661333Z"
    },
    "papermill": {
     "duration": 0.05267,
     "end_time": "2022-03-04T05:18:28.635608",
     "exception": false,
     "start_time": "2022-03-04T05:18:28.582938",
     "status": "completed"
    },
    "tags": []
   },
   "outputs": [],
   "source": [
    "X_val = X_train.iloc[:100001]\n",
    "y_val = y_train.iloc[:100001]"
   ]
  },
  {
   "cell_type": "code",
   "execution_count": 37,
   "id": "6b8e581b",
   "metadata": {
    "execution": {
     "iopub.execute_input": "2022-03-04T05:18:28.729840Z",
     "iopub.status.busy": "2022-03-04T05:18:28.729259Z",
     "iopub.status.idle": "2022-03-04T07:19:52.385640Z",
     "shell.execute_reply": "2022-03-04T07:19:52.386447Z"
    },
    "papermill": {
     "duration": 7283.706375,
     "end_time": "2022-03-04T07:19:52.387537",
     "exception": false,
     "start_time": "2022-03-04T05:18:28.681162",
     "status": "completed"
    },
    "tags": []
   },
   "outputs": [
    {
     "name": "stdout",
     "output_type": "stream",
     "text": [
      "Fitting 5 folds for each of 27 candidates, totalling 135 fits\n"
     ]
    },
    {
     "name": "stderr",
     "output_type": "stream",
     "text": [
      "[Parallel(n_jobs=-1)]: Using backend LokyBackend with 4 concurrent workers.\n",
      "[Parallel(n_jobs=-1)]: Done  33 tasks      | elapsed: 13.9min\n"
     ]
    },
    {
     "name": "stdout",
     "output_type": "stream",
     "text": [
      "[CV] learning_rate=0.01, max_depth=2, n_estimators=50 ................\n",
      "[CV] . learning_rate=0.01, max_depth=2, n_estimators=50, total=  16.7s\n",
      "[CV] learning_rate=0.01, max_depth=2, n_estimators=100 ...............\n",
      "[CV]  learning_rate=0.01, max_depth=2, n_estimators=100, total=  33.2s\n",
      "[CV] learning_rate=0.01, max_depth=2, n_estimators=100 ...............\n",
      "[CV]  learning_rate=0.01, max_depth=2, n_estimators=100, total=  33.4s\n",
      "[CV] learning_rate=0.01, max_depth=2, n_estimators=250 ...............\n",
      "[CV]  learning_rate=0.01, max_depth=2, n_estimators=250, total= 1.5min\n",
      "[CV] learning_rate=0.01, max_depth=5, n_estimators=50 ................\n",
      "[CV] . learning_rate=0.01, max_depth=5, n_estimators=50, total=  48.5s\n",
      "[CV] learning_rate=0.01, max_depth=5, n_estimators=100 ...............\n",
      "[CV]  learning_rate=0.01, max_depth=5, n_estimators=100, total= 1.6min\n",
      "[CV] learning_rate=0.01, max_depth=5, n_estimators=250 ...............\n",
      "[CV]  learning_rate=0.01, max_depth=5, n_estimators=250, total= 4.3min\n",
      "[CV] learning_rate=0.01, max_depth=5, n_estimators=250 ...............\n",
      "[CV]  learning_rate=0.01, max_depth=5, n_estimators=250, total= 4.3min\n",
      "[CV] learning_rate=0.01, max_depth=10, n_estimators=100 ..............\n",
      "[CV]  learning_rate=0.01, max_depth=10, n_estimators=100, total= 5.5min\n",
      "[CV] learning_rate=0.01, max_depth=10, n_estimators=250 ..............\n",
      "[CV]  learning_rate=0.01, max_depth=10, n_estimators=250, total=15.1min\n"
     ]
    },
    {
     "name": "stderr",
     "output_type": "stream",
     "text": [
      "/opt/conda/lib/python3.7/site-packages/joblib/externals/loky/process_executor.py:705: UserWarning:\n",
      "\n",
      "A worker stopped while some jobs were given to the executor. This can be caused by a too short worker timeout or by a memory leak.\n",
      "\n"
     ]
    },
    {
     "name": "stdout",
     "output_type": "stream",
     "text": [
      "[CV] learning_rate=0.01, max_depth=2, n_estimators=50 ................\n",
      "[CV] . learning_rate=0.01, max_depth=2, n_estimators=50, total=  17.4s\n",
      "[CV] learning_rate=0.01, max_depth=2, n_estimators=100 ...............\n",
      "[CV]  learning_rate=0.01, max_depth=2, n_estimators=100, total=  33.9s\n",
      "[CV] learning_rate=0.01, max_depth=2, n_estimators=250 ...............\n",
      "[CV]  learning_rate=0.01, max_depth=2, n_estimators=250, total= 1.4min\n",
      "[CV] learning_rate=0.01, max_depth=5, n_estimators=50 ................\n",
      "[CV] . learning_rate=0.01, max_depth=5, n_estimators=50, total=  45.3s\n",
      "[CV] learning_rate=0.01, max_depth=5, n_estimators=50 ................\n",
      "[CV] . learning_rate=0.01, max_depth=5, n_estimators=50, total=  47.3s\n",
      "[CV] learning_rate=0.01, max_depth=5, n_estimators=100 ...............\n",
      "[CV]  learning_rate=0.01, max_depth=5, n_estimators=100, total= 1.6min\n",
      "[CV] learning_rate=0.01, max_depth=5, n_estimators=250 ...............\n",
      "[CV]  learning_rate=0.01, max_depth=5, n_estimators=250, total= 4.2min\n",
      "[CV] learning_rate=0.01, max_depth=10, n_estimators=50 ...............\n",
      "[CV]  learning_rate=0.01, max_depth=10, n_estimators=50, total= 2.6min\n",
      "[CV] learning_rate=0.01, max_depth=10, n_estimators=50 ...............\n",
      "[CV]  learning_rate=0.01, max_depth=10, n_estimators=50, total= 2.6min\n",
      "[CV] learning_rate=0.01, max_depth=10, n_estimators=100 ..............\n",
      "[CV]  learning_rate=0.01, max_depth=10, n_estimators=100, total= 5.3min\n",
      "[CV] learning_rate=0.01, max_depth=10, n_estimators=250 ..............\n",
      "[CV]  learning_rate=0.01, max_depth=10, n_estimators=250, total=15.2min\n",
      "[CV] learning_rate=0.01, max_depth=2, n_estimators=50 ................\n",
      "[CV] . learning_rate=0.01, max_depth=2, n_estimators=50, total=  16.2s\n",
      "[CV] learning_rate=0.01, max_depth=2, n_estimators=50 ................\n",
      "[CV] . learning_rate=0.01, max_depth=2, n_estimators=50, total=  16.9s\n",
      "[CV] learning_rate=0.01, max_depth=2, n_estimators=100 ...............\n",
      "[CV]  learning_rate=0.01, max_depth=2, n_estimators=100, total=  33.7s\n",
      "[CV] learning_rate=0.01, max_depth=2, n_estimators=250 ...............\n",
      "[CV]  learning_rate=0.01, max_depth=2, n_estimators=250, total= 1.4min\n",
      "[CV] learning_rate=0.01, max_depth=5, n_estimators=50 ................\n",
      "[CV] . learning_rate=0.01, max_depth=5, n_estimators=50, total=  46.9s\n",
      "[CV] learning_rate=0.01, max_depth=5, n_estimators=50 ................\n",
      "[CV] . learning_rate=0.01, max_depth=5, n_estimators=50, total=  47.7s\n",
      "[CV] learning_rate=0.01, max_depth=5, n_estimators=100 ...............\n",
      "[CV]  learning_rate=0.01, max_depth=5, n_estimators=100, total= 1.6min\n",
      "[CV] learning_rate=0.01, max_depth=5, n_estimators=250 ...............\n",
      "[CV]  learning_rate=0.01, max_depth=5, n_estimators=250, total= 4.3min\n",
      "[CV] learning_rate=0.01, max_depth=10, n_estimators=50 ...............\n",
      "[CV]  learning_rate=0.01, max_depth=10, n_estimators=50, total= 2.6min\n",
      "[CV] learning_rate=0.01, max_depth=10, n_estimators=50 ...............\n",
      "[CV]  learning_rate=0.01, max_depth=10, n_estimators=50, total= 2.6min\n",
      "[CV] learning_rate=0.01, max_depth=10, n_estimators=100 ..............\n",
      "[CV]  learning_rate=0.01, max_depth=10, n_estimators=100, total= 5.4min\n",
      "[CV] learning_rate=0.01, max_depth=10, n_estimators=250 ..............\n",
      "[CV]  learning_rate=0.01, max_depth=10, n_estimators=250, total=15.2min\n",
      "[CV] learning_rate=0.01, max_depth=2, n_estimators=50 ................\n",
      "[CV] . learning_rate=0.01, max_depth=2, n_estimators=50, total=  17.0s\n",
      "[CV] learning_rate=0.01, max_depth=2, n_estimators=100 ...............\n",
      "[CV]  learning_rate=0.01, max_depth=2, n_estimators=100, total=  34.5s\n",
      "[CV] learning_rate=0.01, max_depth=2, n_estimators=250 ...............\n",
      "[CV]  learning_rate=0.01, max_depth=2, n_estimators=250, total= 1.4min\n",
      "[CV] learning_rate=0.01, max_depth=2, n_estimators=250 ...............\n",
      "[CV]  learning_rate=0.01, max_depth=2, n_estimators=250, total= 1.4min\n",
      "[CV] learning_rate=0.01, max_depth=5, n_estimators=100 ...............\n",
      "[CV]  learning_rate=0.01, max_depth=5, n_estimators=100, total= 1.6min\n",
      "[CV] learning_rate=0.01, max_depth=5, n_estimators=100 ...............\n",
      "[CV]  learning_rate=0.01, max_depth=5, n_estimators=100, total= 1.6min\n",
      "[CV] learning_rate=0.01, max_depth=5, n_estimators=250 ...............\n",
      "[CV]  learning_rate=0.01, max_depth=5, n_estimators=250, total= 4.3min\n",
      "[CV] learning_rate=0.01, max_depth=10, n_estimators=50 ...............\n",
      "[CV]  learning_rate=0.01, max_depth=10, n_estimators=50, total= 2.5min\n",
      "[CV] learning_rate=0.01, max_depth=10, n_estimators=100 ..............\n",
      "[CV]  learning_rate=0.01, max_depth=10, n_estimators=100, total= 5.4min\n",
      "[CV] learning_rate=0.01, max_depth=10, n_estimators=100 ..............\n",
      "[CV]  learning_rate=0.01, max_depth=10, n_estimators=100, total= 5.3min\n",
      "[CV] learning_rate=0.01, max_depth=10, n_estimators=250 ..............\n",
      "[CV]  learning_rate=0.01, max_depth=10, n_estimators=250, total=15.2min\n",
      "[CV] learning_rate=0.1, max_depth=2, n_estimators=50 .................\n",
      "[CV] .. learning_rate=0.1, max_depth=2, n_estimators=50, total=  18.2s\n",
      "[CV] learning_rate=0.1, max_depth=2, n_estimators=50 .................\n",
      "[CV] .. learning_rate=0.1, max_depth=2, n_estimators=50, total=  17.2s\n",
      "[CV] learning_rate=0.1, max_depth=2, n_estimators=50 .................\n",
      "[CV] .. learning_rate=0.1, max_depth=2, n_estimators=50, total=  17.4s\n",
      "[CV] learning_rate=0.1, max_depth=2, n_estimators=100 ................\n",
      "[CV] . learning_rate=0.1, max_depth=2, n_estimators=100, total=  33.2s\n",
      "[CV] learning_rate=0.1, max_depth=2, n_estimators=100 ................\n",
      "[CV] . learning_rate=0.1, max_depth=2, n_estimators=100, total=  35.7s\n",
      "[CV] learning_rate=0.1, max_depth=2, n_estimators=100 ................\n",
      "[CV] . learning_rate=0.1, max_depth=2, n_estimators=100, total=  36.8s\n",
      "[CV] learning_rate=0.1, max_depth=2, n_estimators=250 ................\n",
      "[CV] . learning_rate=0.1, max_depth=2, n_estimators=250, total= 1.4min\n",
      "[CV] learning_rate=0.1, max_depth=2, n_estimators=250 ................\n",
      "[CV] . learning_rate=0.1, max_depth=2, n_estimators=250, total= 1.5min\n",
      "[CV] learning_rate=0.1, max_depth=5, n_estimators=50 .................\n",
      "[CV] .. learning_rate=0.1, max_depth=5, n_estimators=50, total=  53.4s\n",
      "[CV] learning_rate=0.1, max_depth=5, n_estimators=100 ................\n",
      "[CV] . learning_rate=0.1, max_depth=5, n_estimators=100, total= 1.8min\n",
      "[CV] learning_rate=0.1, max_depth=5, n_estimators=100 ................\n",
      "[CV] . learning_rate=0.1, max_depth=5, n_estimators=100, total= 1.7min\n",
      "[CV] learning_rate=0.1, max_depth=5, n_estimators=250 ................\n",
      "[CV] . learning_rate=0.1, max_depth=5, n_estimators=250, total= 4.4min\n",
      "[CV] learning_rate=0.1, max_depth=10, n_estimators=50 ................\n",
      "[CV] . learning_rate=0.1, max_depth=10, n_estimators=50, total= 3.1min\n",
      "[CV] learning_rate=0.1, max_depth=10, n_estimators=50 ................\n",
      "[CV] . learning_rate=0.1, max_depth=10, n_estimators=50, total= 3.1min\n",
      "[CV] learning_rate=0.1, max_depth=10, n_estimators=100 ...............\n",
      "[CV]  learning_rate=0.1, max_depth=10, n_estimators=100, total= 6.4min\n",
      "[CV] learning_rate=0.1, max_depth=10, n_estimators=250 ...............\n",
      "[CV]  learning_rate=0.1, max_depth=10, n_estimators=250, total=15.5min\n"
     ]
    },
    {
     "name": "stderr",
     "output_type": "stream",
     "text": [
      "[Parallel(n_jobs=-1)]: Done 135 out of 135 | elapsed: 120.5min finished\n"
     ]
    },
    {
     "name": "stdout",
     "output_type": "stream",
     "text": [
      "Best Score:  -0.00014680393243808845\n",
      "Best Params:  {'learning_rate': 0.1, 'max_depth': 10, 'n_estimators': 250}\n",
      "CPU times: user 3min 18s, sys: 1.77 s, total: 3min 19s\n",
      "Wall time: 2h 1min 23s\n"
     ]
    }
   ],
   "source": [
    "%%time\n",
    "xgb_grid.fit(X_val, y_val)\n",
    "\n",
    "xgb_best = xgb_grid.best_estimator_\n",
    "\n",
    "print(\"Best Score: \", xgb_grid.best_score_)\n",
    "print(\"Best Params: \", xgb_grid.best_params_)"
   ]
  },
  {
   "cell_type": "code",
   "execution_count": 38,
   "id": "99b2d2de",
   "metadata": {
    "execution": {
     "iopub.execute_input": "2022-03-04T07:19:52.492828Z",
     "iopub.status.busy": "2022-03-04T07:19:52.491879Z",
     "iopub.status.idle": "2022-03-04T07:19:53.928036Z",
     "shell.execute_reply": "2022-03-04T07:19:53.927203Z"
    },
    "papermill": {
     "duration": 1.490967,
     "end_time": "2022-03-04T07:19:53.928206",
     "exception": false,
     "start_time": "2022-03-04T07:19:52.437239",
     "status": "completed"
    },
    "tags": []
   },
   "outputs": [
    {
     "name": "stdout",
     "output_type": "stream",
     "text": [
      "Root Mean Square score:  0.011247815358826938\n"
     ]
    }
   ],
   "source": [
    "xgb_pred = xgb_best.predict(X_test)\n",
    "\n",
    "rmse_xgb = np.sqrt(mean_squared_error(y_test, xgb_pred))\n",
    "\n",
    "print(\"Root Mean Square score: \", rmse_xgb)"
   ]
  },
  {
   "cell_type": "code",
   "execution_count": null,
   "id": "e56f0164",
   "metadata": {
    "papermill": {
     "duration": 0.049317,
     "end_time": "2022-03-04T07:19:54.030513",
     "exception": false,
     "start_time": "2022-03-04T07:19:53.981196",
     "status": "completed"
    },
    "tags": []
   },
   "outputs": [],
   "source": []
  }
 ],
 "metadata": {
  "kernelspec": {
   "display_name": "Python 3",
   "language": "python",
   "name": "python3"
  },
  "language_info": {
   "codemirror_mode": {
    "name": "ipython",
    "version": 3
   },
   "file_extension": ".py",
   "mimetype": "text/x-python",
   "name": "python",
   "nbconvert_exporter": "python",
   "pygments_lexer": "ipython3",
   "version": "3.7.12"
  },
  "papermill": {
   "default_parameters": {},
   "duration": 8236.488978,
   "end_time": "2022-03-04T07:19:55.816918",
   "environment_variables": {},
   "exception": null,
   "input_path": "__notebook__.ipynb",
   "output_path": "__notebook__.ipynb",
   "parameters": {},
   "start_time": "2022-03-04T05:02:39.327940",
   "version": "2.3.3"
  }
 },
 "nbformat": 4,
 "nbformat_minor": 5
}
